{
  "nbformat": 4,
  "nbformat_minor": 0,
  "metadata": {
    "colab": {
      "name": "Histogram_and_CDF.ipynb",
      "version": "0.3.2",
      "provenance": [],
      "collapsed_sections": [],
      "include_colab_link": true
    },
    "language_info": {
      "codemirror_mode": {
        "name": "ipython",
        "version": 3
      },
      "file_extension": ".py",
      "mimetype": "text/x-python",
      "name": "python",
      "nbconvert_exporter": "python",
      "pygments_lexer": "ipython3",
      "version": "3.7.0"
    },
    "kernelspec": {
      "display_name": "Python 3",
      "language": "python",
      "name": "python3"
    }
  },
  "cells": [
    {
      "cell_type": "markdown",
      "metadata": {
        "id": "view-in-github",
        "colab_type": "text"
      },
      "source": [
        "<a href=\"https://colab.research.google.com/github/william-screen/data-visualization-590/blob/master/labs/Histogram_and_CDF.ipynb\" target=\"_parent\"><img src=\"https://colab.research.google.com/assets/colab-badge.svg\" alt=\"Open In Colab\"/></a>"
      ]
    },
    {
      "cell_type": "markdown",
      "metadata": {
        "id": "kDcs_Gv1nvz1",
        "colab_type": "text"
      },
      "source": [
        "# Module 8: Histogram and CDF\n",
        "\n",
        "A deep dive into Histogram + CDF. "
      ]
    },
    {
      "cell_type": "code",
      "metadata": {
        "id": "eJP629Lfnvz1",
        "colab_type": "code",
        "colab": {}
      },
      "source": [
        "import matplotlib.pyplot as plt\n",
        "import numpy as np\n",
        "import seaborn as sns\n",
        "import altair as alt\n",
        "import pandas as pd\n",
        "%matplotlib inline "
      ],
      "execution_count": 0,
      "outputs": []
    },
    {
      "cell_type": "markdown",
      "metadata": {
        "id": "7gUotfvKnvz4",
        "colab_type": "text"
      },
      "source": [
        "`matplotlib` 2.1 has a bug in the histogram. Make sure to have version 2.2."
      ]
    },
    {
      "cell_type": "code",
      "metadata": {
        "id": "X6npNkumnvz5",
        "colab_type": "code",
        "outputId": "be1858bd-17b2-4d46-9539-449b4ada4707",
        "colab": {
          "base_uri": "https://localhost:8080/",
          "height": 34
        }
      },
      "source": [
        "import matplotlib\n",
        "matplotlib.__version__"
      ],
      "execution_count": 3,
      "outputs": [
        {
          "output_type": "execute_result",
          "data": {
            "text/plain": [
              "'3.0.3'"
            ]
          },
          "metadata": {
            "tags": []
          },
          "execution_count": 3
        }
      ]
    },
    {
      "cell_type": "markdown",
      "metadata": {
        "id": "4-LSKKzWnvz8",
        "colab_type": "text"
      },
      "source": [
        "## The tricky histogram with pre-counted data"
      ]
    },
    {
      "cell_type": "markdown",
      "metadata": {
        "id": "iTZ7Ia7gnvz9",
        "colab_type": "text"
      },
      "source": [
        "Let's revisit the table from the class\n",
        "\n",
        "| Hours | Frequency |\n",
        "|-------|-----------|\n",
        "| 0-1   | 4,300     |\n",
        "| 1-3   | 6,900     |\n",
        "| 3-5   | 4,900     |\n",
        "| 5-10  | 2,000     |\n",
        "| 10-24 | 2,100     |"
      ]
    },
    {
      "cell_type": "markdown",
      "metadata": {
        "id": "-JK0-qgvnvz9",
        "colab_type": "text"
      },
      "source": [
        "You can draw a histogram by just providing bins and counts instead of a list of numbers. So, let's try that. "
      ]
    },
    {
      "cell_type": "code",
      "metadata": {
        "id": "NnDNwJdxnvz-",
        "colab_type": "code",
        "colab": {}
      },
      "source": [
        "bins = [0, 1, 3, 5, 10, 24]\n",
        "data = {0.5: 4300, 2: 6900, 4: 4900, 7: 2000, 15: 2100} "
      ],
      "execution_count": 0,
      "outputs": []
    },
    {
      "cell_type": "markdown",
      "metadata": {
        "id": "NsZzBPBJnv0A",
        "colab_type": "text"
      },
      "source": [
        "**Q: Draw histogram using this data. Don't normalize it for now.** Useful query: [Google search: matplotlib histogram pre-counted](https://www.google.com/search?client=safari&rls=en&q=matplotlib+histogram+already+counted&ie=UTF-8&oe=UTF-8#q=matplotlib+histogram+pre-counted)"
      ]
    },
    {
      "cell_type": "code",
      "metadata": {
        "id": "zwnvwfctnv0B",
        "colab_type": "code",
        "outputId": "466bf852-8bae-49f3-f862-4a408a9ecb43",
        "colab": {
          "base_uri": "https://localhost:8080/",
          "height": 320
        }
      },
      "source": [
        "# TODO: draw a histogram with weighted data. \n",
        "# Hint: list(an_array) can make the array to list, which is the required input format of hist function\n",
        "val, weight = zip(*[(k, v) for k,v in data.items()])\n",
        "plt.hist(val, weights=weight, bins=bins)"
      ],
      "execution_count": 5,
      "outputs": [
        {
          "output_type": "execute_result",
          "data": {
            "text/plain": [
              "(array([4300., 6900., 4900., 2000., 2100.]),\n",
              " array([ 0,  1,  3,  5, 10, 24]),\n",
              " <a list of 5 Patch objects>)"
            ]
          },
          "metadata": {
            "tags": []
          },
          "execution_count": 5
        },
        {
          "output_type": "display_data",
          "data": {
            "image/png": "[encoded data removed]",
            "text/plain": [
              "<Figure size 432x288 with 1 Axes>"
            ]
          },
          "metadata": {
            "tags": []
          }
        }
      ]
    },
    {
      "cell_type": "markdown",
      "metadata": {
        "id": "nBipCLtbnv0D",
        "colab_type": "text"
      },
      "source": [
        "As you can see, the **default histogram does not normalize with binwidth and simply shows the counts**! This can be very misleading if you are working with variable bin width (e.g. logarithmic bins). So please be mindful about histograms when you work with variable bins. \n",
        "\n",
        "**Q: You can fix this by using the `density` option. **"
      ]
    },
    {
      "cell_type": "code",
      "metadata": {
        "id": "eLDM9Wranv0E",
        "colab_type": "code",
        "outputId": "3cadcff0-7891-41ff-a441-5069d211d7c4",
        "colab": {
          "base_uri": "https://localhost:8080/",
          "height": 320
        }
      },
      "source": [
        "# TODO: fix it with density option. \n",
        "plt.hist(val, weights=weight, bins=bins, density=True)"
      ],
      "execution_count": 6,
      "outputs": [
        {
          "output_type": "execute_result",
          "data": {
            "text/plain": [
              "(array([0.21287129, 0.17079208, 0.12128713, 0.01980198, 0.00742574]),\n",
              " array([ 0,  1,  3,  5, 10, 24]),\n",
              " <a list of 5 Patch objects>)"
            ]
          },
          "metadata": {
            "tags": []
          },
          "execution_count": 6
        },
        {
          "output_type": "display_data",
          "data": {
            "image/png": "[encoded data removed]",
            "text/plain": [
              "<Figure size 432x288 with 1 Axes>"
            ]
          },
          "metadata": {
            "tags": []
          }
        }
      ]
    },
    {
      "cell_type": "markdown",
      "metadata": {
        "id": "u0eQ5KiHnv0G",
        "colab_type": "text"
      },
      "source": [
        "## Let's use an actual dataset"
      ]
    },
    {
      "cell_type": "code",
      "metadata": {
        "id": "kOjCfd4-nv0H",
        "colab_type": "code",
        "colab": {}
      },
      "source": [
        "import vega_datasets"
      ],
      "execution_count": 0,
      "outputs": []
    },
    {
      "cell_type": "code",
      "metadata": {
        "id": "E66oDqj8nv0I",
        "colab_type": "code",
        "outputId": "a678c471-108b-4ae8-b986-7d599d3c7822",
        "colab": {
          "base_uri": "https://localhost:8080/",
          "height": 306
        }
      },
      "source": [
        "movies = vega_datasets.data.movies()\n",
        "movies.head()"
      ],
      "execution_count": 8,
      "outputs": [
        {
          "output_type": "execute_result",
          "data": {
            "text/html": [
              "<div>\n",
              "<style scoped>\n",
              "    .dataframe tbody tr th:only-of-type {\n",
              "        vertical-align: middle;\n",
              "    }\n",
              "\n",
              "    .dataframe tbody tr th {\n",
              "        vertical-align: top;\n",
              "    }\n",
              "\n",
              "    .dataframe thead th {\n",
              "        text-align: right;\n",
              "    }\n",
              "</style>\n",
              "<table border=\"1\" class=\"dataframe\">\n",
              "  <thead>\n",
              "    <tr style=\"text-align: right;\">\n",
              "      <th></th>\n",
              "      <th>Creative_Type</th>\n",
              "      <th>Director</th>\n",
              "      <th>Distributor</th>\n",
              "      <th>IMDB_Rating</th>\n",
              "      <th>IMDB_Votes</th>\n",
              "      <th>MPAA_Rating</th>\n",
              "      <th>Major_Genre</th>\n",
              "      <th>Production_Budget</th>\n",
              "      <th>Release_Date</th>\n",
              "      <th>Rotten_Tomatoes_Rating</th>\n",
              "      <th>Running_Time_min</th>\n",
              "      <th>Source</th>\n",
              "      <th>Title</th>\n",
              "      <th>US_DVD_Sales</th>\n",
              "      <th>US_Gross</th>\n",
              "      <th>Worldwide_Gross</th>\n",
              "    </tr>\n",
              "  </thead>\n",
              "  <tbody>\n",
              "    <tr>\n",
              "      <th>0</th>\n",
              "      <td>None</td>\n",
              "      <td>None</td>\n",
              "      <td>Gramercy</td>\n",
              "      <td>6.1</td>\n",
              "      <td>1071.0</td>\n",
              "      <td>R</td>\n",
              "      <td>None</td>\n",
              "      <td>8000000.0</td>\n",
              "      <td>Jun 12 1998</td>\n",
              "      <td>NaN</td>\n",
              "      <td>NaN</td>\n",
              "      <td>None</td>\n",
              "      <td>The Land Girls</td>\n",
              "      <td>NaN</td>\n",
              "      <td>146083.0</td>\n",
              "      <td>146083.0</td>\n",
              "    </tr>\n",
              "    <tr>\n",
              "      <th>1</th>\n",
              "      <td>None</td>\n",
              "      <td>None</td>\n",
              "      <td>Strand</td>\n",
              "      <td>6.9</td>\n",
              "      <td>207.0</td>\n",
              "      <td>R</td>\n",
              "      <td>Drama</td>\n",
              "      <td>300000.0</td>\n",
              "      <td>Aug 07 1998</td>\n",
              "      <td>NaN</td>\n",
              "      <td>NaN</td>\n",
              "      <td>None</td>\n",
              "      <td>First Love, Last Rites</td>\n",
              "      <td>NaN</td>\n",
              "      <td>10876.0</td>\n",
              "      <td>10876.0</td>\n",
              "    </tr>\n",
              "    <tr>\n",
              "      <th>2</th>\n",
              "      <td>None</td>\n",
              "      <td>None</td>\n",
              "      <td>Lionsgate</td>\n",
              "      <td>6.8</td>\n",
              "      <td>865.0</td>\n",
              "      <td>None</td>\n",
              "      <td>Comedy</td>\n",
              "      <td>250000.0</td>\n",
              "      <td>Aug 28 1998</td>\n",
              "      <td>NaN</td>\n",
              "      <td>NaN</td>\n",
              "      <td>None</td>\n",
              "      <td>I Married a Strange Person</td>\n",
              "      <td>NaN</td>\n",
              "      <td>203134.0</td>\n",
              "      <td>203134.0</td>\n",
              "    </tr>\n",
              "    <tr>\n",
              "      <th>3</th>\n",
              "      <td>None</td>\n",
              "      <td>None</td>\n",
              "      <td>Fine Line</td>\n",
              "      <td>NaN</td>\n",
              "      <td>NaN</td>\n",
              "      <td>None</td>\n",
              "      <td>Comedy</td>\n",
              "      <td>300000.0</td>\n",
              "      <td>Sep 11 1998</td>\n",
              "      <td>13.0</td>\n",
              "      <td>NaN</td>\n",
              "      <td>None</td>\n",
              "      <td>Let's Talk About Sex</td>\n",
              "      <td>NaN</td>\n",
              "      <td>373615.0</td>\n",
              "      <td>373615.0</td>\n",
              "    </tr>\n",
              "    <tr>\n",
              "      <th>4</th>\n",
              "      <td>Contemporary Fiction</td>\n",
              "      <td>None</td>\n",
              "      <td>Trimark</td>\n",
              "      <td>3.4</td>\n",
              "      <td>165.0</td>\n",
              "      <td>R</td>\n",
              "      <td>Drama</td>\n",
              "      <td>1000000.0</td>\n",
              "      <td>Oct 09 1998</td>\n",
              "      <td>62.0</td>\n",
              "      <td>NaN</td>\n",
              "      <td>Original Screenplay</td>\n",
              "      <td>Slam</td>\n",
              "      <td>NaN</td>\n",
              "      <td>1009819.0</td>\n",
              "      <td>1087521.0</td>\n",
              "    </tr>\n",
              "  </tbody>\n",
              "</table>\n",
              "</div>"
            ],
            "text/plain": [
              "          Creative_Type Director  ...   US_Gross  Worldwide_Gross\n",
              "0                  None     None  ...   146083.0         146083.0\n",
              "1                  None     None  ...    10876.0          10876.0\n",
              "2                  None     None  ...   203134.0         203134.0\n",
              "3                  None     None  ...   373615.0         373615.0\n",
              "4  Contemporary Fiction     None  ...  1009819.0        1087521.0\n",
              "\n",
              "[5 rows x 16 columns]"
            ]
          },
          "metadata": {
            "tags": []
          },
          "execution_count": 8
        }
      ]
    },
    {
      "cell_type": "markdown",
      "metadata": {
        "id": "OsT9Uf_znv0M",
        "colab_type": "text"
      },
      "source": [
        "Let's plot the histogram of IMDB ratings. "
      ]
    },
    {
      "cell_type": "code",
      "metadata": {
        "id": "mp30-Ar9nv0N",
        "colab_type": "code",
        "outputId": "69fc666b-d5e7-4885-9f27-56ad7ce0b858",
        "colab": {
          "base_uri": "https://localhost:8080/",
          "height": 388
        }
      },
      "source": [
        "plt.hist(movies.IMDB_Rating)"
      ],
      "execution_count": 9,
      "outputs": [
        {
          "output_type": "stream",
          "text": [
            "/usr/local/lib/python3.6/dist-packages/numpy/lib/histograms.py:824: RuntimeWarning: invalid value encountered in greater_equal\n",
            "  keep = (tmp_a >= first_edge)\n",
            "/usr/local/lib/python3.6/dist-packages/numpy/lib/histograms.py:825: RuntimeWarning: invalid value encountered in less_equal\n",
            "  keep &= (tmp_a <= last_edge)\n"
          ],
          "name": "stderr"
        },
        {
          "output_type": "execute_result",
          "data": {
            "text/plain": [
              "(array([  9.,  39.,  76., 133., 293., 599., 784., 684., 323.,  48.]),\n",
              " array([1.4 , 2.18, 2.96, 3.74, 4.52, 5.3 , 6.08, 6.86, 7.64, 8.42, 9.2 ]),\n",
              " <a list of 10 Patch objects>)"
            ]
          },
          "metadata": {
            "tags": []
          },
          "execution_count": 9
        },
        {
          "output_type": "display_data",
          "data": {
            "image/png": "[encoded data removed]",
            "text/plain": [
              "<Figure size 432x288 with 1 Axes>"
            ]
          },
          "metadata": {
            "tags": []
          }
        }
      ]
    },
    {
      "cell_type": "markdown",
      "metadata": {
        "id": "p-JDCz10nv0Q",
        "colab_type": "text"
      },
      "source": [
        "If you run the above cell, you get an error? What's going on? \n",
        "\n",
        "The problem is that the column contains `NaN` (Not a Number) values, i.e. missing data. The following command check whether each value is a `NaN` and returns the result. "
      ]
    },
    {
      "cell_type": "code",
      "metadata": {
        "id": "iFZdml_fnv0R",
        "colab_type": "code",
        "outputId": "f5cb086d-656d-43aa-9d77-540ec98aee4a",
        "colab": {
          "base_uri": "https://localhost:8080/",
          "height": 1071
        }
      },
      "source": [
        "movies.IMDB_Rating.isna()"
      ],
      "execution_count": 10,
      "outputs": [
        {
          "output_type": "execute_result",
          "data": {
            "text/plain": [
              "0       False\n",
              "1       False\n",
              "2       False\n",
              "3        True\n",
              "4       False\n",
              "5        True\n",
              "6       False\n",
              "7       False\n",
              "8       False\n",
              "9       False\n",
              "10      False\n",
              "11      False\n",
              "12      False\n",
              "13       True\n",
              "14      False\n",
              "15       True\n",
              "16      False\n",
              "17      False\n",
              "18      False\n",
              "19      False\n",
              "20      False\n",
              "21      False\n",
              "22      False\n",
              "23      False\n",
              "24      False\n",
              "25       True\n",
              "26       True\n",
              "27      False\n",
              "28      False\n",
              "29       True\n",
              "        ...  \n",
              "3171    False\n",
              "3172    False\n",
              "3173    False\n",
              "3174    False\n",
              "3175    False\n",
              "3176    False\n",
              "3177    False\n",
              "3178    False\n",
              "3179     True\n",
              "3180    False\n",
              "3181    False\n",
              "3182     True\n",
              "3183    False\n",
              "3184    False\n",
              "3185    False\n",
              "3186    False\n",
              "3187    False\n",
              "3188     True\n",
              "3189     True\n",
              "3190    False\n",
              "3191    False\n",
              "3192     True\n",
              "3193    False\n",
              "3194    False\n",
              "3195    False\n",
              "3196    False\n",
              "3197     True\n",
              "3198    False\n",
              "3199    False\n",
              "3200    False\n",
              "Name: IMDB_Rating, Length: 3201, dtype: bool"
            ]
          },
          "metadata": {
            "tags": []
          },
          "execution_count": 10
        }
      ]
    },
    {
      "cell_type": "markdown",
      "metadata": {
        "id": "pbBqh45Pnv0T",
        "colab_type": "text"
      },
      "source": [
        "As you can see there are a bunch of missing rows. You can count them. "
      ]
    },
    {
      "cell_type": "code",
      "metadata": {
        "id": "DIr0IeWWnv0U",
        "colab_type": "code",
        "outputId": "dcdd725a-2f42-4ce9-ae2a-3ac50ccf69d3",
        "colab": {
          "base_uri": "https://localhost:8080/",
          "height": 34
        }
      },
      "source": [
        "sum(movies.IMDB_Rating.isna())"
      ],
      "execution_count": 11,
      "outputs": [
        {
          "output_type": "execute_result",
          "data": {
            "text/plain": [
              "213"
            ]
          },
          "metadata": {
            "tags": []
          },
          "execution_count": 11
        }
      ]
    },
    {
      "cell_type": "markdown",
      "metadata": {
        "id": "1wk7z2gmnv0W",
        "colab_type": "text"
      },
      "source": [
        "or drop them. "
      ]
    },
    {
      "cell_type": "code",
      "metadata": {
        "id": "W0YiQG-_nv0X",
        "colab_type": "code",
        "outputId": "721573f8-b8e9-42b7-e06a-8329fc20e50a",
        "colab": {
          "base_uri": "https://localhost:8080/",
          "height": 34
        }
      },
      "source": [
        "IMDB_ratings_nan_dropped = movies.IMDB_Rating.dropna()\n",
        "len(IMDB_ratings_nan_dropped)"
      ],
      "execution_count": 12,
      "outputs": [
        {
          "output_type": "execute_result",
          "data": {
            "text/plain": [
              "2988"
            ]
          },
          "metadata": {
            "tags": []
          },
          "execution_count": 12
        }
      ]
    },
    {
      "cell_type": "code",
      "metadata": {
        "id": "gyVEjiEonv0b",
        "colab_type": "code",
        "outputId": "ef11b2a0-0405-4528-9d45-789beb96a72e",
        "colab": {
          "base_uri": "https://localhost:8080/",
          "height": 34
        }
      },
      "source": [
        "len(IMDB_ratings_nan_dropped) + 213"
      ],
      "execution_count": 13,
      "outputs": [
        {
          "output_type": "execute_result",
          "data": {
            "text/plain": [
              "3201"
            ]
          },
          "metadata": {
            "tags": []
          },
          "execution_count": 13
        }
      ]
    },
    {
      "cell_type": "markdown",
      "metadata": {
        "id": "2t7A7xaRnv0d",
        "colab_type": "text"
      },
      "source": [
        "The `dropna` can be applied to the dataframe too. \n",
        "\n",
        "**Q: drop rows from `movies` dataframe where either `IMDB_Rating` or `IMDB_Votes` is `NaN`.**"
      ]
    },
    {
      "cell_type": "code",
      "metadata": {
        "id": "v7y4sMa_nv0f",
        "colab_type": "code",
        "outputId": "ff4f3ccc-4a42-4d34-c8ed-9fae776eb236",
        "colab": {
          "base_uri": "https://localhost:8080/",
          "height": 85
        }
      },
      "source": [
        "# TODO\n",
        "print('Number of IMDB_Rating NaN rows BEFORE: {0} '.format(sum(movies.IMDB_Rating.isna())))\n",
        "print('Number of IMDB_Votes NaN rows BEFORE: {0} '.format(sum(movies.IMDB_Votes.isna())))\n",
        "movies.dropna(subset=['IMDB_Rating', 'IMDB_Votes'], inplace = True)\n",
        "print('Number of IMDB_Rating NaN rows AFTER: {0} '.format(sum(movies.IMDB_Rating.isna())))\n",
        "print('Number of IMDB_Votes NaN rows AFTER: {0} '.format(sum(movies.IMDB_Votes.isna())))"
      ],
      "execution_count": 14,
      "outputs": [
        {
          "output_type": "stream",
          "text": [
            "Number of IMDB_Rating NaN rows BEFORE: 213 \n",
            "Number of IMDB_Votes NaN rows BEFORE: 213 \n",
            "Number of IMDB_Rating NaN rows AFTER: 0 \n",
            "Number of IMDB_Votes NaN rows AFTER: 0 \n"
          ],
          "name": "stdout"
        }
      ]
    },
    {
      "cell_type": "code",
      "metadata": {
        "id": "DHAwEtErnv0k",
        "colab_type": "code",
        "outputId": "c3da86b7-0804-40d2-e1dd-a0cb5e61aa9a",
        "colab": {
          "base_uri": "https://localhost:8080/",
          "height": 34
        }
      },
      "source": [
        "# Both should be zero. \n",
        "print(sum(movies.IMDB_Rating.isna()), sum(movies.IMDB_Votes.isna()))"
      ],
      "execution_count": 15,
      "outputs": [
        {
          "output_type": "stream",
          "text": [
            "0 0\n"
          ],
          "name": "stdout"
        }
      ]
    },
    {
      "cell_type": "markdown",
      "metadata": {
        "id": "5eTIaZIanv0q",
        "colab_type": "text"
      },
      "source": [
        "How does `matplotlib` decides the bins? Actually `matplotlib`'s `hist` function uses `numpy`'s `histogram` function under the hood. "
      ]
    },
    {
      "cell_type": "markdown",
      "metadata": {
        "id": "Kxbol6Adnv0r",
        "colab_type": "text"
      },
      "source": [
        "**Q: Plot the histogram of movie ratings (`IMDB_Rating`) using the `plt.hist()` function.**"
      ]
    },
    {
      "cell_type": "code",
      "metadata": {
        "id": "tleoKIRInv0r",
        "colab_type": "code",
        "outputId": "118bf3dd-f446-47e9-ad1f-b00abd412bcd",
        "colab": {
          "base_uri": "https://localhost:8080/",
          "height": 269
        }
      },
      "source": [
        "# TODO\n",
        "n_raw, bins_raw, patches = plt.hist(movies.IMDB_Rating)"
      ],
      "execution_count": 16,
      "outputs": [
        {
          "output_type": "display_data",
          "data": {
            "image/png": "[encoded data removed]",
            "text/plain": [
              "<Figure size 432x288 with 1 Axes>"
            ]
          },
          "metadata": {
            "tags": []
          }
        }
      ]
    },
    {
      "cell_type": "markdown",
      "metadata": {
        "id": "JwJ7N2N6nv0w",
        "colab_type": "text"
      },
      "source": [
        "Have you noticed that this function returns three objects? Take a look at the documentation [here](http://matplotlib.org/api/pyplot_api.html#matplotlib.pyplot.hist) to figure out what they are.\n",
        "\n",
        "To get the returned three objects:"
      ]
    },
    {
      "cell_type": "code",
      "metadata": {
        "id": "a72gW_XRnv0w",
        "colab_type": "code",
        "outputId": "13e389ca-5c96-4007-e824-ff74ea4692ae",
        "colab": {
          "base_uri": "https://localhost:8080/",
          "height": 51
        }
      },
      "source": [
        "#n_raw, bins_raw, patches = ...\n",
        "print(n_raw)\n",
        "print(bins_raw)"
      ],
      "execution_count": 17,
      "outputs": [
        {
          "output_type": "stream",
          "text": [
            "[  9.  39.  76. 133. 293. 599. 784. 684. 323.  48.]\n",
            "[1.4  2.18 2.96 3.74 4.52 5.3  6.08 6.86 7.64 8.42 9.2 ]\n"
          ],
          "name": "stdout"
        }
      ]
    },
    {
      "cell_type": "markdown",
      "metadata": {
        "id": "UmeeSM_Qnv01",
        "colab_type": "text"
      },
      "source": [
        "Here, `n_raw` contains the values of histograms, i.e., the number of movies in each of the 10 bins. Thus, the sum of the elements in `n_raw` should be equal to the total number of movies. \n",
        "\n",
        "**Q: Test whether the sum of values in `n_raw` is equal to the number of movies in the `movies` dataset**"
      ]
    },
    {
      "cell_type": "code",
      "metadata": {
        "id": "Te_LXt4Qnv01",
        "colab_type": "code",
        "outputId": "43bd5731-030e-4429-d548-ca75bb6edca1",
        "colab": {
          "base_uri": "https://localhost:8080/",
          "height": 68
        }
      },
      "source": [
        "# TODO: test whether the sum of the numbers in n_raw is equal to the number of movies. \n",
        "print(sum(n_raw))\n",
        "print(len(movies))\n",
        "\n",
        "len(movies) == sum(n_raw)"
      ],
      "execution_count": 18,
      "outputs": [
        {
          "output_type": "stream",
          "text": [
            "2988.0\n",
            "2988\n"
          ],
          "name": "stdout"
        },
        {
          "output_type": "execute_result",
          "data": {
            "text/plain": [
              "True"
            ]
          },
          "metadata": {
            "tags": []
          },
          "execution_count": 18
        }
      ]
    },
    {
      "cell_type": "markdown",
      "metadata": {
        "id": "P5qHLMF1nv05",
        "colab_type": "text"
      },
      "source": [
        "The second returned object (`bins_raw`) is a list containing the edges of the 10 bins: the first bin is \\[1.4, 2.18\\], the second \\[2.18, 2.96\\], and so on. What's the width of the bins?"
      ]
    },
    {
      "cell_type": "code",
      "metadata": {
        "id": "4emX1BoHnv05",
        "colab_type": "code",
        "outputId": "69fc61bf-0e27-4eaa-8298-b0ae8a5f4f3f",
        "colab": {
          "base_uri": "https://localhost:8080/",
          "height": 34
        }
      },
      "source": [
        "np.diff(bins_raw)"
      ],
      "execution_count": 19,
      "outputs": [
        {
          "output_type": "execute_result",
          "data": {
            "text/plain": [
              "array([0.78, 0.78, 0.78, 0.78, 0.78, 0.78, 0.78, 0.78, 0.78, 0.78])"
            ]
          },
          "metadata": {
            "tags": []
          },
          "execution_count": 19
        }
      ]
    },
    {
      "cell_type": "markdown",
      "metadata": {
        "id": "8abRJjMVnv07",
        "colab_type": "text"
      },
      "source": [
        "The width is same as the maximum value minus minimum value, divided by 10. "
      ]
    },
    {
      "cell_type": "code",
      "metadata": {
        "id": "3rdSGra2nv08",
        "colab_type": "code",
        "outputId": "7041c551-4a65-4bd3-c19d-d436ce95182c",
        "colab": {
          "base_uri": "https://localhost:8080/",
          "height": 51
        }
      },
      "source": [
        "min_rating = min(movies.IMDB_Rating)\n",
        "max_rating = max(movies.IMDB_Rating)\n",
        "print(min_rating, max_rating)\n",
        "print( (max_rating-min_rating) / 10 )"
      ],
      "execution_count": 20,
      "outputs": [
        {
          "output_type": "stream",
          "text": [
            "1.4 9.2\n",
            "0.7799999999999999\n"
          ],
          "name": "stdout"
        }
      ]
    },
    {
      "cell_type": "markdown",
      "metadata": {
        "id": "4BEZeWEenv0-",
        "colab_type": "text"
      },
      "source": [
        "Now, let's plot a normalized (density) histogram. "
      ]
    },
    {
      "cell_type": "code",
      "metadata": {
        "id": "Vab9ZZF6nv0-",
        "colab_type": "code",
        "outputId": "884ca74b-78d9-44fc-a476-fba333322c5f",
        "colab": {
          "base_uri": "https://localhost:8080/",
          "height": 337
        }
      },
      "source": [
        "n, bins, patches = plt.hist(movies.IMDB_Rating, density=True)\n",
        "print(n)\n",
        "print(bins)\n",
        "print(bins_raw)"
      ],
      "execution_count": 21,
      "outputs": [
        {
          "output_type": "stream",
          "text": [
            "[0.0038616  0.0167336  0.03260907 0.05706587 0.12571654 0.25701095\n",
            " 0.33638829 0.29348162 0.13858854 0.0205952 ]\n",
            "[1.4  2.18 2.96 3.74 4.52 5.3  6.08 6.86 7.64 8.42 9.2 ]\n",
            "[1.4  2.18 2.96 3.74 4.52 5.3  6.08 6.86 7.64 8.42 9.2 ]\n"
          ],
          "name": "stdout"
        },
        {
          "output_type": "display_data",
          "data": {
            "image/png": "[encoded data removed]",
            "text/plain": [
              "<Figure size 432x288 with 1 Axes>"
            ]
          },
          "metadata": {
            "tags": []
          }
        }
      ]
    },
    {
      "cell_type": "markdown",
      "metadata": {
        "id": "L3r_wp6Gnv1G",
        "colab_type": "text"
      },
      "source": [
        "The ten bins do not change. But now `n` represents the density of the data inside each bin. In other words, the sum of the area of each bar will equal to 1. \n",
        "\n",
        "**Q: Can you verify this?**\n",
        "\n",
        "Hint: the area of each bar is calculated as height * width. You may get something like 0.99999999999999978 instead of 1."
      ]
    },
    {
      "cell_type": "code",
      "metadata": {
        "id": "BIBWqplMnv1H",
        "colab_type": "code",
        "colab": {}
      },
      "source": [
        "# TODO\n"
      ],
      "execution_count": 0,
      "outputs": []
    },
    {
      "cell_type": "markdown",
      "metadata": {
        "id": "KqSwcOh8nv1I",
        "colab_type": "text"
      },
      "source": [
        "Anyway, these data generated from the `hist` function is calculated from `numpy`'s `histogram` function. https://docs.scipy.org/doc/numpy/reference/generated/numpy.histogram.html \n",
        "\n",
        "Note that the result of `np.histogram()` is same as that of `plt.hist()`. "
      ]
    },
    {
      "cell_type": "code",
      "metadata": {
        "id": "7dgvKl_-nv1I",
        "colab_type": "code",
        "outputId": "e81fa6f8-b16e-46aa-c073-0dc1eecffb1a",
        "colab": {
          "base_uri": "https://localhost:8080/",
          "height": 51
        }
      },
      "source": [
        "np.histogram(movies.IMDB_Rating)"
      ],
      "execution_count": 22,
      "outputs": [
        {
          "output_type": "execute_result",
          "data": {
            "text/plain": [
              "(array([  9,  39,  76, 133, 293, 599, 784, 684, 323,  48]),\n",
              " array([1.4 , 2.18, 2.96, 3.74, 4.52, 5.3 , 6.08, 6.86, 7.64, 8.42, 9.2 ]))"
            ]
          },
          "metadata": {
            "tags": []
          },
          "execution_count": 22
        }
      ]
    },
    {
      "cell_type": "code",
      "metadata": {
        "id": "L_8FT9Gxnv1L",
        "colab_type": "code",
        "outputId": "6be605ab-d81f-497b-c792-d8a0b7b14ebb",
        "colab": {
          "base_uri": "https://localhost:8080/",
          "height": 320
        }
      },
      "source": [
        "plt.hist(movies.IMDB_Rating)"
      ],
      "execution_count": 23,
      "outputs": [
        {
          "output_type": "execute_result",
          "data": {
            "text/plain": [
              "(array([  9.,  39.,  76., 133., 293., 599., 784., 684., 323.,  48.]),\n",
              " array([1.4 , 2.18, 2.96, 3.74, 4.52, 5.3 , 6.08, 6.86, 7.64, 8.42, 9.2 ]),\n",
              " <a list of 10 Patch objects>)"
            ]
          },
          "metadata": {
            "tags": []
          },
          "execution_count": 23
        },
        {
          "output_type": "display_data",
          "data": {
            "image/png": "[encoded data removed]",
            "text/plain": [
              "<Figure size 432x288 with 1 Axes>"
            ]
          },
          "metadata": {
            "tags": []
          }
        }
      ]
    },
    {
      "cell_type": "markdown",
      "metadata": {
        "id": "orSyofFynv1M",
        "colab_type": "text"
      },
      "source": [
        "If you look at the documentation, you can see that `numpy` uses simply 10 as the default number of bins. But you can set it manually or set it to be `auto`, which is the \"Maximum of the `sturges` and `fd` estimators.\". Let's try this `auto` option. "
      ]
    },
    {
      "cell_type": "code",
      "metadata": {
        "id": "ecPDk3Eonv1N",
        "colab_type": "code",
        "outputId": "613a9b9a-372d-4425-f1e6-31d5b509ac2b",
        "colab": {
          "base_uri": "https://localhost:8080/",
          "height": 269
        }
      },
      "source": [
        "_ = plt.hist(movies.IMDB_Rating, bins='auto')"
      ],
      "execution_count": 24,
      "outputs": [
        {
          "output_type": "display_data",
          "data": {
            "image/png": "[encoded data removed]",
            "text/plain": [
              "<Figure size 432x288 with 1 Axes>"
            ]
          },
          "metadata": {
            "tags": []
          }
        }
      ]
    },
    {
      "cell_type": "markdown",
      "metadata": {
        "id": "VMOfXJONnv1P",
        "colab_type": "text"
      },
      "source": [
        "## Consequences of the binning parameter\n",
        "\n",
        "Let's explore the effect of bin size using small multiples. In `matplotlib`, you can use [subplot](https://www.google.com/search?client=safari&rls=en&q=matplotlib+subplot&ie=UTF-8&oe=UTF-8) to put multiple plots into a single figure. \n",
        "\n",
        "For instance, you can do something like:"
      ]
    },
    {
      "cell_type": "code",
      "metadata": {
        "id": "V0zWjgUmnv1Q",
        "colab_type": "code",
        "outputId": "b6f3e1de-ff22-4192-8e60-462efd2b8df7",
        "colab": {
          "base_uri": "https://localhost:8080/",
          "height": 340
        }
      },
      "source": [
        "plt.figure(figsize=(10,5))\n",
        "plt.subplot(1,2,1)\n",
        "movies.IMDB_Rating.hist(bins=3)\n",
        "plt.subplot(1,2,2)\n",
        "movies.IMDB_Rating.hist(bins=20)"
      ],
      "execution_count": 25,
      "outputs": [
        {
          "output_type": "execute_result",
          "data": {
            "text/plain": [
              "<matplotlib.axes._subplots.AxesSubplot at 0x7ff6e33a0048>"
            ]
          },
          "metadata": {
            "tags": []
          },
          "execution_count": 25
        },
        {
          "output_type": "display_data",
          "data": {
            "image/png": "[encoded data removed]",
            "text/plain": [
              "<Figure size 720x360 with 2 Axes>"
            ]
          },
          "metadata": {
            "tags": []
          }
        }
      ]
    },
    {
      "cell_type": "markdown",
      "metadata": {
        "id": "KMnrlDzrnv1R",
        "colab_type": "text"
      },
      "source": [
        "What does the argument in `plt.subplot(1,2,1)` mean? If you're not sure, check out: http://stackoverflow.com/questions/3584805/in-matplotlib-what-does-the-argument-mean-in-fig-add-subplot111\n",
        "\n",
        "**Q: create 8 subplots (2 rows and 4 columns) with the following `binsizes`.**"
      ]
    },
    {
      "cell_type": "code",
      "metadata": {
        "scrolled": false,
        "id": "TKebiKrnnv1S",
        "colab_type": "code",
        "outputId": "023e6a7b-699c-43c7-8d27-253b8a416995",
        "colab": {
          "base_uri": "https://localhost:8080/",
          "height": 369
        }
      },
      "source": [
        "binsizes = [2, 3, 5, 10, 30, 40, 60, 100 ]\n",
        "\n",
        "# TODO\n",
        "fig=plt.figure(figsize=(10,5))\n",
        "for i, bins in enumerate(binsizes):\n",
        "    ax=fig.add_subplot(2,4,i+1)\n",
        "    movies.IMDB_Rating.hist(bins=bins,ax=ax)\n",
        "    ax.set_title('Number of Bins: {0}'.format(bins))\n",
        "fig.tight_layout()\n",
        "plt.show()"
      ],
      "execution_count": 58,
      "outputs": [
        {
          "output_type": "display_data",
          "data": {
            "image/png": "[encoded data removed]",
            "text/plain": [
              "<Figure size 720x360 with 8 Axes>"
            ]
          },
          "metadata": {
            "tags": []
          }
        }
      ]
    },
    {
      "cell_type": "markdown",
      "metadata": {
        "id": "j0Zp83QYnv1U",
        "colab_type": "text"
      },
      "source": [
        "Do you see the issues with having too few bins or too many bins? In particular, do you notice weird patterns that emerge from `bins=30`? \n",
        "\n",
        "**Q: Can you guess why do you see such patterns? What are the peaks and what are the empty bars? What do they tell you about choosing the binsize in histograms?**"
      ]
    },
    {
      "cell_type": "markdown",
      "metadata": {
        "id": "233B3eCYnv1U",
        "colab_type": "text"
      },
      "source": [
        "When histogram has too few or too many bins, it does not allow the frequency distribution of the data to be easily seen. Too few bins and there is not sufficient granularity, too many bins adds noise and can be visually misleading."
      ]
    },
    {
      "cell_type": "markdown",
      "metadata": {
        "id": "1MU7UzBjnv1U",
        "colab_type": "text"
      },
      "source": [
        "## Formulae for choosing the number of bins. \n",
        "\n",
        "We can manually choose the number of bins based on those formulae. "
      ]
    },
    {
      "cell_type": "code",
      "metadata": {
        "scrolled": true,
        "id": "oN_FtBhynv1V",
        "colab_type": "code",
        "outputId": "506b1ed5-ad19-4c71-8a66-af3db349c527",
        "colab": {
          "base_uri": "https://localhost:8080/",
          "height": 298
        }
      },
      "source": [
        "N = len(movies)\n",
        "\n",
        "plt.figure(figsize=(12,4))\n",
        "\n",
        "# Sqrt \n",
        "nbins = int(np.sqrt(N))\n",
        "\n",
        "plt.subplot(1,3,1)\n",
        "plt.title(\"SQRT, {} bins\".format(nbins))\n",
        "movies.IMDB_Rating.hist(bins=nbins)\n",
        "\n",
        "# Sturge's formula\n",
        "nbins = int(np.ceil(np.log2(N) + 1))\n",
        "\n",
        "plt.subplot(1,3,2)\n",
        "plt.title(\"Sturge, {} bins\".format(nbins))\n",
        "movies.IMDB_Rating.hist(bins=nbins)\n",
        "\n",
        "# Freedman-Diaconis\n",
        "iqr = np.percentile(movies.IMDB_Rating, 75) - np.percentile(movies.IMDB_Rating, 25)\n",
        "width = 2*iqr/np.power(N, 1/3)\n",
        "nbins = int((max(movies.IMDB_Rating) - min(movies.IMDB_Rating)) / width)\n",
        "\n",
        "plt.subplot(1,3,3)\n",
        "plt.title(\"F-D, {} bins\".format(nbins))\n",
        "movies.IMDB_Rating.hist(bins=nbins)\n",
        "\n"
      ],
      "execution_count": 27,
      "outputs": [
        {
          "output_type": "execute_result",
          "data": {
            "text/plain": [
              "<matplotlib.axes._subplots.AxesSubplot at 0x7ff6e36ef358>"
            ]
          },
          "metadata": {
            "tags": []
          },
          "execution_count": 27
        },
        {
          "output_type": "display_data",
          "data": {
            "image/png": "[encoded data removed]",
            "text/plain": [
              "<Figure size 864x288 with 3 Axes>"
            ]
          },
          "metadata": {
            "tags": []
          }
        }
      ]
    },
    {
      "cell_type": "markdown",
      "metadata": {
        "id": "ebnMOiSXnv1W",
        "colab_type": "text"
      },
      "source": [
        "But we can also use built-in formulae too. Let's try all of them. "
      ]
    },
    {
      "cell_type": "code",
      "metadata": {
        "id": "Y69LClRQnv1X",
        "colab_type": "code",
        "outputId": "199b3ab3-9641-40dc-80fa-3cfaa4a8ff05",
        "colab": {
          "base_uri": "https://localhost:8080/",
          "height": 286
        }
      },
      "source": [
        "plt.figure(figsize=(20,4))\n",
        "\n",
        "plt.subplot(161)\n",
        "movies.IMDB_Rating.hist(bins='fd')\n",
        "\n",
        "plt.subplot(162)\n",
        "movies.IMDB_Rating.hist(bins='doane')\n",
        "\n",
        "plt.subplot(163)\n",
        "movies.IMDB_Rating.hist(bins='scott')\n",
        "\n",
        "plt.subplot(164)\n",
        "movies.IMDB_Rating.hist(bins='rice')\n",
        "\n",
        "plt.subplot(165)\n",
        "movies.IMDB_Rating.hist(bins='sturges')\n",
        "\n",
        "plt.subplot(166)\n",
        "movies.IMDB_Rating.hist(bins='sqrt')"
      ],
      "execution_count": 28,
      "outputs": [
        {
          "output_type": "execute_result",
          "data": {
            "text/plain": [
              "<matplotlib.axes._subplots.AxesSubplot at 0x7ff6e2bdc940>"
            ]
          },
          "metadata": {
            "tags": []
          },
          "execution_count": 28
        },
        {
          "output_type": "display_data",
          "data": {
            "image/png": "[encoded data removed]",
            "text/plain": [
              "<Figure size 1440x288 with 6 Axes>"
            ]
          },
          "metadata": {
            "tags": []
          }
        }
      ]
    },
    {
      "cell_type": "markdown",
      "metadata": {
        "id": "5XrWtInsnv1Z",
        "colab_type": "text"
      },
      "source": [
        "Some are decent, but several of them tend to overestimate the good number of bins. As you have more data points, some of the formulae may overestimate the necessary number of bins. Particularly in our case, because of the precision issue, we shouldn't increase the number of bins too much."
      ]
    },
    {
      "cell_type": "markdown",
      "metadata": {
        "id": "-9KRDp8ynv1Z",
        "colab_type": "text"
      },
      "source": [
        "### So how should we choose the number of bins?"
      ]
    },
    {
      "cell_type": "markdown",
      "metadata": {
        "id": "UqcU7y7Fnv1Z",
        "colab_type": "text"
      },
      "source": [
        "So what's the conclusion? use Scott's rule or Sturges' formula? No, I think the take away is that you should understand how the inappropriate number of bins can mislead you and you should try multiple number of bins to obtain the most accurate picture of the data. Although the 'default' may work in most cases, don't blindly trust it! Don't judge a dataset (maybe more like \"a column\") based on a single histogram. Try multiple parameters to get the full picture!"
      ]
    },
    {
      "cell_type": "markdown",
      "metadata": {
        "id": "Gc-nWbhfnv1a",
        "colab_type": "text"
      },
      "source": [
        "## CDF (Cumulative distribution function)\n",
        "\n",
        "Drawing a CDF is very easy. Because it's very common data visualization, histogram has an option called `cumulative`. "
      ]
    },
    {
      "cell_type": "code",
      "metadata": {
        "id": "H0QMK00Qnv1a",
        "colab_type": "code",
        "outputId": "6e7c98f0-9bcf-4df8-f2d8-fbd2c4ec52e6",
        "colab": {
          "base_uri": "https://localhost:8080/",
          "height": 286
        }
      },
      "source": [
        "movies.IMDB_Rating.hist(cumulative=True)"
      ],
      "execution_count": 29,
      "outputs": [
        {
          "output_type": "execute_result",
          "data": {
            "text/plain": [
              "<matplotlib.axes._subplots.AxesSubplot at 0x7ff6e2f3b0b8>"
            ]
          },
          "metadata": {
            "tags": []
          },
          "execution_count": 29
        },
        {
          "output_type": "display_data",
          "data": {
            "image/png": "[encoded data removed]",
            "text/plain": [
              "<Figure size 432x288 with 1 Axes>"
            ]
          },
          "metadata": {
            "tags": []
          }
        }
      ]
    },
    {
      "cell_type": "markdown",
      "metadata": {
        "id": "Xm93llqYnv1k",
        "colab_type": "text"
      },
      "source": [
        "You can also combine with options such as `histtype` and `density`."
      ]
    },
    {
      "cell_type": "code",
      "metadata": {
        "id": "rtAEWGtrnv1l",
        "colab_type": "code",
        "outputId": "dab20d02-a824-44bd-b379-f6b2c789029d",
        "colab": {
          "base_uri": "https://localhost:8080/",
          "height": 286
        }
      },
      "source": [
        "movies.IMDB_Rating.hist(histtype='step', cumulative=True, density=True)"
      ],
      "execution_count": 30,
      "outputs": [
        {
          "output_type": "execute_result",
          "data": {
            "text/plain": [
              "<matplotlib.axes._subplots.AxesSubplot at 0x7ff6e29d7e10>"
            ]
          },
          "metadata": {
            "tags": []
          },
          "execution_count": 30
        },
        {
          "output_type": "display_data",
          "data": {
            "image/png": "[encoded data removed]",
            "text/plain": [
              "<Figure size 432x288 with 1 Axes>"
            ]
          },
          "metadata": {
            "tags": []
          }
        }
      ]
    },
    {
      "cell_type": "markdown",
      "metadata": {
        "id": "ZFes-G63nv1n",
        "colab_type": "text"
      },
      "source": [
        "And increase the number of bins. "
      ]
    },
    {
      "cell_type": "code",
      "metadata": {
        "id": "B927Fgyonv1p",
        "colab_type": "code",
        "outputId": "7240116d-6200-4099-fffb-8954a6d074c9",
        "colab": {
          "base_uri": "https://localhost:8080/",
          "height": 286
        }
      },
      "source": [
        "movies.IMDB_Rating.hist(cumulative=True, density=True, bins=1000)"
      ],
      "execution_count": 31,
      "outputs": [
        {
          "output_type": "execute_result",
          "data": {
            "text/plain": [
              "<matplotlib.axes._subplots.AxesSubplot at 0x7ff6e292c748>"
            ]
          },
          "metadata": {
            "tags": []
          },
          "execution_count": 31
        },
        {
          "output_type": "display_data",
          "data": {
            "image/png": "[encoded data removed]",
            "text/plain": [
              "<Figure size 432x288 with 1 Axes>"
            ]
          },
          "metadata": {
            "tags": []
          }
        }
      ]
    },
    {
      "cell_type": "markdown",
      "metadata": {
        "id": "UORY0ru6nv1s",
        "colab_type": "text"
      },
      "source": [
        "This method works fine. By increasing the number of bins, you can get a CDF in the resolution that you want. But let's also try it more manually. First, we should sort all the values. "
      ]
    },
    {
      "cell_type": "code",
      "metadata": {
        "id": "jlQOSXF5nv1t",
        "colab_type": "code",
        "outputId": "75b03b91-22bb-4cfd-db2b-012cebda850a",
        "colab": {
          "base_uri": "https://localhost:8080/",
          "height": 119
        }
      },
      "source": [
        "rating_sorted = movies.IMDB_Rating.sort_values()\n",
        "rating_sorted.head()"
      ],
      "execution_count": 32,
      "outputs": [
        {
          "output_type": "execute_result",
          "data": {
            "text/plain": [
              "1247    1.4\n",
              "406     1.5\n",
              "1754    1.6\n",
              "1590    1.7\n",
              "1515    1.7\n",
              "Name: IMDB_Rating, dtype: float64"
            ]
          },
          "metadata": {
            "tags": []
          },
          "execution_count": 32
        }
      ]
    },
    {
      "cell_type": "markdown",
      "metadata": {
        "id": "UILzCNoNnv1z",
        "colab_type": "text"
      },
      "source": [
        "We need to know the number of data points, "
      ]
    },
    {
      "cell_type": "code",
      "metadata": {
        "id": "M2ipHkDDnv10",
        "colab_type": "code",
        "outputId": "0845be6d-74f0-46bf-dd13-6adf82feaeee",
        "colab": {
          "base_uri": "https://localhost:8080/",
          "height": 34
        }
      },
      "source": [
        "N = len(rating_sorted)\n",
        "N"
      ],
      "execution_count": 33,
      "outputs": [
        {
          "output_type": "execute_result",
          "data": {
            "text/plain": [
              "2988"
            ]
          },
          "metadata": {
            "tags": []
          },
          "execution_count": 33
        }
      ]
    },
    {
      "cell_type": "markdown",
      "metadata": {
        "id": "eeUXN7M6nv12",
        "colab_type": "text"
      },
      "source": [
        "And I think this may be useful for you. "
      ]
    },
    {
      "cell_type": "code",
      "metadata": {
        "id": "LqQH58EXnv12",
        "colab_type": "code",
        "outputId": "fc9e2a84-afad-4bd9-cbfb-f89ccffb8184",
        "colab": {
          "base_uri": "https://localhost:8080/",
          "height": 102
        }
      },
      "source": [
        "n = 50\n",
        "np.linspace(1/n, 1.0, num=n)"
      ],
      "execution_count": 34,
      "outputs": [
        {
          "output_type": "execute_result",
          "data": {
            "text/plain": [
              "array([0.02, 0.04, 0.06, 0.08, 0.1 , 0.12, 0.14, 0.16, 0.18, 0.2 , 0.22,\n",
              "       0.24, 0.26, 0.28, 0.3 , 0.32, 0.34, 0.36, 0.38, 0.4 , 0.42, 0.44,\n",
              "       0.46, 0.48, 0.5 , 0.52, 0.54, 0.56, 0.58, 0.6 , 0.62, 0.64, 0.66,\n",
              "       0.68, 0.7 , 0.72, 0.74, 0.76, 0.78, 0.8 , 0.82, 0.84, 0.86, 0.88,\n",
              "       0.9 , 0.92, 0.94, 0.96, 0.98, 1.  ])"
            ]
          },
          "metadata": {
            "tags": []
          },
          "execution_count": 34
        }
      ]
    },
    {
      "cell_type": "markdown",
      "metadata": {
        "id": "gMo-RlmLnv14",
        "colab_type": "text"
      },
      "source": [
        "**Q: now you're ready to draw a proper CDF. Draw the CDF plot of this data.** "
      ]
    },
    {
      "cell_type": "code",
      "metadata": {
        "id": "DbTeCoasnv15",
        "colab_type": "code",
        "colab": {
          "base_uri": "https://localhost:8080/",
          "height": 315
        },
        "outputId": "b4846b2c-5d30-4745-a811-77a461bc23b2"
      },
      "source": [
        "# TODO\n",
        "cuml_df = pd.DataFrame(np.array(np.linspace(1/n, 1.0, num=n)))\n",
        "cuml_df.hist(cumulative=True)"
      ],
      "execution_count": 62,
      "outputs": [
        {
          "output_type": "execute_result",
          "data": {
            "text/plain": [
              "array([[<matplotlib.axes._subplots.AxesSubplot object at 0x7ff6e0faab00>]],\n",
              "      dtype=object)"
            ]
          },
          "metadata": {
            "tags": []
          },
          "execution_count": 62
        },
        {
          "output_type": "display_data",
          "data": {
            "image/png": "[encoded data removed]",
            "text/plain": [
              "<Figure size 432x288 with 1 Axes>"
            ]
          },
          "metadata": {
            "tags": []
          }
        }
      ]
    },
    {
      "cell_type": "markdown",
      "metadata": {
        "id": "5oK5XUaqnv19",
        "colab_type": "text"
      },
      "source": [
        "## A bit more histogram with altair\n",
        "\n",
        "As you may remember, you can get a pandas dataframe from `vega_datasets` package and use it to create visualizations. But, if you use `altair`, you can simply pass the URL instead of the actual data. "
      ]
    },
    {
      "cell_type": "code",
      "metadata": {
        "id": "8C_QTz46nv1-",
        "colab_type": "code",
        "outputId": "fd2fe3d6-9e31-4620-a6ad-b99ea4ae4392",
        "colab": {
          "base_uri": "https://localhost:8080/",
          "height": 34
        }
      },
      "source": [
        "vega_datasets.data.movies.url"
      ],
      "execution_count": 63,
      "outputs": [
        {
          "output_type": "execute_result",
          "data": {
            "text/plain": [
              "'https://vega.github.io/vega-datasets/data/movies.json'"
            ]
          },
          "metadata": {
            "tags": []
          },
          "execution_count": 63
        }
      ]
    },
    {
      "cell_type": "code",
      "metadata": {
        "id": "mgLVFru-nv1_",
        "colab_type": "code",
        "colab": {}
      },
      "source": [
        "#alt.renderers.enable('notebook')"
      ],
      "execution_count": 0,
      "outputs": []
    },
    {
      "cell_type": "markdown",
      "metadata": {
        "id": "PvupEQFmnv2B",
        "colab_type": "text"
      },
      "source": [
        "As mentioned before, in `altair` histogram is not special. It is just a plot that use bars (`mark_bar()`) where X axis is defined by `IMDB_Rating` with bins (`bin=True`), and Y axis is defined by `count()` aggregation function. "
      ]
    },
    {
      "cell_type": "code",
      "metadata": {
        "id": "TpSIjihvnv2D",
        "colab_type": "code",
        "colab": {
          "base_uri": "https://localhost:8080/",
          "height": 368
        },
        "outputId": "69c136b6-67ac-47ea-f23d-d7af7926d8d6"
      },
      "source": [
        "alt.Chart(vega_datasets.data.movies.url).mark_bar().encode(\n",
        "    alt.X(\"IMDB_Rating:Q\",  bin=True),\n",
        "    alt.Y('count()')\n",
        ")"
      ],
      "execution_count": 65,
      "outputs": [
        {
          "output_type": "execute_result",
          "data": {
            "text/plain": [
              "Chart({\n",
              "  data: 'https://vega.github.io/vega-datasets/data/movies.json',\n",
              "  encoding: FacetedEncoding({\n",
              "    x: X({\n",
              "      bin: True,\n",
              "      field: 'IMDB_Rating',\n",
              "      type: 'quantitative'\n",
              "    }),\n",
              "    y: Y({\n",
              "      aggregate: 'count',\n",
              "      type: 'quantitative'\n",
              "    })\n",
              "  }),\n",
              "  mark: 'bar'\n",
              "})"
            ],
            "text/html": [
              "<!DOCTYPE html>\n",
              "<html>\n",
              "<head>\n",
              "  <style>\n",
              "    .vega-actions a {\n",
              "        margin-right: 12px;\n",
              "        color: #757575;\n",
              "        font-weight: normal;\n",
              "        font-size: 13px;\n",
              "    }\n",
              "    .error {\n",
              "        color: red;\n",
              "    }\n",
              "  </style>\n",
              "  <script type=\"text/javascript\" src=\"https://cdn.jsdelivr.net/npm//vega@5\"></script>\n",
              "  <script type=\"text/javascript\" src=\"https://cdn.jsdelivr.net/npm//vega-lite@3.3.0\"></script>\n",
              "  <script type=\"text/javascript\" src=\"https://cdn.jsdelivr.net/npm//vega-embed@4\"></script>\n",
              "</head>\n",
              "<body>\n",
              "  <div id=\"altair-viz\"></div>\n",
              "  <script>\n",
              "      var spec = {\"config\": {\"view\": {\"width\": 400, \"height\": 300}, \"mark\": {\"tooltip\": null}}, \"data\": {\"url\": \"https://vega.github.io/vega-datasets/data/movies.json\"}, \"mark\": \"bar\", \"encoding\": {\"x\": {\"type\": \"quantitative\", \"bin\": true, \"field\": \"IMDB_Rating\"}, \"y\": {\"type\": \"quantitative\", \"aggregate\": \"count\"}}, \"$schema\": \"https://vega.github.io/schema/vega-lite/v3.3.0.json\"};\n",
              "      var embedOpt = {\"mode\": \"vega-lite\"};\n",
              "\n",
              "      function showError(el, error){\n",
              "          el.innerHTML = ('<div class=\"error\" style=\"color:red;\">'\n",
              "                          + '<p>JavaScript Error: ' + error.message + '</p>'\n",
              "                          + \"<p>This usually means there's a typo in your chart specification. \"\n",
              "                          + \"See the javascript console for the full traceback.</p>\"\n",
              "                          + '</div>');\n",
              "          throw error;\n",
              "      }\n",
              "      const el = document.getElementById('altair-viz');\n",
              "      vegaEmbed(\"#altair-viz\", spec, embedOpt)\n",
              "        .catch(error => showError(el, error));\n",
              "\n",
              "  </script>\n",
              "</body>\n",
              "</html>"
            ]
          },
          "metadata": {
            "tags": []
          },
          "execution_count": 65
        }
      ]
    },
    {
      "cell_type": "markdown",
      "metadata": {
        "id": "toWh8Um6nv2F",
        "colab_type": "text"
      },
      "source": [
        "Have you noted that it is `IMDB_Rating:Q` not `IMDB_Rating`? This is a shorthand for"
      ]
    },
    {
      "cell_type": "code",
      "metadata": {
        "id": "zGDBKAPUnv2G",
        "colab_type": "code",
        "colab": {
          "base_uri": "https://localhost:8080/",
          "height": 368
        },
        "outputId": "7967552e-6526-4bf4-9512-b2754bd00d87"
      },
      "source": [
        "alt.Chart(vega_datasets.data.movies.url).mark_bar().encode(\n",
        "    alt.X('IMDB_Rating', type='quantitative', bin=True),\n",
        "    alt.Y(aggregate='count', type='quantitative')\n",
        ")"
      ],
      "execution_count": 66,
      "outputs": [
        {
          "output_type": "execute_result",
          "data": {
            "text/plain": [
              "Chart({\n",
              "  data: 'https://vega.github.io/vega-datasets/data/movies.json',\n",
              "  encoding: FacetedEncoding({\n",
              "    x: X({\n",
              "      bin: True,\n",
              "      field: 'IMDB_Rating',\n",
              "      type: 'quantitative'\n",
              "    }),\n",
              "    y: Y({\n",
              "      aggregate: 'count',\n",
              "      type: 'quantitative'\n",
              "    })\n",
              "  }),\n",
              "  mark: 'bar'\n",
              "})"
            ],
            "text/html": [
              "<!DOCTYPE html>\n",
              "<html>\n",
              "<head>\n",
              "  <style>\n",
              "    .vega-actions a {\n",
              "        margin-right: 12px;\n",
              "        color: #757575;\n",
              "        font-weight: normal;\n",
              "        font-size: 13px;\n",
              "    }\n",
              "    .error {\n",
              "        color: red;\n",
              "    }\n",
              "  </style>\n",
              "  <script type=\"text/javascript\" src=\"https://cdn.jsdelivr.net/npm//vega@5\"></script>\n",
              "  <script type=\"text/javascript\" src=\"https://cdn.jsdelivr.net/npm//vega-lite@3.3.0\"></script>\n",
              "  <script type=\"text/javascript\" src=\"https://cdn.jsdelivr.net/npm//vega-embed@4\"></script>\n",
              "</head>\n",
              "<body>\n",
              "  <div id=\"altair-viz\"></div>\n",
              "  <script>\n",
              "      var spec = {\"config\": {\"view\": {\"width\": 400, \"height\": 300}, \"mark\": {\"tooltip\": null}}, \"data\": {\"url\": \"https://vega.github.io/vega-datasets/data/movies.json\"}, \"mark\": \"bar\", \"encoding\": {\"x\": {\"type\": \"quantitative\", \"bin\": true, \"field\": \"IMDB_Rating\"}, \"y\": {\"type\": \"quantitative\", \"aggregate\": \"count\"}}, \"$schema\": \"https://vega.github.io/schema/vega-lite/v3.3.0.json\"};\n",
              "      var embedOpt = {\"mode\": \"vega-lite\"};\n",
              "\n",
              "      function showError(el, error){\n",
              "          el.innerHTML = ('<div class=\"error\" style=\"color:red;\">'\n",
              "                          + '<p>JavaScript Error: ' + error.message + '</p>'\n",
              "                          + \"<p>This usually means there's a typo in your chart specification. \"\n",
              "                          + \"See the javascript console for the full traceback.</p>\"\n",
              "                          + '</div>');\n",
              "          throw error;\n",
              "      }\n",
              "      const el = document.getElementById('altair-viz');\n",
              "      vegaEmbed(\"#altair-viz\", spec, embedOpt)\n",
              "        .catch(error => showError(el, error));\n",
              "\n",
              "  </script>\n",
              "</body>\n",
              "</html>"
            ]
          },
          "metadata": {
            "tags": []
          },
          "execution_count": 66
        }
      ]
    },
    {
      "cell_type": "markdown",
      "metadata": {
        "id": "iV0tEfwvnv2K",
        "colab_type": "text"
      },
      "source": [
        "In altair, you want to specify the data types using one of the four categories: quantitative, ordinal, nominal, and temporal. https://altair-viz.github.io/user_guide/encoding.html#data-types"
      ]
    },
    {
      "cell_type": "markdown",
      "metadata": {
        "id": "dT6zbLcKnv2M",
        "colab_type": "text"
      },
      "source": [
        "Although you can adjust the bins in `altair`, it does not encourage you to set the bins directly. For instance, although there is `step` parameter that directly sets the bin size, there are parameters such as `maxbins` (maximum number of bins) or `minstep` (minimum allowable step size), or `nice` (attemps to make the bin boundaries more human-friendly), that encourage you not to specify the bins directly. "
      ]
    },
    {
      "cell_type": "code",
      "metadata": {
        "id": "Ve_9afAFnv2N",
        "colab_type": "code",
        "colab": {
          "base_uri": "https://localhost:8080/",
          "height": 368
        },
        "outputId": "7be4e8dc-11a5-43b0-bd49-f9a172ae2ddd"
      },
      "source": [
        "from altair import Bin\n",
        "\n",
        "alt.Chart(vega_datasets.data.movies.url).mark_bar().encode(\n",
        "    alt.X(\"IMDB_Rating:Q\",  bin=Bin(step=0.1)),\n",
        "    alt.Y('count()')\n",
        ")"
      ],
      "execution_count": 67,
      "outputs": [
        {
          "output_type": "execute_result",
          "data": {
            "text/plain": [
              "Chart({\n",
              "  data: 'https://vega.github.io/vega-datasets/data/movies.json',\n",
              "  encoding: FacetedEncoding({\n",
              "    x: X({\n",
              "      bin: BinParams({\n",
              "        step: 0.1\n",
              "      }),\n",
              "      field: 'IMDB_Rating',\n",
              "      type: 'quantitative'\n",
              "    }),\n",
              "    y: Y({\n",
              "      aggregate: 'count',\n",
              "      type: 'quantitative'\n",
              "    })\n",
              "  }),\n",
              "  mark: 'bar'\n",
              "})"
            ],
            "text/html": [
              "<!DOCTYPE html>\n",
              "<html>\n",
              "<head>\n",
              "  <style>\n",
              "    .vega-actions a {\n",
              "        margin-right: 12px;\n",
              "        color: #757575;\n",
              "        font-weight: normal;\n",
              "        font-size: 13px;\n",
              "    }\n",
              "    .error {\n",
              "        color: red;\n",
              "    }\n",
              "  </style>\n",
              "  <script type=\"text/javascript\" src=\"https://cdn.jsdelivr.net/npm//vega@5\"></script>\n",
              "  <script type=\"text/javascript\" src=\"https://cdn.jsdelivr.net/npm//vega-lite@3.3.0\"></script>\n",
              "  <script type=\"text/javascript\" src=\"https://cdn.jsdelivr.net/npm//vega-embed@4\"></script>\n",
              "</head>\n",
              "<body>\n",
              "  <div id=\"altair-viz\"></div>\n",
              "  <script>\n",
              "      var spec = {\"config\": {\"view\": {\"width\": 400, \"height\": 300}, \"mark\": {\"tooltip\": null}}, \"data\": {\"url\": \"https://vega.github.io/vega-datasets/data/movies.json\"}, \"mark\": \"bar\", \"encoding\": {\"x\": {\"type\": \"quantitative\", \"bin\": {\"step\": 0.1}, \"field\": \"IMDB_Rating\"}, \"y\": {\"type\": \"quantitative\", \"aggregate\": \"count\"}}, \"$schema\": \"https://vega.github.io/schema/vega-lite/v3.3.0.json\"};\n",
              "      var embedOpt = {\"mode\": \"vega-lite\"};\n",
              "\n",
              "      function showError(el, error){\n",
              "          el.innerHTML = ('<div class=\"error\" style=\"color:red;\">'\n",
              "                          + '<p>JavaScript Error: ' + error.message + '</p>'\n",
              "                          + \"<p>This usually means there's a typo in your chart specification. \"\n",
              "                          + \"See the javascript console for the full traceback.</p>\"\n",
              "                          + '</div>');\n",
              "          throw error;\n",
              "      }\n",
              "      const el = document.getElementById('altair-viz');\n",
              "      vegaEmbed(\"#altair-viz\", spec, embedOpt)\n",
              "        .catch(error => showError(el, error));\n",
              "\n",
              "  </script>\n",
              "</body>\n",
              "</html>"
            ]
          },
          "metadata": {
            "tags": []
          },
          "execution_count": 67
        }
      ]
    },
    {
      "cell_type": "code",
      "metadata": {
        "id": "kTakixQonv2O",
        "colab_type": "code",
        "colab": {
          "base_uri": "https://localhost:8080/",
          "height": 368
        },
        "outputId": "ffae6cf6-3d6f-47bc-fe4f-88c5c3911492"
      },
      "source": [
        "alt.Chart(vega_datasets.data.movies.url).mark_bar().encode(\n",
        "    alt.X(\"IMDB_Rating:Q\",  bin=Bin(nice=True, maxbins=20)),\n",
        "    alt.Y('count()')\n",
        ")"
      ],
      "execution_count": 68,
      "outputs": [
        {
          "output_type": "execute_result",
          "data": {
            "text/plain": [
              "Chart({\n",
              "  data: 'https://vega.github.io/vega-datasets/data/movies.json',\n",
              "  encoding: FacetedEncoding({\n",
              "    x: X({\n",
              "      bin: BinParams({\n",
              "        maxbins: 20,\n",
              "        nice: True\n",
              "      }),\n",
              "      field: 'IMDB_Rating',\n",
              "      type: 'quantitative'\n",
              "    }),\n",
              "    y: Y({\n",
              "      aggregate: 'count',\n",
              "      type: 'quantitative'\n",
              "    })\n",
              "  }),\n",
              "  mark: 'bar'\n",
              "})"
            ],
            "text/html": [
              "<!DOCTYPE html>\n",
              "<html>\n",
              "<head>\n",
              "  <style>\n",
              "    .vega-actions a {\n",
              "        margin-right: 12px;\n",
              "        color: #757575;\n",
              "        font-weight: normal;\n",
              "        font-size: 13px;\n",
              "    }\n",
              "    .error {\n",
              "        color: red;\n",
              "    }\n",
              "  </style>\n",
              "  <script type=\"text/javascript\" src=\"https://cdn.jsdelivr.net/npm//vega@5\"></script>\n",
              "  <script type=\"text/javascript\" src=\"https://cdn.jsdelivr.net/npm//vega-lite@3.3.0\"></script>\n",
              "  <script type=\"text/javascript\" src=\"https://cdn.jsdelivr.net/npm//vega-embed@4\"></script>\n",
              "</head>\n",
              "<body>\n",
              "  <div id=\"altair-viz\"></div>\n",
              "  <script>\n",
              "      var spec = {\"config\": {\"view\": {\"width\": 400, \"height\": 300}, \"mark\": {\"tooltip\": null}}, \"data\": {\"url\": \"https://vega.github.io/vega-datasets/data/movies.json\"}, \"mark\": \"bar\", \"encoding\": {\"x\": {\"type\": \"quantitative\", \"bin\": {\"maxbins\": 20, \"nice\": true}, \"field\": \"IMDB_Rating\"}, \"y\": {\"type\": \"quantitative\", \"aggregate\": \"count\"}}, \"$schema\": \"https://vega.github.io/schema/vega-lite/v3.3.0.json\"};\n",
              "      var embedOpt = {\"mode\": \"vega-lite\"};\n",
              "\n",
              "      function showError(el, error){\n",
              "          el.innerHTML = ('<div class=\"error\" style=\"color:red;\">'\n",
              "                          + '<p>JavaScript Error: ' + error.message + '</p>'\n",
              "                          + \"<p>This usually means there's a typo in your chart specification. \"\n",
              "                          + \"See the javascript console for the full traceback.</p>\"\n",
              "                          + '</div>');\n",
              "          throw error;\n",
              "      }\n",
              "      const el = document.getElementById('altair-viz');\n",
              "      vegaEmbed(\"#altair-viz\", spec, embedOpt)\n",
              "        .catch(error => showError(el, error));\n",
              "\n",
              "  </script>\n",
              "</body>\n",
              "</html>"
            ]
          },
          "metadata": {
            "tags": []
          },
          "execution_count": 68
        }
      ]
    },
    {
      "cell_type": "markdown",
      "metadata": {
        "id": "3HI3puFknv2Q",
        "colab_type": "text"
      },
      "source": [
        "### Composing charts in altair\n",
        "\n",
        "`altair` has a very nice way to compose multiple plots. Two histograms side by side? just do the following."
      ]
    },
    {
      "cell_type": "code",
      "metadata": {
        "id": "fBs18Rawnv2S",
        "colab_type": "code",
        "colab": {}
      },
      "source": [
        "chart1 = alt.Chart(vega_datasets.data.movies.url).mark_bar().encode(\n",
        "    alt.X(\"IMDB_Rating:Q\",  bin=Bin(step=0.1)),\n",
        "    alt.Y('count()')\n",
        ").properties(\n",
        "    width=300,\n",
        "    height=150\n",
        ")\n",
        "chart2 = alt.Chart(vega_datasets.data.movies.url).mark_bar().encode(\n",
        "    alt.X(\"IMDB_Rating:Q\",  bin=Bin(nice=True, maxbins=20)),\n",
        "    alt.Y('count()')\n",
        ").properties(\n",
        "    width=300,\n",
        "    height=150\n",
        ")"
      ],
      "execution_count": 0,
      "outputs": []
    },
    {
      "cell_type": "code",
      "metadata": {
        "id": "oN71hCYEnv2U",
        "colab_type": "code",
        "colab": {
          "base_uri": "https://localhost:8080/",
          "height": 215
        },
        "outputId": "d7d14e9e-2400-40c2-8ce2-a57546ab8f72"
      },
      "source": [
        "chart1 | chart2"
      ],
      "execution_count": 78,
      "outputs": [
        {
          "output_type": "execute_result",
          "data": {
            "text/plain": [
              "HConcatChart({\n",
              "  hconcat: [Chart({\n",
              "    data: 'https://vega.github.io/vega-datasets/data/movies.json',\n",
              "    encoding: FacetedEncoding({\n",
              "      x: X({\n",
              "        bin: BinParams({\n",
              "          step: 0.1\n",
              "        }),\n",
              "        field: 'IMDB_Rating',\n",
              "        type: 'quantitative'\n",
              "      }),\n",
              "      y: Y({\n",
              "        aggregate: 'count',\n",
              "        type: 'quantitative'\n",
              "      })\n",
              "    }),\n",
              "    height: 150,\n",
              "    mark: 'bar',\n",
              "    width: 300\n",
              "  }), Chart({\n",
              "    data: 'https://vega.github.io/vega-datasets/data/movies.json',\n",
              "    encoding: FacetedEncoding({\n",
              "      x: X({\n",
              "        bin: BinParams({\n",
              "          maxbins: 20,\n",
              "          nice: True\n",
              "        }),\n",
              "        field: 'IMDB_Rating',\n",
              "        type: 'quantitative'\n",
              "      }),\n",
              "      y: Y({\n",
              "        aggregate: 'count',\n",
              "        type: 'quantitative'\n",
              "      })\n",
              "    }),\n",
              "    height: 150,\n",
              "    mark: 'bar',\n",
              "    width: 300\n",
              "  })]\n",
              "})"
            ],
            "text/html": [
              "<!DOCTYPE html>\n",
              "<html>\n",
              "<head>\n",
              "  <style>\n",
              "    .vega-actions a {\n",
              "        margin-right: 12px;\n",
              "        color: #757575;\n",
              "        font-weight: normal;\n",
              "        font-size: 13px;\n",
              "    }\n",
              "    .error {\n",
              "        color: red;\n",
              "    }\n",
              "  </style>\n",
              "  <script type=\"text/javascript\" src=\"https://cdn.jsdelivr.net/npm//vega@5\"></script>\n",
              "  <script type=\"text/javascript\" src=\"https://cdn.jsdelivr.net/npm//vega-lite@3.3.0\"></script>\n",
              "  <script type=\"text/javascript\" src=\"https://cdn.jsdelivr.net/npm//vega-embed@4\"></script>\n",
              "</head>\n",
              "<body>\n",
              "  <div id=\"altair-viz\"></div>\n",
              "  <script>\n",
              "      var spec = {\"config\": {\"view\": {\"width\": 400, \"height\": 300}, \"mark\": {\"tooltip\": null}}, \"hconcat\": [{\"data\": {\"url\": \"https://vega.github.io/vega-datasets/data/movies.json\"}, \"mark\": \"bar\", \"encoding\": {\"x\": {\"type\": \"quantitative\", \"bin\": {\"step\": 0.1}, \"field\": \"IMDB_Rating\"}, \"y\": {\"type\": \"quantitative\", \"aggregate\": \"count\"}}, \"height\": 150, \"width\": 300}, {\"data\": {\"url\": \"https://vega.github.io/vega-datasets/data/movies.json\"}, \"mark\": \"bar\", \"encoding\": {\"x\": {\"type\": \"quantitative\", \"bin\": {\"maxbins\": 20, \"nice\": true}, \"field\": \"IMDB_Rating\"}, \"y\": {\"type\": \"quantitative\", \"aggregate\": \"count\"}}, \"height\": 150, \"width\": 300}], \"$schema\": \"https://vega.github.io/schema/vega-lite/v3.3.0.json\"};\n",
              "      var embedOpt = {\"mode\": \"vega-lite\"};\n",
              "\n",
              "      function showError(el, error){\n",
              "          el.innerHTML = ('<div class=\"error\" style=\"color:red;\">'\n",
              "                          + '<p>JavaScript Error: ' + error.message + '</p>'\n",
              "                          + \"<p>This usually means there's a typo in your chart specification. \"\n",
              "                          + \"See the javascript console for the full traceback.</p>\"\n",
              "                          + '</div>');\n",
              "          throw error;\n",
              "      }\n",
              "      const el = document.getElementById('altair-viz');\n",
              "      vegaEmbed(\"#altair-viz\", spec, embedOpt)\n",
              "        .catch(error => showError(el, error));\n",
              "\n",
              "  </script>\n",
              "</body>\n",
              "</html>"
            ]
          },
          "metadata": {
            "tags": []
          },
          "execution_count": 78
        }
      ]
    },
    {
      "cell_type": "code",
      "metadata": {
        "id": "agEUCmp7nv2X",
        "colab_type": "code",
        "colab": {
          "base_uri": "https://localhost:8080/",
          "height": 215
        },
        "outputId": "332ef62b-519d-48c6-95a5-044af09cdd78"
      },
      "source": [
        "alt.hconcat(chart1, chart2)"
      ],
      "execution_count": 79,
      "outputs": [
        {
          "output_type": "execute_result",
          "data": {
            "text/plain": [
              "HConcatChart({\n",
              "  hconcat: [Chart({\n",
              "    data: 'https://vega.github.io/vega-datasets/data/movies.json',\n",
              "    encoding: FacetedEncoding({\n",
              "      x: X({\n",
              "        bin: BinParams({\n",
              "          step: 0.1\n",
              "        }),\n",
              "        field: 'IMDB_Rating',\n",
              "        type: 'quantitative'\n",
              "      }),\n",
              "      y: Y({\n",
              "        aggregate: 'count',\n",
              "        type: 'quantitative'\n",
              "      })\n",
              "    }),\n",
              "    height: 150,\n",
              "    mark: 'bar',\n",
              "    width: 300\n",
              "  }), Chart({\n",
              "    data: 'https://vega.github.io/vega-datasets/data/movies.json',\n",
              "    encoding: FacetedEncoding({\n",
              "      x: X({\n",
              "        bin: BinParams({\n",
              "          maxbins: 20,\n",
              "          nice: True\n",
              "        }),\n",
              "        field: 'IMDB_Rating',\n",
              "        type: 'quantitative'\n",
              "      }),\n",
              "      y: Y({\n",
              "        aggregate: 'count',\n",
              "        type: 'quantitative'\n",
              "      })\n",
              "    }),\n",
              "    height: 150,\n",
              "    mark: 'bar',\n",
              "    width: 300\n",
              "  })]\n",
              "})"
            ],
            "text/html": [
              "<!DOCTYPE html>\n",
              "<html>\n",
              "<head>\n",
              "  <style>\n",
              "    .vega-actions a {\n",
              "        margin-right: 12px;\n",
              "        color: #757575;\n",
              "        font-weight: normal;\n",
              "        font-size: 13px;\n",
              "    }\n",
              "    .error {\n",
              "        color: red;\n",
              "    }\n",
              "  </style>\n",
              "  <script type=\"text/javascript\" src=\"https://cdn.jsdelivr.net/npm//vega@5\"></script>\n",
              "  <script type=\"text/javascript\" src=\"https://cdn.jsdelivr.net/npm//vega-lite@3.3.0\"></script>\n",
              "  <script type=\"text/javascript\" src=\"https://cdn.jsdelivr.net/npm//vega-embed@4\"></script>\n",
              "</head>\n",
              "<body>\n",
              "  <div id=\"altair-viz\"></div>\n",
              "  <script>\n",
              "      var spec = {\"config\": {\"view\": {\"width\": 400, \"height\": 300}, \"mark\": {\"tooltip\": null}}, \"hconcat\": [{\"data\": {\"url\": \"https://vega.github.io/vega-datasets/data/movies.json\"}, \"mark\": \"bar\", \"encoding\": {\"x\": {\"type\": \"quantitative\", \"bin\": {\"step\": 0.1}, \"field\": \"IMDB_Rating\"}, \"y\": {\"type\": \"quantitative\", \"aggregate\": \"count\"}}, \"height\": 150, \"width\": 300}, {\"data\": {\"url\": \"https://vega.github.io/vega-datasets/data/movies.json\"}, \"mark\": \"bar\", \"encoding\": {\"x\": {\"type\": \"quantitative\", \"bin\": {\"maxbins\": 20, \"nice\": true}, \"field\": \"IMDB_Rating\"}, \"y\": {\"type\": \"quantitative\", \"aggregate\": \"count\"}}, \"height\": 150, \"width\": 300}], \"$schema\": \"https://vega.github.io/schema/vega-lite/v3.3.0.json\"};\n",
              "      var embedOpt = {\"mode\": \"vega-lite\"};\n",
              "\n",
              "      function showError(el, error){\n",
              "          el.innerHTML = ('<div class=\"error\" style=\"color:red;\">'\n",
              "                          + '<p>JavaScript Error: ' + error.message + '</p>'\n",
              "                          + \"<p>This usually means there's a typo in your chart specification. \"\n",
              "                          + \"See the javascript console for the full traceback.</p>\"\n",
              "                          + '</div>');\n",
              "          throw error;\n",
              "      }\n",
              "      const el = document.getElementById('altair-viz');\n",
              "      vegaEmbed(\"#altair-viz\", spec, embedOpt)\n",
              "        .catch(error => showError(el, error));\n",
              "\n",
              "  </script>\n",
              "</body>\n",
              "</html>"
            ]
          },
          "metadata": {
            "tags": []
          },
          "execution_count": 79
        }
      ]
    },
    {
      "cell_type": "markdown",
      "metadata": {
        "id": "JratzxNRnv2Z",
        "colab_type": "text"
      },
      "source": [
        "Vertical commposition? "
      ]
    },
    {
      "cell_type": "code",
      "metadata": {
        "id": "Wcn4a08anv2Z",
        "colab_type": "code",
        "colab": {
          "base_uri": "https://localhost:8080/",
          "height": 419
        },
        "outputId": "e4c341cb-a143-42e7-ba77-6c682ba0e836"
      },
      "source": [
        "alt.vconcat(chart1, chart2)"
      ],
      "execution_count": 73,
      "outputs": [
        {
          "output_type": "execute_result",
          "data": {
            "text/plain": [
              "VConcatChart({\n",
              "  vconcat: [Chart({\n",
              "    data: 'https://vega.github.io/vega-datasets/data/movies.json',\n",
              "    encoding: FacetedEncoding({\n",
              "      x: X({\n",
              "        bin: BinParams({\n",
              "          step: 0.1\n",
              "        }),\n",
              "        field: 'IMDB_Rating',\n",
              "        type: 'quantitative'\n",
              "      }),\n",
              "      y: Y({\n",
              "        aggregate: 'count',\n",
              "        type: 'quantitative'\n",
              "      })\n",
              "    }),\n",
              "    height: 150,\n",
              "    mark: 'bar',\n",
              "    width: 300\n",
              "  }), Chart({\n",
              "    data: 'https://vega.github.io/vega-datasets/data/movies.json',\n",
              "    encoding: FacetedEncoding({\n",
              "      x: X({\n",
              "        bin: BinParams({\n",
              "          maxbins: 20,\n",
              "          nice: True\n",
              "        }),\n",
              "        field: 'IMDB_Rating',\n",
              "        type: 'quantitative'\n",
              "      }),\n",
              "      y: Y({\n",
              "        aggregate: 'count',\n",
              "        type: 'quantitative'\n",
              "      })\n",
              "    }),\n",
              "    height: 150,\n",
              "    mark: 'bar',\n",
              "    width: 300\n",
              "  })]\n",
              "})"
            ],
            "text/html": [
              "<!DOCTYPE html>\n",
              "<html>\n",
              "<head>\n",
              "  <style>\n",
              "    .vega-actions a {\n",
              "        margin-right: 12px;\n",
              "        color: #757575;\n",
              "        font-weight: normal;\n",
              "        font-size: 13px;\n",
              "    }\n",
              "    .error {\n",
              "        color: red;\n",
              "    }\n",
              "  </style>\n",
              "  <script type=\"text/javascript\" src=\"https://cdn.jsdelivr.net/npm//vega@5\"></script>\n",
              "  <script type=\"text/javascript\" src=\"https://cdn.jsdelivr.net/npm//vega-lite@3.3.0\"></script>\n",
              "  <script type=\"text/javascript\" src=\"https://cdn.jsdelivr.net/npm//vega-embed@4\"></script>\n",
              "</head>\n",
              "<body>\n",
              "  <div id=\"altair-viz\"></div>\n",
              "  <script>\n",
              "      var spec = {\"config\": {\"view\": {\"width\": 400, \"height\": 300}, \"mark\": {\"tooltip\": null}}, \"vconcat\": [{\"data\": {\"url\": \"https://vega.github.io/vega-datasets/data/movies.json\"}, \"mark\": \"bar\", \"encoding\": {\"x\": {\"type\": \"quantitative\", \"bin\": {\"step\": 0.1}, \"field\": \"IMDB_Rating\"}, \"y\": {\"type\": \"quantitative\", \"aggregate\": \"count\"}}, \"height\": 150, \"width\": 300}, {\"data\": {\"url\": \"https://vega.github.io/vega-datasets/data/movies.json\"}, \"mark\": \"bar\", \"encoding\": {\"x\": {\"type\": \"quantitative\", \"bin\": {\"maxbins\": 20, \"nice\": true}, \"field\": \"IMDB_Rating\"}, \"y\": {\"type\": \"quantitative\", \"aggregate\": \"count\"}}, \"height\": 150, \"width\": 300}], \"$schema\": \"https://vega.github.io/schema/vega-lite/v3.3.0.json\"};\n",
              "      var embedOpt = {\"mode\": \"vega-lite\"};\n",
              "\n",
              "      function showError(el, error){\n",
              "          el.innerHTML = ('<div class=\"error\" style=\"color:red;\">'\n",
              "                          + '<p>JavaScript Error: ' + error.message + '</p>'\n",
              "                          + \"<p>This usually means there's a typo in your chart specification. \"\n",
              "                          + \"See the javascript console for the full traceback.</p>\"\n",
              "                          + '</div>');\n",
              "          throw error;\n",
              "      }\n",
              "      const el = document.getElementById('altair-viz');\n",
              "      vegaEmbed(\"#altair-viz\", spec, embedOpt)\n",
              "        .catch(error => showError(el, error));\n",
              "\n",
              "  </script>\n",
              "</body>\n",
              "</html>"
            ]
          },
          "metadata": {
            "tags": []
          },
          "execution_count": 73
        }
      ]
    },
    {
      "cell_type": "code",
      "metadata": {
        "id": "uVqZWWbLnv2b",
        "colab_type": "code",
        "colab": {
          "base_uri": "https://localhost:8080/",
          "height": 419
        },
        "outputId": "3a901449-60fa-41fc-c1b7-fbbd97e56ecb"
      },
      "source": [
        "chart1 & chart2"
      ],
      "execution_count": 74,
      "outputs": [
        {
          "output_type": "execute_result",
          "data": {
            "text/plain": [
              "VConcatChart({\n",
              "  vconcat: [Chart({\n",
              "    data: 'https://vega.github.io/vega-datasets/data/movies.json',\n",
              "    encoding: FacetedEncoding({\n",
              "      x: X({\n",
              "        bin: BinParams({\n",
              "          step: 0.1\n",
              "        }),\n",
              "        field: 'IMDB_Rating',\n",
              "        type: 'quantitative'\n",
              "      }),\n",
              "      y: Y({\n",
              "        aggregate: 'count',\n",
              "        type: 'quantitative'\n",
              "      })\n",
              "    }),\n",
              "    height: 150,\n",
              "    mark: 'bar',\n",
              "    width: 300\n",
              "  }), Chart({\n",
              "    data: 'https://vega.github.io/vega-datasets/data/movies.json',\n",
              "    encoding: FacetedEncoding({\n",
              "      x: X({\n",
              "        bin: BinParams({\n",
              "          maxbins: 20,\n",
              "          nice: True\n",
              "        }),\n",
              "        field: 'IMDB_Rating',\n",
              "        type: 'quantitative'\n",
              "      }),\n",
              "      y: Y({\n",
              "        aggregate: 'count',\n",
              "        type: 'quantitative'\n",
              "      })\n",
              "    }),\n",
              "    height: 150,\n",
              "    mark: 'bar',\n",
              "    width: 300\n",
              "  })]\n",
              "})"
            ],
            "text/html": [
              "<!DOCTYPE html>\n",
              "<html>\n",
              "<head>\n",
              "  <style>\n",
              "    .vega-actions a {\n",
              "        margin-right: 12px;\n",
              "        color: #757575;\n",
              "        font-weight: normal;\n",
              "        font-size: 13px;\n",
              "    }\n",
              "    .error {\n",
              "        color: red;\n",
              "    }\n",
              "  </style>\n",
              "  <script type=\"text/javascript\" src=\"https://cdn.jsdelivr.net/npm//vega@5\"></script>\n",
              "  <script type=\"text/javascript\" src=\"https://cdn.jsdelivr.net/npm//vega-lite@3.3.0\"></script>\n",
              "  <script type=\"text/javascript\" src=\"https://cdn.jsdelivr.net/npm//vega-embed@4\"></script>\n",
              "</head>\n",
              "<body>\n",
              "  <div id=\"altair-viz\"></div>\n",
              "  <script>\n",
              "      var spec = {\"config\": {\"view\": {\"width\": 400, \"height\": 300}, \"mark\": {\"tooltip\": null}}, \"vconcat\": [{\"data\": {\"url\": \"https://vega.github.io/vega-datasets/data/movies.json\"}, \"mark\": \"bar\", \"encoding\": {\"x\": {\"type\": \"quantitative\", \"bin\": {\"step\": 0.1}, \"field\": \"IMDB_Rating\"}, \"y\": {\"type\": \"quantitative\", \"aggregate\": \"count\"}}, \"height\": 150, \"width\": 300}, {\"data\": {\"url\": \"https://vega.github.io/vega-datasets/data/movies.json\"}, \"mark\": \"bar\", \"encoding\": {\"x\": {\"type\": \"quantitative\", \"bin\": {\"maxbins\": 20, \"nice\": true}, \"field\": \"IMDB_Rating\"}, \"y\": {\"type\": \"quantitative\", \"aggregate\": \"count\"}}, \"height\": 150, \"width\": 300}], \"$schema\": \"https://vega.github.io/schema/vega-lite/v3.3.0.json\"};\n",
              "      var embedOpt = {\"mode\": \"vega-lite\"};\n",
              "\n",
              "      function showError(el, error){\n",
              "          el.innerHTML = ('<div class=\"error\" style=\"color:red;\">'\n",
              "                          + '<p>JavaScript Error: ' + error.message + '</p>'\n",
              "                          + \"<p>This usually means there's a typo in your chart specification. \"\n",
              "                          + \"See the javascript console for the full traceback.</p>\"\n",
              "                          + '</div>');\n",
              "          throw error;\n",
              "      }\n",
              "      const el = document.getElementById('altair-viz');\n",
              "      vegaEmbed(\"#altair-viz\", spec, embedOpt)\n",
              "        .catch(error => showError(el, error));\n",
              "\n",
              "  </script>\n",
              "</body>\n",
              "</html>"
            ]
          },
          "metadata": {
            "tags": []
          },
          "execution_count": 74
        }
      ]
    },
    {
      "cell_type": "markdown",
      "metadata": {
        "id": "8PbJldi2nv2e",
        "colab_type": "text"
      },
      "source": [
        "Shall we avoid some repetitions? You can define a *base* empty chart first and then assign encodings later when you put together multiple charts together. Here is an example: https://altair-viz.github.io/user_guide/compound_charts.html#repeated-charts\n",
        "\n",
        "**Q: Using the base chart approach to create a 2x2 chart where the top row shows the two histograms of `IMDB_Rating` with `maxbins`=10 and 50 respectively, and the bottom row shows another two histograms of `IMDB_Votes` with `maxbins`=10 and 50.**"
      ]
    },
    {
      "cell_type": "code",
      "metadata": {
        "id": "PXbxqqZXnv2e",
        "colab_type": "code",
        "colab": {
          "base_uri": "https://localhost:8080/",
          "height": 729
        },
        "outputId": "b1e68473-8801-4aec-d6ef-64b19caf29d9"
      },
      "source": [
        "# TODO\n",
        "imdb_rating_10 = alt.Chart(vega_datasets.data.movies.url).mark_bar().encode(\n",
        "    alt.X(\"IMDB_Rating:Q\",  bin=Bin(nice=True, maxbins=10)),\n",
        "    alt.Y('count()')\n",
        ")\n",
        "\n",
        "imdb_rating_50 = alt.Chart(vega_datasets.data.movies.url).mark_bar().encode(\n",
        "    alt.X(\"IMDB_Rating:Q\",  bin=Bin(nice=True, maxbins=50)),\n",
        "    alt.Y('count()')\n",
        ")\n",
        "\n",
        "imdb_votes_10 = alt.Chart(vega_datasets.data.movies.url).mark_bar().encode(\n",
        "    alt.X(\"IMDB_Votes:Q\",  bin=Bin(nice=True, maxbins=10)),\n",
        "    alt.Y('count()')\n",
        ")\n",
        "\n",
        "imdb_votes_50 = alt.Chart(vega_datasets.data.movies.url).mark_bar().encode(\n",
        "    alt.X(\"IMDB_Votes:Q\",  bin=Bin(nice=True, maxbins=50)),\n",
        "    alt.Y('count()')\n",
        ")\n",
        "\n",
        "alt.vconcat(\n",
        "    alt.hconcat(\n",
        "        imdb_rating_10,\n",
        "        imdb_rating_50\n",
        "        ),\n",
        "    alt.hconcat(\n",
        "        imdb_votes_10,\n",
        "        imdb_votes_50\n",
        "        )\n",
        ")"
      ],
      "execution_count": 125,
      "outputs": [
        {
          "output_type": "execute_result",
          "data": {
            "text/plain": [
              "VConcatChart({\n",
              "  vconcat: [HConcatChart({\n",
              "    hconcat: [Chart({\n",
              "      data: 'https://vega.github.io/vega-datasets/data/movies.json',\n",
              "      encoding: FacetedEncoding({\n",
              "        x: X({\n",
              "          bin: BinParams({\n",
              "            maxbins: 10,\n",
              "            nice: True\n",
              "          }),\n",
              "          field: 'IMDB_Rating',\n",
              "          type: 'quantitative'\n",
              "        }),\n",
              "        y: Y({\n",
              "          aggregate: 'count',\n",
              "          type: 'quantitative'\n",
              "        })\n",
              "      }),\n",
              "      mark: 'bar'\n",
              "    }), Chart({\n",
              "      data: 'https://vega.github.io/vega-datasets/data/movies.json',\n",
              "      encoding: FacetedEncoding({\n",
              "        x: X({\n",
              "          bin: BinParams({\n",
              "            maxbins: 50,\n",
              "            nice: True\n",
              "          }),\n",
              "          field: 'IMDB_Rating',\n",
              "          type: 'quantitative'\n",
              "        }),\n",
              "        y: Y({\n",
              "          aggregate: 'count',\n",
              "          type: 'quantitative'\n",
              "        })\n",
              "      }),\n",
              "      mark: 'bar'\n",
              "    })]\n",
              "  }), HConcatChart({\n",
              "    hconcat: [Chart({\n",
              "      data: 'https://vega.github.io/vega-datasets/data/movies.json',\n",
              "      encoding: FacetedEncoding({\n",
              "        x: X({\n",
              "          bin: BinParams({\n",
              "            maxbins: 10,\n",
              "            nice: True\n",
              "          }),\n",
              "          field: 'IMDB_Votes',\n",
              "          type: 'quantitative'\n",
              "        }),\n",
              "        y: Y({\n",
              "          aggregate: 'count',\n",
              "          type: 'quantitative'\n",
              "        })\n",
              "      }),\n",
              "      mark: 'bar'\n",
              "    }), Chart({\n",
              "      data: 'https://vega.github.io/vega-datasets/data/movies.json',\n",
              "      encoding: FacetedEncoding({\n",
              "        x: X({\n",
              "          bin: BinParams({\n",
              "            maxbins: 50,\n",
              "            nice: True\n",
              "          }),\n",
              "          field: 'IMDB_Votes',\n",
              "          type: 'quantitative'\n",
              "        }),\n",
              "        y: Y({\n",
              "          aggregate: 'count',\n",
              "          type: 'quantitative'\n",
              "        })\n",
              "      }),\n",
              "      mark: 'bar'\n",
              "    })]\n",
              "  })]\n",
              "})"
            ],
            "text/html": [
              "<!DOCTYPE html>\n",
              "<html>\n",
              "<head>\n",
              "  <style>\n",
              "    .vega-actions a {\n",
              "        margin-right: 12px;\n",
              "        color: #757575;\n",
              "        font-weight: normal;\n",
              "        font-size: 13px;\n",
              "    }\n",
              "    .error {\n",
              "        color: red;\n",
              "    }\n",
              "  </style>\n",
              "  <script type=\"text/javascript\" src=\"https://cdn.jsdelivr.net/npm//vega@5\"></script>\n",
              "  <script type=\"text/javascript\" src=\"https://cdn.jsdelivr.net/npm//vega-lite@3.3.0\"></script>\n",
              "  <script type=\"text/javascript\" src=\"https://cdn.jsdelivr.net/npm//vega-embed@4\"></script>\n",
              "</head>\n",
              "<body>\n",
              "  <div id=\"altair-viz\"></div>\n",
              "  <script>\n",
              "      var spec = {\"config\": {\"view\": {\"width\": 400, \"height\": 300}, \"mark\": {\"tooltip\": null}}, \"vconcat\": [{\"hconcat\": [{\"data\": {\"url\": \"https://vega.github.io/vega-datasets/data/movies.json\"}, \"mark\": \"bar\", \"encoding\": {\"x\": {\"type\": \"quantitative\", \"bin\": {\"maxbins\": 10, \"nice\": true}, \"field\": \"IMDB_Rating\"}, \"y\": {\"type\": \"quantitative\", \"aggregate\": \"count\"}}}, {\"data\": {\"url\": \"https://vega.github.io/vega-datasets/data/movies.json\"}, \"mark\": \"bar\", \"encoding\": {\"x\": {\"type\": \"quantitative\", \"bin\": {\"maxbins\": 50, \"nice\": true}, \"field\": \"IMDB_Rating\"}, \"y\": {\"type\": \"quantitative\", \"aggregate\": \"count\"}}}]}, {\"hconcat\": [{\"data\": {\"url\": \"https://vega.github.io/vega-datasets/data/movies.json\"}, \"mark\": \"bar\", \"encoding\": {\"x\": {\"type\": \"quantitative\", \"bin\": {\"maxbins\": 10, \"nice\": true}, \"field\": \"IMDB_Votes\"}, \"y\": {\"type\": \"quantitative\", \"aggregate\": \"count\"}}}, {\"data\": {\"url\": \"https://vega.github.io/vega-datasets/data/movies.json\"}, \"mark\": \"bar\", \"encoding\": {\"x\": {\"type\": \"quantitative\", \"bin\": {\"maxbins\": 50, \"nice\": true}, \"field\": \"IMDB_Votes\"}, \"y\": {\"type\": \"quantitative\", \"aggregate\": \"count\"}}}]}], \"$schema\": \"https://vega.github.io/schema/vega-lite/v3.3.0.json\"};\n",
              "      var embedOpt = {\"mode\": \"vega-lite\"};\n",
              "\n",
              "      function showError(el, error){\n",
              "          el.innerHTML = ('<div class=\"error\" style=\"color:red;\">'\n",
              "                          + '<p>JavaScript Error: ' + error.message + '</p>'\n",
              "                          + \"<p>This usually means there's a typo in your chart specification. \"\n",
              "                          + \"See the javascript console for the full traceback.</p>\"\n",
              "                          + '</div>');\n",
              "          throw error;\n",
              "      }\n",
              "      const el = document.getElementById('altair-viz');\n",
              "      vegaEmbed(\"#altair-viz\", spec, embedOpt)\n",
              "        .catch(error => showError(el, error));\n",
              "\n",
              "  </script>\n",
              "</body>\n",
              "</html>"
            ]
          },
          "metadata": {
            "tags": []
          },
          "execution_count": 125
        }
      ]
    },
    {
      "cell_type": "code",
      "metadata": {
        "id": "1sFKrMB5nv2f",
        "colab_type": "code",
        "colab": {}
      },
      "source": [
        ""
      ],
      "execution_count": 0,
      "outputs": []
    }
  ]
}