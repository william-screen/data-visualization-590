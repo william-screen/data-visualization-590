{
  "nbformat": 4,
  "nbformat_minor": 0,
  "metadata": {
    "colab": {
      "name": "Tidy_Data.ipynb",
      "version": "0.3.2",
      "provenance": [],
      "collapsed_sections": [],
      "include_colab_link": true
    },
    "language_info": {
      "codemirror_mode": {
        "name": "ipython",
        "version": 3
      },
      "file_extension": ".py",
      "mimetype": "text/x-python",
      "name": "python",
      "nbconvert_exporter": "python",
      "pygments_lexer": "ipython3",
      "version": "3.6.4"
    },
    "kernelspec": {
      "display_name": "Python 3",
      "language": "python",
      "name": "python3"
    }
  },
  "cells": [
    {
      "cell_type": "markdown",
      "metadata": {
        "id": "view-in-github",
        "colab_type": "text"
      },
      "source": [
        "<a href=\"https://colab.research.google.com/github/william-screen/data-visualization-590/blob/master/labs/Tidy_Data.ipynb\" target=\"_parent\"><img src=\"https://colab.research.google.com/assets/colab-badge.svg\" alt=\"Open In Colab\"/></a>"
      ]
    },
    {
      "cell_type": "markdown",
      "metadata": {
        "id": "U4My6869WRAT",
        "colab_type": "text"
      },
      "source": [
        "# Module 6: Data types and tidy data"
      ]
    },
    {
      "cell_type": "markdown",
      "metadata": {
        "id": "n0IQJTqLWRAV",
        "colab_type": "text"
      },
      "source": [
        "## Tidy data\n",
        "\n",
        "Let's do some tidy exercise first. This is one of the non-tidy dataset assembled by Hadley Wickham (check out [here](https://github.com/tidyverse/tidyr/tree/4c0a8d0fdb9372302fcc57ad995d57a43d9e4337/vignettes) for more datasets, explanation, and R code). \n",
        "\n",
        "Let's take a look at this small dataset: https://raw.githubusercontent.com/tidyverse/tidyr/4c0a8d0fdb9372302fcc57ad995d57a43d9e4337/vignettes/pew.csv"
      ]
    },
    {
      "cell_type": "code",
      "metadata": {
        "id": "0yEHfsdkWRAW",
        "colab_type": "code",
        "colab": {}
      },
      "source": [
        "import pandas as pd"
      ],
      "execution_count": 0,
      "outputs": []
    },
    {
      "cell_type": "code",
      "metadata": {
        "id": "xuG5eOyFWRAa",
        "colab_type": "code",
        "outputId": "808945fc-a407-4686-a02e-13200c06428b",
        "colab": {
          "base_uri": "https://localhost:8080/",
          "height": 580
        }
      },
      "source": [
        "# pew_df = pd.read_csv('https://raw.githubusercontent.com/tidyverse/tidyr/master/vignettes/pew.csv')\n",
        "pew_df = pd.read_csv('https://raw.githubusercontent.com/cran/tidyr/master/vignettes/pew.csv')\n",
        "pew_df"
      ],
      "execution_count": 0,
      "outputs": [
        {
          "output_type": "execute_result",
          "data": {
            "text/html": [
              "<div>\n",
              "<style scoped>\n",
              "    .dataframe tbody tr th:only-of-type {\n",
              "        vertical-align: middle;\n",
              "    }\n",
              "\n",
              "    .dataframe tbody tr th {\n",
              "        vertical-align: top;\n",
              "    }\n",
              "\n",
              "    .dataframe thead th {\n",
              "        text-align: right;\n",
              "    }\n",
              "</style>\n",
              "<table border=\"1\" class=\"dataframe\">\n",
              "  <thead>\n",
              "    <tr style=\"text-align: right;\">\n",
              "      <th></th>\n",
              "      <th>religion</th>\n",
              "      <th>&lt;$10k</th>\n",
              "      <th>$10-20k</th>\n",
              "      <th>$20-30k</th>\n",
              "      <th>$30-40k</th>\n",
              "      <th>$40-50k</th>\n",
              "      <th>$50-75k</th>\n",
              "      <th>$75-100k</th>\n",
              "      <th>$100-150k</th>\n",
              "      <th>&gt;150k</th>\n",
              "      <th>Don't know/refused</th>\n",
              "    </tr>\n",
              "  </thead>\n",
              "  <tbody>\n",
              "    <tr>\n",
              "      <th>0</th>\n",
              "      <td>Agnostic</td>\n",
              "      <td>27</td>\n",
              "      <td>34</td>\n",
              "      <td>60</td>\n",
              "      <td>81</td>\n",
              "      <td>76</td>\n",
              "      <td>137</td>\n",
              "      <td>122</td>\n",
              "      <td>109</td>\n",
              "      <td>84</td>\n",
              "      <td>96</td>\n",
              "    </tr>\n",
              "    <tr>\n",
              "      <th>1</th>\n",
              "      <td>Atheist</td>\n",
              "      <td>12</td>\n",
              "      <td>27</td>\n",
              "      <td>37</td>\n",
              "      <td>52</td>\n",
              "      <td>35</td>\n",
              "      <td>70</td>\n",
              "      <td>73</td>\n",
              "      <td>59</td>\n",
              "      <td>74</td>\n",
              "      <td>76</td>\n",
              "    </tr>\n",
              "    <tr>\n",
              "      <th>2</th>\n",
              "      <td>Buddhist</td>\n",
              "      <td>27</td>\n",
              "      <td>21</td>\n",
              "      <td>30</td>\n",
              "      <td>34</td>\n",
              "      <td>33</td>\n",
              "      <td>58</td>\n",
              "      <td>62</td>\n",
              "      <td>39</td>\n",
              "      <td>53</td>\n",
              "      <td>54</td>\n",
              "    </tr>\n",
              "    <tr>\n",
              "      <th>3</th>\n",
              "      <td>Catholic</td>\n",
              "      <td>418</td>\n",
              "      <td>617</td>\n",
              "      <td>732</td>\n",
              "      <td>670</td>\n",
              "      <td>638</td>\n",
              "      <td>1116</td>\n",
              "      <td>949</td>\n",
              "      <td>792</td>\n",
              "      <td>633</td>\n",
              "      <td>1489</td>\n",
              "    </tr>\n",
              "    <tr>\n",
              "      <th>4</th>\n",
              "      <td>Don’t know/refused</td>\n",
              "      <td>15</td>\n",
              "      <td>14</td>\n",
              "      <td>15</td>\n",
              "      <td>11</td>\n",
              "      <td>10</td>\n",
              "      <td>35</td>\n",
              "      <td>21</td>\n",
              "      <td>17</td>\n",
              "      <td>18</td>\n",
              "      <td>116</td>\n",
              "    </tr>\n",
              "    <tr>\n",
              "      <th>5</th>\n",
              "      <td>Evangelical Prot</td>\n",
              "      <td>575</td>\n",
              "      <td>869</td>\n",
              "      <td>1064</td>\n",
              "      <td>982</td>\n",
              "      <td>881</td>\n",
              "      <td>1486</td>\n",
              "      <td>949</td>\n",
              "      <td>723</td>\n",
              "      <td>414</td>\n",
              "      <td>1529</td>\n",
              "    </tr>\n",
              "    <tr>\n",
              "      <th>6</th>\n",
              "      <td>Hindu</td>\n",
              "      <td>1</td>\n",
              "      <td>9</td>\n",
              "      <td>7</td>\n",
              "      <td>9</td>\n",
              "      <td>11</td>\n",
              "      <td>34</td>\n",
              "      <td>47</td>\n",
              "      <td>48</td>\n",
              "      <td>54</td>\n",
              "      <td>37</td>\n",
              "    </tr>\n",
              "    <tr>\n",
              "      <th>7</th>\n",
              "      <td>Historically Black Prot</td>\n",
              "      <td>228</td>\n",
              "      <td>244</td>\n",
              "      <td>236</td>\n",
              "      <td>238</td>\n",
              "      <td>197</td>\n",
              "      <td>223</td>\n",
              "      <td>131</td>\n",
              "      <td>81</td>\n",
              "      <td>78</td>\n",
              "      <td>339</td>\n",
              "    </tr>\n",
              "    <tr>\n",
              "      <th>8</th>\n",
              "      <td>Jehovah's Witness</td>\n",
              "      <td>20</td>\n",
              "      <td>27</td>\n",
              "      <td>24</td>\n",
              "      <td>24</td>\n",
              "      <td>21</td>\n",
              "      <td>30</td>\n",
              "      <td>15</td>\n",
              "      <td>11</td>\n",
              "      <td>6</td>\n",
              "      <td>37</td>\n",
              "    </tr>\n",
              "    <tr>\n",
              "      <th>9</th>\n",
              "      <td>Jewish</td>\n",
              "      <td>19</td>\n",
              "      <td>19</td>\n",
              "      <td>25</td>\n",
              "      <td>25</td>\n",
              "      <td>30</td>\n",
              "      <td>95</td>\n",
              "      <td>69</td>\n",
              "      <td>87</td>\n",
              "      <td>151</td>\n",
              "      <td>162</td>\n",
              "    </tr>\n",
              "    <tr>\n",
              "      <th>10</th>\n",
              "      <td>Mainline Prot</td>\n",
              "      <td>289</td>\n",
              "      <td>495</td>\n",
              "      <td>619</td>\n",
              "      <td>655</td>\n",
              "      <td>651</td>\n",
              "      <td>1107</td>\n",
              "      <td>939</td>\n",
              "      <td>753</td>\n",
              "      <td>634</td>\n",
              "      <td>1328</td>\n",
              "    </tr>\n",
              "    <tr>\n",
              "      <th>11</th>\n",
              "      <td>Mormon</td>\n",
              "      <td>29</td>\n",
              "      <td>40</td>\n",
              "      <td>48</td>\n",
              "      <td>51</td>\n",
              "      <td>56</td>\n",
              "      <td>112</td>\n",
              "      <td>85</td>\n",
              "      <td>49</td>\n",
              "      <td>42</td>\n",
              "      <td>69</td>\n",
              "    </tr>\n",
              "    <tr>\n",
              "      <th>12</th>\n",
              "      <td>Muslim</td>\n",
              "      <td>6</td>\n",
              "      <td>7</td>\n",
              "      <td>9</td>\n",
              "      <td>10</td>\n",
              "      <td>9</td>\n",
              "      <td>23</td>\n",
              "      <td>16</td>\n",
              "      <td>8</td>\n",
              "      <td>6</td>\n",
              "      <td>22</td>\n",
              "    </tr>\n",
              "    <tr>\n",
              "      <th>13</th>\n",
              "      <td>Orthodox</td>\n",
              "      <td>13</td>\n",
              "      <td>17</td>\n",
              "      <td>23</td>\n",
              "      <td>32</td>\n",
              "      <td>32</td>\n",
              "      <td>47</td>\n",
              "      <td>38</td>\n",
              "      <td>42</td>\n",
              "      <td>46</td>\n",
              "      <td>73</td>\n",
              "    </tr>\n",
              "    <tr>\n",
              "      <th>14</th>\n",
              "      <td>Other Christian</td>\n",
              "      <td>9</td>\n",
              "      <td>7</td>\n",
              "      <td>11</td>\n",
              "      <td>13</td>\n",
              "      <td>13</td>\n",
              "      <td>14</td>\n",
              "      <td>18</td>\n",
              "      <td>14</td>\n",
              "      <td>12</td>\n",
              "      <td>18</td>\n",
              "    </tr>\n",
              "    <tr>\n",
              "      <th>15</th>\n",
              "      <td>Other Faiths</td>\n",
              "      <td>20</td>\n",
              "      <td>33</td>\n",
              "      <td>40</td>\n",
              "      <td>46</td>\n",
              "      <td>49</td>\n",
              "      <td>63</td>\n",
              "      <td>46</td>\n",
              "      <td>40</td>\n",
              "      <td>41</td>\n",
              "      <td>71</td>\n",
              "    </tr>\n",
              "    <tr>\n",
              "      <th>16</th>\n",
              "      <td>Other World Religions</td>\n",
              "      <td>5</td>\n",
              "      <td>2</td>\n",
              "      <td>3</td>\n",
              "      <td>4</td>\n",
              "      <td>2</td>\n",
              "      <td>7</td>\n",
              "      <td>3</td>\n",
              "      <td>4</td>\n",
              "      <td>4</td>\n",
              "      <td>8</td>\n",
              "    </tr>\n",
              "    <tr>\n",
              "      <th>17</th>\n",
              "      <td>Unaffiliated</td>\n",
              "      <td>217</td>\n",
              "      <td>299</td>\n",
              "      <td>374</td>\n",
              "      <td>365</td>\n",
              "      <td>341</td>\n",
              "      <td>528</td>\n",
              "      <td>407</td>\n",
              "      <td>321</td>\n",
              "      <td>258</td>\n",
              "      <td>597</td>\n",
              "    </tr>\n",
              "  </tbody>\n",
              "</table>\n",
              "</div>"
            ],
            "text/plain": [
              "                   religion  <$10k  ...  >150k  Don't know/refused\n",
              "0                  Agnostic     27  ...     84                  96\n",
              "1                   Atheist     12  ...     74                  76\n",
              "2                  Buddhist     27  ...     53                  54\n",
              "3                  Catholic    418  ...    633                1489\n",
              "4        Don’t know/refused     15  ...     18                 116\n",
              "5          Evangelical Prot    575  ...    414                1529\n",
              "6                     Hindu      1  ...     54                  37\n",
              "7   Historically Black Prot    228  ...     78                 339\n",
              "8         Jehovah's Witness     20  ...      6                  37\n",
              "9                    Jewish     19  ...    151                 162\n",
              "10            Mainline Prot    289  ...    634                1328\n",
              "11                   Mormon     29  ...     42                  69\n",
              "12                   Muslim      6  ...      6                  22\n",
              "13                 Orthodox     13  ...     46                  73\n",
              "14          Other Christian      9  ...     12                  18\n",
              "15             Other Faiths     20  ...     41                  71\n",
              "16    Other World Religions      5  ...      4                   8\n",
              "17             Unaffiliated    217  ...    258                 597\n",
              "\n",
              "[18 rows x 11 columns]"
            ]
          },
          "metadata": {
            "tags": []
          },
          "execution_count": 87
        }
      ]
    },
    {
      "cell_type": "markdown",
      "metadata": {
        "id": "u-v_dIVNWRAj",
        "colab_type": "text"
      },
      "source": [
        "This dataset is about the relationships between income and religion, assembled from a research by the Pew Research Center. You can read more details [here](https://github.com/tidyverse/tidyr/blob/master/vignettes/tidy-data.Rmd#column-headers-are-values-not-variable-names). Is this dataset tidy or not? Why?\n",
        "\n",
        "Yes, many of the columns are values, not variable names. How should we fix it? \n",
        "\n",
        "Pandas provides a convenient function called [melt](http://pandas.pydata.org/pandas-docs/stable/generated/pandas.melt.html). You specify the `id_vars` that are variable columns, and `value_vars` that are value columns, and provide the name for the variable as well as the name for the values. \n",
        "\n",
        "**Q: so please go ahead and tidy it up! I'd suggest to use the variable name \"income\" and value name \"frequency\"**"
      ]
    },
    {
      "cell_type": "code",
      "metadata": {
        "id": "Uo0srS1aWRAk",
        "colab_type": "code",
        "colab": {}
      },
      "source": [
        "# TODO: put your code here\n",
        "pew_tidy_df = pd.melt(pew_df, id_vars=['religion'] ,value_vars=['<$10k', '$10-20k', '$20-30k', '$30-40k', '$40-50k','$50-75k', '$75-100k', '$100-150k', '>150k', 'Don\\'t know/refused'], var_name='income', value_name='frequency')"
      ],
      "execution_count": 0,
      "outputs": []
    },
    {
      "cell_type": "markdown",
      "metadata": {
        "id": "8RhL0skVWRAo",
        "colab_type": "text"
      },
      "source": [
        "If you were successful, you'll have something like this:"
      ]
    },
    {
      "cell_type": "code",
      "metadata": {
        "id": "zM2SfHSnWRAp",
        "colab_type": "code",
        "outputId": "90327a0b-7b72-465f-a489-7243980ce4b2",
        "colab": {
          "base_uri": "https://localhost:8080/",
          "height": 343
        }
      },
      "source": [
        "pew_tidy_df.sample(10)"
      ],
      "execution_count": 0,
      "outputs": [
        {
          "output_type": "execute_result",
          "data": {
            "text/html": [
              "<div>\n",
              "<style scoped>\n",
              "    .dataframe tbody tr th:only-of-type {\n",
              "        vertical-align: middle;\n",
              "    }\n",
              "\n",
              "    .dataframe tbody tr th {\n",
              "        vertical-align: top;\n",
              "    }\n",
              "\n",
              "    .dataframe thead th {\n",
              "        text-align: right;\n",
              "    }\n",
              "</style>\n",
              "<table border=\"1\" class=\"dataframe\">\n",
              "  <thead>\n",
              "    <tr style=\"text-align: right;\">\n",
              "      <th></th>\n",
              "      <th>religion</th>\n",
              "      <th>income</th>\n",
              "      <th>frequency</th>\n",
              "    </tr>\n",
              "  </thead>\n",
              "  <tbody>\n",
              "    <tr>\n",
              "      <th>177</th>\n",
              "      <td>Other Faiths</td>\n",
              "      <td>Don't know/refused</td>\n",
              "      <td>71</td>\n",
              "    </tr>\n",
              "    <tr>\n",
              "      <th>88</th>\n",
              "      <td>Other World Religions</td>\n",
              "      <td>$40-50k</td>\n",
              "      <td>2</td>\n",
              "    </tr>\n",
              "    <tr>\n",
              "      <th>130</th>\n",
              "      <td>Don’t know/refused</td>\n",
              "      <td>$100-150k</td>\n",
              "      <td>17</td>\n",
              "    </tr>\n",
              "    <tr>\n",
              "      <th>15</th>\n",
              "      <td>Other Faiths</td>\n",
              "      <td>&lt;$10k</td>\n",
              "      <td>20</td>\n",
              "    </tr>\n",
              "    <tr>\n",
              "      <th>176</th>\n",
              "      <td>Other Christian</td>\n",
              "      <td>Don't know/refused</td>\n",
              "      <td>18</td>\n",
              "    </tr>\n",
              "    <tr>\n",
              "      <th>35</th>\n",
              "      <td>Unaffiliated</td>\n",
              "      <td>$10-20k</td>\n",
              "      <td>299</td>\n",
              "    </tr>\n",
              "    <tr>\n",
              "      <th>54</th>\n",
              "      <td>Agnostic</td>\n",
              "      <td>$30-40k</td>\n",
              "      <td>81</td>\n",
              "    </tr>\n",
              "    <tr>\n",
              "      <th>34</th>\n",
              "      <td>Other World Religions</td>\n",
              "      <td>$10-20k</td>\n",
              "      <td>2</td>\n",
              "    </tr>\n",
              "    <tr>\n",
              "      <th>52</th>\n",
              "      <td>Other World Religions</td>\n",
              "      <td>$20-30k</td>\n",
              "      <td>3</td>\n",
              "    </tr>\n",
              "    <tr>\n",
              "      <th>21</th>\n",
              "      <td>Catholic</td>\n",
              "      <td>$10-20k</td>\n",
              "      <td>617</td>\n",
              "    </tr>\n",
              "  </tbody>\n",
              "</table>\n",
              "</div>"
            ],
            "text/plain": [
              "                  religion              income  frequency\n",
              "177           Other Faiths  Don't know/refused         71\n",
              "88   Other World Religions             $40-50k          2\n",
              "130     Don’t know/refused           $100-150k         17\n",
              "15            Other Faiths               <$10k         20\n",
              "176        Other Christian  Don't know/refused         18\n",
              "35            Unaffiliated             $10-20k        299\n",
              "54                Agnostic             $30-40k         81\n",
              "34   Other World Religions             $10-20k          2\n",
              "52   Other World Religions             $20-30k          3\n",
              "21                Catholic             $10-20k        617"
            ]
          },
          "metadata": {
            "tags": []
          },
          "execution_count": 89
        }
      ]
    },
    {
      "cell_type": "markdown",
      "metadata": {
        "id": "GAjI8Rf1WRAv",
        "colab_type": "text"
      },
      "source": [
        "## Data types\n",
        "\n",
        "Let's talk about data types briefly. Understanding data types is not only important for choosing the right visualizations, but also important for efficient computing and storage of data. You may not have thought about how pandas represent data in memory. A Pandas `Dataframe` is essentially a bunch of `Series`, and those `Series` are essentially `numpy` arrays. An array may contain a fixed-length items such as integers or variable length items such as strings. Putting some efforts to think about the correct data type can potentially save a lot of memory as well as time. \n",
        "\n",
        "A nice example would be the categorical data type. If you have a variable that only has several possible values, it's essentially a categorical data. Take a look at the `income` variable. "
      ]
    },
    {
      "cell_type": "code",
      "metadata": {
        "id": "m9GQ9KE_WRAw",
        "colab_type": "code",
        "outputId": "2efc95a1-fb22-44cf-c1ed-150a18de9204",
        "colab": {
          "base_uri": "https://localhost:8080/",
          "height": 202
        }
      },
      "source": [
        "pew_tidy_df.income.value_counts()"
      ],
      "execution_count": 0,
      "outputs": [
        {
          "output_type": "execute_result",
          "data": {
            "text/plain": [
              "$75-100k              18\n",
              "$30-40k               18\n",
              "$40-50k               18\n",
              "$50-75k               18\n",
              "$10-20k               18\n",
              "Don't know/refused    18\n",
              "$100-150k             18\n",
              "$20-30k               18\n",
              "<$10k                 18\n",
              ">150k                 18\n",
              "Name: income, dtype: int64"
            ]
          },
          "metadata": {
            "tags": []
          },
          "execution_count": 90
        }
      ]
    },
    {
      "cell_type": "markdown",
      "metadata": {
        "id": "TTkHZkybWRA1",
        "colab_type": "text"
      },
      "source": [
        "These were the column names in the original messy data. The value can take only one of these income ranges and thus it is a categorical data. What is the data type that pandas use to store this column?"
      ]
    },
    {
      "cell_type": "code",
      "metadata": {
        "id": "dlVXwElNWRA3",
        "colab_type": "code",
        "outputId": "13c02e07-0663-45a5-e2a7-d2f95e76bd9b",
        "colab": {
          "base_uri": "https://localhost:8080/",
          "height": 34
        }
      },
      "source": [
        "pew_tidy_df.income.dtype"
      ],
      "execution_count": 0,
      "outputs": [
        {
          "output_type": "execute_result",
          "data": {
            "text/plain": [
              "dtype('O')"
            ]
          },
          "metadata": {
            "tags": []
          },
          "execution_count": 91
        }
      ]
    },
    {
      "cell_type": "markdown",
      "metadata": {
        "id": "2yAwfqL8WRBA",
        "colab_type": "text"
      },
      "source": [
        "The `O` means that it is an object data type, which does not have a fixed size like integer or float. The series contains a sort of pointer to the actual text objects. You can actually inspect the amount of memory used by the dataset. "
      ]
    },
    {
      "cell_type": "code",
      "metadata": {
        "id": "qFqLH3tqWRBC",
        "colab_type": "code",
        "outputId": "a00b90c6-9f46-446b-8b30-e9e05662b348",
        "colab": {
          "base_uri": "https://localhost:8080/",
          "height": 101
        }
      },
      "source": [
        "pew_tidy_df.memory_usage()"
      ],
      "execution_count": 0,
      "outputs": [
        {
          "output_type": "execute_result",
          "data": {
            "text/plain": [
              "Index          80\n",
              "religion     1440\n",
              "income       1440\n",
              "frequency    1440\n",
              "dtype: int64"
            ]
          },
          "metadata": {
            "tags": []
          },
          "execution_count": 92
        }
      ]
    },
    {
      "cell_type": "code",
      "metadata": {
        "id": "3VREIs4CWRBI",
        "colab_type": "code",
        "outputId": "5255e69f-f9d5-4a00-aa89-8ad4bd90cdb0",
        "colab": {
          "base_uri": "https://localhost:8080/",
          "height": 101
        }
      },
      "source": [
        "pew_tidy_df.memory_usage(deep=True)"
      ],
      "execution_count": 0,
      "outputs": [
        {
          "output_type": "execute_result",
          "data": {
            "text/plain": [
              "Index           80\n",
              "religion     12780\n",
              "income       18180\n",
              "frequency     1440\n",
              "dtype: int64"
            ]
          },
          "metadata": {
            "tags": []
          },
          "execution_count": 93
        }
      ]
    },
    {
      "cell_type": "markdown",
      "metadata": {
        "id": "TXno347xWRBW",
        "colab_type": "text"
      },
      "source": [
        "What's going on with the `deep=True` option? When you don't specify `deep=True`, the memory usage method just tells you the amount of memory used by the numpy arrays in the pandas dataframe. When you pass `deep=True`, it tells you the total amount of memory by including the memory used by all the text objects. So, the `religion` and `income` columns occupies almost ten times of memory than the `frequency` column, which is simply an array of integers. "
      ]
    },
    {
      "cell_type": "code",
      "metadata": {
        "id": "l6gUHrbZWRBY",
        "colab_type": "code",
        "outputId": "e6de81e6-2892-4328-f808-c5edb7de57a3",
        "colab": {
          "base_uri": "https://localhost:8080/",
          "height": 34
        }
      },
      "source": [
        "pew_tidy_df.frequency.dtype"
      ],
      "execution_count": 0,
      "outputs": [
        {
          "output_type": "execute_result",
          "data": {
            "text/plain": [
              "dtype('int64')"
            ]
          },
          "metadata": {
            "tags": []
          },
          "execution_count": 94
        }
      ]
    },
    {
      "cell_type": "markdown",
      "metadata": {
        "id": "wL_Up8GvWRBe",
        "colab_type": "text"
      },
      "source": [
        "Is there any way to save up the memory? Note that there are only 10 categories in the income variable. That means we just need 10 numbers to represent the categories! Of course we need to store the names of each category, but that's just one-time cost. The simplest way to convert a column is using `astype` method. "
      ]
    },
    {
      "cell_type": "code",
      "metadata": {
        "id": "XAjgUkU8WRBf",
        "colab_type": "code",
        "colab": {}
      },
      "source": [
        "income_categorical_series = pew_tidy_df.income.astype('category')\n",
        "# you can do pew_tidy_df.income = pew_tidy_df.income.astype('category')"
      ],
      "execution_count": 0,
      "outputs": []
    },
    {
      "cell_type": "markdown",
      "metadata": {
        "id": "qC5QM5QuWRBm",
        "colab_type": "text"
      },
      "source": [
        "Now, this series has the `CategoricalDtype` dtype. "
      ]
    },
    {
      "cell_type": "code",
      "metadata": {
        "id": "JQedOlO2WRBn",
        "colab_type": "code",
        "outputId": "9523052f-4351-45d6-c0b7-6cf3a3cbfec1",
        "colab": {
          "base_uri": "https://localhost:8080/",
          "height": 84
        }
      },
      "source": [
        "income_categorical_series.dtype"
      ],
      "execution_count": 0,
      "outputs": [
        {
          "output_type": "execute_result",
          "data": {
            "text/plain": [
              "CategoricalDtype(categories=['$10-20k', '$100-150k', '$20-30k', '$30-40k', '$40-50k',\n",
              "                  '$50-75k', '$75-100k', '<$10k', '>150k',\n",
              "                  'Don't know/refused'],\n",
              "                 ordered=False)"
            ]
          },
          "metadata": {
            "tags": []
          },
          "execution_count": 96
        }
      ]
    },
    {
      "cell_type": "markdown",
      "metadata": {
        "id": "tf_83ZHhWRBs",
        "colab_type": "text"
      },
      "source": [
        "How much memory do we use?"
      ]
    },
    {
      "cell_type": "code",
      "metadata": {
        "id": "sNZxdNyQWRBt",
        "colab_type": "code",
        "outputId": "e30d0f94-deed-4a9a-a292-736b7025f61d",
        "colab": {
          "base_uri": "https://localhost:8080/",
          "height": 34
        }
      },
      "source": [
        "income_categorical_series.memory_usage(deep=True)"
      ],
      "execution_count": 0,
      "outputs": [
        {
          "output_type": "execute_result",
          "data": {
            "text/plain": [
              "1590"
            ]
          },
          "metadata": {
            "tags": []
          },
          "execution_count": 97
        }
      ]
    },
    {
      "cell_type": "code",
      "metadata": {
        "id": "y7gkl_3vWRB8",
        "colab_type": "code",
        "outputId": "bc96c113-ec9b-49ad-8c67-e03d539bc2bd",
        "colab": {
          "base_uri": "https://localhost:8080/",
          "height": 34
        }
      },
      "source": [
        "pew_tidy_df.income.memory_usage(deep=True)"
      ],
      "execution_count": 0,
      "outputs": [
        {
          "output_type": "execute_result",
          "data": {
            "text/plain": [
              "18260"
            ]
          },
          "metadata": {
            "tags": []
          },
          "execution_count": 98
        }
      ]
    },
    {
      "cell_type": "markdown",
      "metadata": {
        "id": "P8dc6mVDWRCA",
        "colab_type": "text"
      },
      "source": [
        "We have reduced the memory usage by almost 10 fold! Not only that, because now the values are just numbers, it will be much faster to match, filter, manipulate. If your dataset is huge, this can save up a lot of space and time. \n",
        "\n",
        "If the categories have ordering, you can specify the ordering too. "
      ]
    },
    {
      "cell_type": "code",
      "metadata": {
        "id": "pWLGIO5xWRCB",
        "colab_type": "code",
        "outputId": "fb38ee7c-44dc-461f-cec4-3a706fe1cdb4",
        "colab": {
          "base_uri": "https://localhost:8080/",
          "height": 84
        }
      },
      "source": [
        "from pandas.api.types import CategoricalDtype\n",
        "income_type = CategoricalDtype(categories=[\"Don't know/refused\", '<$10k', '$10-20k', '$20-30k', '$30-40k', \n",
        "                                           '$40-50k', '$50-75k', '$75-100k', '$100-150k', '>150k'], ordered=True)\n",
        "income_type"
      ],
      "execution_count": 0,
      "outputs": [
        {
          "output_type": "execute_result",
          "data": {
            "text/plain": [
              "CategoricalDtype(categories=['Don't know/refused', '<$10k', '$10-20k', '$20-30k',\n",
              "                  '$30-40k', '$40-50k', '$50-75k', '$75-100k', '$100-150k',\n",
              "                  '>150k'],\n",
              "                 ordered=True)"
            ]
          },
          "metadata": {
            "tags": []
          },
          "execution_count": 99
        }
      ]
    },
    {
      "cell_type": "code",
      "metadata": {
        "id": "VGp0bH7NWRCF",
        "colab_type": "code",
        "outputId": "6be940bb-3309-449f-ae3a-75e6e3b68493",
        "colab": {
          "base_uri": "https://localhost:8080/",
          "height": 84
        }
      },
      "source": [
        "pew_tidy_df.income.astype(income_type).dtype"
      ],
      "execution_count": 0,
      "outputs": [
        {
          "output_type": "execute_result",
          "data": {
            "text/plain": [
              "CategoricalDtype(categories=['Don't know/refused', '<$10k', '$10-20k', '$20-30k',\n",
              "                  '$30-40k', '$40-50k', '$50-75k', '$75-100k', '$100-150k',\n",
              "                  '>150k'],\n",
              "                 ordered=True)"
            ]
          },
          "metadata": {
            "tags": []
          },
          "execution_count": 100
        }
      ]
    },
    {
      "cell_type": "markdown",
      "metadata": {
        "id": "iYdb8N4vWRCK",
        "colab_type": "text"
      },
      "source": [
        "This data type now allows you to compare and sort based on the ordering. \n",
        "\n",
        "**Q: ok, now convert both religion and income columns of `pew_tidy_df` as categorical dtype (in place) and show that `pew_tidy_df` now uses much less memory**"
      ]
    },
    {
      "cell_type": "code",
      "metadata": {
        "id": "nDFhDrX4WRCL",
        "colab_type": "code",
        "outputId": "f62ff522-aa38-47d2-c402-4ebc19faeca5",
        "colab": {
          "base_uri": "https://localhost:8080/",
          "height": 84
        }
      },
      "source": [
        "# TODO: put your code here\n",
        "\n",
        "# Memory usage - BEFORE\n",
        "print('Memory usage of Religion column: {0}'.format(pew_tidy_df.religion.memory_usage(deep=True)))\n",
        "print('Memory usage of Income column: {0}'.format(pew_tidy_df.income.memory_usage(deep=True)))\n",
        "\n",
        "# Convert Religion and Income columns to categorical dtype (in place)\n",
        "pew_tidy_df.religion = pew_tidy_df.religion.astype('category')\n",
        "pew_tidy_df.income = pew_tidy_df.income.astype('category')\n",
        "\n",
        "# Memory usage - AFTER\n",
        "print('Memory usage of Religion column: {0}'.format(pew_tidy_df.religion.memory_usage(deep=True)))\n",
        "print('Memory usage of Income column: {0}'.format(pew_tidy_df.income.memory_usage(deep=True)))"
      ],
      "execution_count": 0,
      "outputs": [
        {
          "output_type": "stream",
          "text": [
            "Memory usage of Religion column: 12860\n",
            "Memory usage of Income column: 18260\n",
            "Memory usage of Religion column: 2199\n",
            "Memory usage of Income column: 1590\n"
          ],
          "name": "stdout"
        }
      ]
    },
    {
      "cell_type": "markdown",
      "metadata": {
        "id": "Pio7R5RGWRCO",
        "colab_type": "text"
      },
      "source": [
        "## If you want to know more\n",
        "\n",
        "- [Jean-Nicholas Hould: Tidy Data in Python](http://www.jeannicholashould.com/tidy-data-in-python.html)\n",
        "- [Stephen Simmons | Pandas from the Inside](https://www.youtube.com/watch?v=CowlcrtSyME)\n",
        "- [Data school: How do I make my pandas DataFrame smaller and faster?](https://www.youtube.com/watch?v=wDYDYGyN_cw)"
      ]
    },
    {
      "cell_type": "markdown",
      "metadata": {
        "id": "ci5bJy8RWRCP",
        "colab_type": "text"
      },
      "source": [
        "## Visualization\n",
        "\n",
        "Now we have a well-organized table.\n",
        "Here, we first generate a bar graph using Altair and edit it on Vega Editor.\n",
        "Finally, we'll put the figure into a webpage.\n",
        "\n",
        "First, import Altair. If you didn't install it yet, follow the instruction [here](https://altair-viz.github.io/getting_started/installation.html)."
      ]
    },
    {
      "cell_type": "code",
      "metadata": {
        "id": "TBcEANUsWRCR",
        "colab_type": "code",
        "colab": {}
      },
      "source": [
        "import altair as alt"
      ],
      "execution_count": 0,
      "outputs": []
    },
    {
      "cell_type": "markdown",
      "metadata": {
        "id": "DLRahs9iWRCV",
        "colab_type": "text"
      },
      "source": [
        "Basic object of Altair for further process of visualization is \"Chart\", which takes a dataframe as an input. Let's put our dataframe as an argument for the Chart object."
      ]
    },
    {
      "cell_type": "code",
      "metadata": {
        "id": "XWBMrjTKWRCW",
        "colab_type": "code",
        "colab": {}
      },
      "source": [
        "chart = alt.Chart(pew_tidy_df)"
      ],
      "execution_count": 0,
      "outputs": []
    },
    {
      "cell_type": "markdown",
      "metadata": {
        "id": "eonImZFGWRCZ",
        "colab_type": "text"
      },
      "source": [
        "There are multiple ways to visualize it but here we draw a stacked bar chart showing frequencies for each income category with different colors for different religion. \n",
        "\n",
        "By using the [example code](https://altair-viz.github.io/gallery/stacked_bar_chart.html) on Altair website, create a stacked bar chart, looks like the following figure.\n",
        "\n",
        "![Stacked Bar Chart](visualization.png)"
      ]
    },
    {
      "cell_type": "code",
      "metadata": {
        "id": "QiLPwcFpWRCa",
        "colab_type": "code",
        "outputId": "3e383066-1e2c-488e-8534-fe48a44d33cd",
        "colab": {
          "base_uri": "https://localhost:8080/",
          "height": 456
        }
      },
      "source": [
        "# TODO: put your code here\n",
        "\n",
        "alt.Chart(pew_tidy_df).mark_bar().encode(\n",
        "    x='religion',\n",
        "    y='sum(frequency)',\n",
        "    color='income'\n",
        ")"
      ],
      "execution_count": 0,
      "outputs": [
        {
          "output_type": "execute_result",
          "data": {
            "text/plain": [
              "Chart({\n",
              "  data:                     religion              income  frequency\n",
              "  0                   Agnostic               <$10k         27\n",
              "  1                    Atheist               <$10k         12\n",
              "  2                   Buddhist               <$10k         27\n",
              "  3                   Catholic               <$10k        418\n",
              "  4         Don’t know/refused               <$10k         15\n",
              "  5           Evangelical Prot               <$10k        575\n",
              "  6                      Hindu               <$10k          1\n",
              "  7    Historically Black Prot               <$10k        228\n",
              "  8          Jehovah's Witness               <$10k         20\n",
              "  9                     Jewish               <$10k         19\n",
              "  10             Mainline Prot               <$10k        289\n",
              "  11                    Mormon               <$10k         29\n",
              "  12                    Muslim               <$10k          6\n",
              "  13                  Orthodox               <$10k         13\n",
              "  14           Other Christian               <$10k          9\n",
              "  15              Other Faiths               <$10k         20\n",
              "  16     Other World Religions               <$10k          5\n",
              "  17              Unaffiliated               <$10k        217\n",
              "  18                  Agnostic             $10-20k         34\n",
              "  19                   Atheist             $10-20k         27\n",
              "  20                  Buddhist             $10-20k         21\n",
              "  21                  Catholic             $10-20k        617\n",
              "  22        Don’t know/refused             $10-20k         14\n",
              "  23          Evangelical Prot             $10-20k        869\n",
              "  24                     Hindu             $10-20k          9\n",
              "  25   Historically Black Prot             $10-20k        244\n",
              "  26         Jehovah's Witness             $10-20k         27\n",
              "  27                    Jewish             $10-20k         19\n",
              "  28             Mainline Prot             $10-20k        495\n",
              "  29                    Mormon             $10-20k         40\n",
              "  ..                       ...                 ...        ...\n",
              "  150                    Hindu               >150k         54\n",
              "  151  Historically Black Prot               >150k         78\n",
              "  152        Jehovah's Witness               >150k          6\n",
              "  153                   Jewish               >150k        151\n",
              "  154            Mainline Prot               >150k        634\n",
              "  155                   Mormon               >150k         42\n",
              "  156                   Muslim               >150k          6\n",
              "  157                 Orthodox               >150k         46\n",
              "  158          Other Christian               >150k         12\n",
              "  159             Other Faiths               >150k         41\n",
              "  160    Other World Religions               >150k          4\n",
              "  161             Unaffiliated               >150k        258\n",
              "  162                 Agnostic  Don't know/refused         96\n",
              "  163                  Atheist  Don't know/refused         76\n",
              "  164                 Buddhist  Don't know/refused         54\n",
              "  165                 Catholic  Don't know/refused       1489\n",
              "  166       Don’t know/refused  Don't know/refused        116\n",
              "  167         Evangelical Prot  Don't know/refused       1529\n",
              "  168                    Hindu  Don't know/refused         37\n",
              "  169  Historically Black Prot  Don't know/refused        339\n",
              "  170        Jehovah's Witness  Don't know/refused         37\n",
              "  171                   Jewish  Don't know/refused        162\n",
              "  172            Mainline Prot  Don't know/refused       1328\n",
              "  173                   Mormon  Don't know/refused         69\n",
              "  174                   Muslim  Don't know/refused         22\n",
              "  175                 Orthodox  Don't know/refused         73\n",
              "  176          Other Christian  Don't know/refused         18\n",
              "  177             Other Faiths  Don't know/refused         71\n",
              "  178    Other World Religions  Don't know/refused          8\n",
              "  179             Unaffiliated  Don't know/refused        597\n",
              "  \n",
              "  [180 rows x 3 columns],\n",
              "  encoding: FacetedEncoding({\n",
              "    color: Color({\n",
              "      shorthand: 'income'\n",
              "    }),\n",
              "    x: X({\n",
              "      shorthand: 'religion'\n",
              "    }),\n",
              "    y: Y({\n",
              "      shorthand: 'sum(frequency)'\n",
              "    })\n",
              "  }),\n",
              "  mark: 'bar'\n",
              "})"
            ],
            "text/html": [
              "<!DOCTYPE html>\n",
              "<html>\n",
              "<head>\n",
              "  <style>\n",
              "    .vega-actions a {\n",
              "        margin-right: 12px;\n",
              "        color: #757575;\n",
              "        font-weight: normal;\n",
              "        font-size: 13px;\n",
              "    }\n",
              "    .error {\n",
              "        color: red;\n",
              "    }\n",
              "  </style>\n",
              "  <script type=\"text/javascript\" src=\"https://cdn.jsdelivr.net/npm//vega@5\"></script>\n",
              "  <script type=\"text/javascript\" src=\"https://cdn.jsdelivr.net/npm//vega-lite@3.2.1\"></script>\n",
              "  <script type=\"text/javascript\" src=\"https://cdn.jsdelivr.net/npm//vega-embed@4\"></script>\n",
              "</head>\n",
              "<body>\n",
              "  <div id=\"altair-viz\"></div>\n",
              "  <script>\n",
              "      var spec = {\"config\": {\"view\": {\"width\": 400, \"height\": 300}, \"mark\": {\"tooltip\": null}}, \"data\": {\"name\": \"data-35cb11bed41e71a31789f5b89f0de5ab\"}, \"mark\": \"bar\", \"encoding\": {\"color\": {\"type\": \"nominal\", \"field\": \"income\"}, \"x\": {\"type\": \"nominal\", \"field\": \"religion\"}, \"y\": {\"type\": \"quantitative\", \"aggregate\": \"sum\", \"field\": \"frequency\"}}, \"$schema\": \"https://vega.github.io/schema/vega-lite/v3.2.1.json\", \"datasets\": {\"data-35cb11bed41e71a31789f5b89f0de5ab\": [{\"religion\": \"Agnostic\", \"income\": \"<$10k\", \"frequency\": 27}, {\"religion\": \"Atheist\", \"income\": \"<$10k\", \"frequency\": 12}, {\"religion\": \"Buddhist\", \"income\": \"<$10k\", \"frequency\": 27}, {\"religion\": \"Catholic\", \"income\": \"<$10k\", \"frequency\": 418}, {\"religion\": \"Don\\u2019t know/refused\", \"income\": \"<$10k\", \"frequency\": 15}, {\"religion\": \"Evangelical Prot\", \"income\": \"<$10k\", \"frequency\": 575}, {\"religion\": \"Hindu\", \"income\": \"<$10k\", \"frequency\": 1}, {\"religion\": \"Historically Black Prot\", \"income\": \"<$10k\", \"frequency\": 228}, {\"religion\": \"Jehovah's Witness\", \"income\": \"<$10k\", \"frequency\": 20}, {\"religion\": \"Jewish\", \"income\": \"<$10k\", \"frequency\": 19}, {\"religion\": \"Mainline Prot\", \"income\": \"<$10k\", \"frequency\": 289}, {\"religion\": \"Mormon\", \"income\": \"<$10k\", \"frequency\": 29}, {\"religion\": \"Muslim\", \"income\": \"<$10k\", \"frequency\": 6}, {\"religion\": \"Orthodox\", \"income\": \"<$10k\", \"frequency\": 13}, {\"religion\": \"Other Christian\", \"income\": \"<$10k\", \"frequency\": 9}, {\"religion\": \"Other Faiths\", \"income\": \"<$10k\", \"frequency\": 20}, {\"religion\": \"Other World Religions\", \"income\": \"<$10k\", \"frequency\": 5}, {\"religion\": \"Unaffiliated\", \"income\": \"<$10k\", \"frequency\": 217}, {\"religion\": \"Agnostic\", \"income\": \"$10-20k\", \"frequency\": 34}, {\"religion\": \"Atheist\", \"income\": \"$10-20k\", \"frequency\": 27}, {\"religion\": \"Buddhist\", \"income\": \"$10-20k\", \"frequency\": 21}, {\"religion\": \"Catholic\", \"income\": \"$10-20k\", \"frequency\": 617}, {\"religion\": \"Don\\u2019t know/refused\", \"income\": \"$10-20k\", \"frequency\": 14}, {\"religion\": \"Evangelical Prot\", \"income\": \"$10-20k\", \"frequency\": 869}, {\"religion\": \"Hindu\", \"income\": \"$10-20k\", \"frequency\": 9}, {\"religion\": \"Historically Black Prot\", \"income\": \"$10-20k\", \"frequency\": 244}, {\"religion\": \"Jehovah's Witness\", \"income\": \"$10-20k\", \"frequency\": 27}, {\"religion\": \"Jewish\", \"income\": \"$10-20k\", \"frequency\": 19}, {\"religion\": \"Mainline Prot\", \"income\": \"$10-20k\", \"frequency\": 495}, {\"religion\": \"Mormon\", \"income\": \"$10-20k\", \"frequency\": 40}, {\"religion\": \"Muslim\", \"income\": \"$10-20k\", \"frequency\": 7}, {\"religion\": \"Orthodox\", \"income\": \"$10-20k\", \"frequency\": 17}, {\"religion\": \"Other Christian\", \"income\": \"$10-20k\", \"frequency\": 7}, {\"religion\": \"Other Faiths\", \"income\": \"$10-20k\", \"frequency\": 33}, {\"religion\": \"Other World Religions\", \"income\": \"$10-20k\", \"frequency\": 2}, {\"religion\": \"Unaffiliated\", \"income\": \"$10-20k\", \"frequency\": 299}, {\"religion\": \"Agnostic\", \"income\": \"$20-30k\", \"frequency\": 60}, {\"religion\": \"Atheist\", \"income\": \"$20-30k\", \"frequency\": 37}, {\"religion\": \"Buddhist\", \"income\": \"$20-30k\", \"frequency\": 30}, {\"religion\": \"Catholic\", \"income\": \"$20-30k\", \"frequency\": 732}, {\"religion\": \"Don\\u2019t know/refused\", \"income\": \"$20-30k\", \"frequency\": 15}, {\"religion\": \"Evangelical Prot\", \"income\": \"$20-30k\", \"frequency\": 1064}, {\"religion\": \"Hindu\", \"income\": \"$20-30k\", \"frequency\": 7}, {\"religion\": \"Historically Black Prot\", \"income\": \"$20-30k\", \"frequency\": 236}, {\"religion\": \"Jehovah's Witness\", \"income\": \"$20-30k\", \"frequency\": 24}, {\"religion\": \"Jewish\", \"income\": \"$20-30k\", \"frequency\": 25}, {\"religion\": \"Mainline Prot\", \"income\": \"$20-30k\", \"frequency\": 619}, {\"religion\": \"Mormon\", \"income\": \"$20-30k\", \"frequency\": 48}, {\"religion\": \"Muslim\", \"income\": \"$20-30k\", \"frequency\": 9}, {\"religion\": \"Orthodox\", \"income\": \"$20-30k\", \"frequency\": 23}, {\"religion\": \"Other Christian\", \"income\": \"$20-30k\", \"frequency\": 11}, {\"religion\": \"Other Faiths\", \"income\": \"$20-30k\", \"frequency\": 40}, {\"religion\": \"Other World Religions\", \"income\": \"$20-30k\", \"frequency\": 3}, {\"religion\": \"Unaffiliated\", \"income\": \"$20-30k\", \"frequency\": 374}, {\"religion\": \"Agnostic\", \"income\": \"$30-40k\", \"frequency\": 81}, {\"religion\": \"Atheist\", \"income\": \"$30-40k\", \"frequency\": 52}, {\"religion\": \"Buddhist\", \"income\": \"$30-40k\", \"frequency\": 34}, {\"religion\": \"Catholic\", \"income\": \"$30-40k\", \"frequency\": 670}, {\"religion\": \"Don\\u2019t know/refused\", \"income\": \"$30-40k\", \"frequency\": 11}, {\"religion\": \"Evangelical Prot\", \"income\": \"$30-40k\", \"frequency\": 982}, {\"religion\": \"Hindu\", \"income\": \"$30-40k\", \"frequency\": 9}, {\"religion\": \"Historically Black Prot\", \"income\": \"$30-40k\", \"frequency\": 238}, {\"religion\": \"Jehovah's Witness\", \"income\": \"$30-40k\", \"frequency\": 24}, {\"religion\": \"Jewish\", \"income\": \"$30-40k\", \"frequency\": 25}, {\"religion\": \"Mainline Prot\", \"income\": \"$30-40k\", \"frequency\": 655}, {\"religion\": \"Mormon\", \"income\": \"$30-40k\", \"frequency\": 51}, {\"religion\": \"Muslim\", \"income\": \"$30-40k\", \"frequency\": 10}, {\"religion\": \"Orthodox\", \"income\": \"$30-40k\", \"frequency\": 32}, {\"religion\": \"Other Christian\", \"income\": \"$30-40k\", \"frequency\": 13}, {\"religion\": \"Other Faiths\", \"income\": \"$30-40k\", \"frequency\": 46}, {\"religion\": \"Other World Religions\", \"income\": \"$30-40k\", \"frequency\": 4}, {\"religion\": \"Unaffiliated\", \"income\": \"$30-40k\", \"frequency\": 365}, {\"religion\": \"Agnostic\", \"income\": \"$40-50k\", \"frequency\": 76}, {\"religion\": \"Atheist\", \"income\": \"$40-50k\", \"frequency\": 35}, {\"religion\": \"Buddhist\", \"income\": \"$40-50k\", \"frequency\": 33}, {\"religion\": \"Catholic\", \"income\": \"$40-50k\", \"frequency\": 638}, {\"religion\": \"Don\\u2019t know/refused\", \"income\": \"$40-50k\", \"frequency\": 10}, {\"religion\": \"Evangelical Prot\", \"income\": \"$40-50k\", \"frequency\": 881}, {\"religion\": \"Hindu\", \"income\": \"$40-50k\", \"frequency\": 11}, {\"religion\": \"Historically Black Prot\", \"income\": \"$40-50k\", \"frequency\": 197}, {\"religion\": \"Jehovah's Witness\", \"income\": \"$40-50k\", \"frequency\": 21}, {\"religion\": \"Jewish\", \"income\": \"$40-50k\", \"frequency\": 30}, {\"religion\": \"Mainline Prot\", \"income\": \"$40-50k\", \"frequency\": 651}, {\"religion\": \"Mormon\", \"income\": \"$40-50k\", \"frequency\": 56}, {\"religion\": \"Muslim\", \"income\": \"$40-50k\", \"frequency\": 9}, {\"religion\": \"Orthodox\", \"income\": \"$40-50k\", \"frequency\": 32}, {\"religion\": \"Other Christian\", \"income\": \"$40-50k\", \"frequency\": 13}, {\"religion\": \"Other Faiths\", \"income\": \"$40-50k\", \"frequency\": 49}, {\"religion\": \"Other World Religions\", \"income\": \"$40-50k\", \"frequency\": 2}, {\"religion\": \"Unaffiliated\", \"income\": \"$40-50k\", \"frequency\": 341}, {\"religion\": \"Agnostic\", \"income\": \"$50-75k\", \"frequency\": 137}, {\"religion\": \"Atheist\", \"income\": \"$50-75k\", \"frequency\": 70}, {\"religion\": \"Buddhist\", \"income\": \"$50-75k\", \"frequency\": 58}, {\"religion\": \"Catholic\", \"income\": \"$50-75k\", \"frequency\": 1116}, {\"religion\": \"Don\\u2019t know/refused\", \"income\": \"$50-75k\", \"frequency\": 35}, {\"religion\": \"Evangelical Prot\", \"income\": \"$50-75k\", \"frequency\": 1486}, {\"religion\": \"Hindu\", \"income\": \"$50-75k\", \"frequency\": 34}, {\"religion\": \"Historically Black Prot\", \"income\": \"$50-75k\", \"frequency\": 223}, {\"religion\": \"Jehovah's Witness\", \"income\": \"$50-75k\", \"frequency\": 30}, {\"religion\": \"Jewish\", \"income\": \"$50-75k\", \"frequency\": 95}, {\"religion\": \"Mainline Prot\", \"income\": \"$50-75k\", \"frequency\": 1107}, {\"religion\": \"Mormon\", \"income\": \"$50-75k\", \"frequency\": 112}, {\"religion\": \"Muslim\", \"income\": \"$50-75k\", \"frequency\": 23}, {\"religion\": \"Orthodox\", \"income\": \"$50-75k\", \"frequency\": 47}, {\"religion\": \"Other Christian\", \"income\": \"$50-75k\", \"frequency\": 14}, {\"religion\": \"Other Faiths\", \"income\": \"$50-75k\", \"frequency\": 63}, {\"religion\": \"Other World Religions\", \"income\": \"$50-75k\", \"frequency\": 7}, {\"religion\": \"Unaffiliated\", \"income\": \"$50-75k\", \"frequency\": 528}, {\"religion\": \"Agnostic\", \"income\": \"$75-100k\", \"frequency\": 122}, {\"religion\": \"Atheist\", \"income\": \"$75-100k\", \"frequency\": 73}, {\"religion\": \"Buddhist\", \"income\": \"$75-100k\", \"frequency\": 62}, {\"religion\": \"Catholic\", \"income\": \"$75-100k\", \"frequency\": 949}, {\"religion\": \"Don\\u2019t know/refused\", \"income\": \"$75-100k\", \"frequency\": 21}, {\"religion\": \"Evangelical Prot\", \"income\": \"$75-100k\", \"frequency\": 949}, {\"religion\": \"Hindu\", \"income\": \"$75-100k\", \"frequency\": 47}, {\"religion\": \"Historically Black Prot\", \"income\": \"$75-100k\", \"frequency\": 131}, {\"religion\": \"Jehovah's Witness\", \"income\": \"$75-100k\", \"frequency\": 15}, {\"religion\": \"Jewish\", \"income\": \"$75-100k\", \"frequency\": 69}, {\"religion\": \"Mainline Prot\", \"income\": \"$75-100k\", \"frequency\": 939}, {\"religion\": \"Mormon\", \"income\": \"$75-100k\", \"frequency\": 85}, {\"religion\": \"Muslim\", \"income\": \"$75-100k\", \"frequency\": 16}, {\"religion\": \"Orthodox\", \"income\": \"$75-100k\", \"frequency\": 38}, {\"religion\": \"Other Christian\", \"income\": \"$75-100k\", \"frequency\": 18}, {\"religion\": \"Other Faiths\", \"income\": \"$75-100k\", \"frequency\": 46}, {\"religion\": \"Other World Religions\", \"income\": \"$75-100k\", \"frequency\": 3}, {\"religion\": \"Unaffiliated\", \"income\": \"$75-100k\", \"frequency\": 407}, {\"religion\": \"Agnostic\", \"income\": \"$100-150k\", \"frequency\": 109}, {\"religion\": \"Atheist\", \"income\": \"$100-150k\", \"frequency\": 59}, {\"religion\": \"Buddhist\", \"income\": \"$100-150k\", \"frequency\": 39}, {\"religion\": \"Catholic\", \"income\": \"$100-150k\", \"frequency\": 792}, {\"religion\": \"Don\\u2019t know/refused\", \"income\": \"$100-150k\", \"frequency\": 17}, {\"religion\": \"Evangelical Prot\", \"income\": \"$100-150k\", \"frequency\": 723}, {\"religion\": \"Hindu\", \"income\": \"$100-150k\", \"frequency\": 48}, {\"religion\": \"Historically Black Prot\", \"income\": \"$100-150k\", \"frequency\": 81}, {\"religion\": \"Jehovah's Witness\", \"income\": \"$100-150k\", \"frequency\": 11}, {\"religion\": \"Jewish\", \"income\": \"$100-150k\", \"frequency\": 87}, {\"religion\": \"Mainline Prot\", \"income\": \"$100-150k\", \"frequency\": 753}, {\"religion\": \"Mormon\", \"income\": \"$100-150k\", \"frequency\": 49}, {\"religion\": \"Muslim\", \"income\": \"$100-150k\", \"frequency\": 8}, {\"religion\": \"Orthodox\", \"income\": \"$100-150k\", \"frequency\": 42}, {\"religion\": \"Other Christian\", \"income\": \"$100-150k\", \"frequency\": 14}, {\"religion\": \"Other Faiths\", \"income\": \"$100-150k\", \"frequency\": 40}, {\"religion\": \"Other World Religions\", \"income\": \"$100-150k\", \"frequency\": 4}, {\"religion\": \"Unaffiliated\", \"income\": \"$100-150k\", \"frequency\": 321}, {\"religion\": \"Agnostic\", \"income\": \">150k\", \"frequency\": 84}, {\"religion\": \"Atheist\", \"income\": \">150k\", \"frequency\": 74}, {\"religion\": \"Buddhist\", \"income\": \">150k\", \"frequency\": 53}, {\"religion\": \"Catholic\", \"income\": \">150k\", \"frequency\": 633}, {\"religion\": \"Don\\u2019t know/refused\", \"income\": \">150k\", \"frequency\": 18}, {\"religion\": \"Evangelical Prot\", \"income\": \">150k\", \"frequency\": 414}, {\"religion\": \"Hindu\", \"income\": \">150k\", \"frequency\": 54}, {\"religion\": \"Historically Black Prot\", \"income\": \">150k\", \"frequency\": 78}, {\"religion\": \"Jehovah's Witness\", \"income\": \">150k\", \"frequency\": 6}, {\"religion\": \"Jewish\", \"income\": \">150k\", \"frequency\": 151}, {\"religion\": \"Mainline Prot\", \"income\": \">150k\", \"frequency\": 634}, {\"religion\": \"Mormon\", \"income\": \">150k\", \"frequency\": 42}, {\"religion\": \"Muslim\", \"income\": \">150k\", \"frequency\": 6}, {\"religion\": \"Orthodox\", \"income\": \">150k\", \"frequency\": 46}, {\"religion\": \"Other Christian\", \"income\": \">150k\", \"frequency\": 12}, {\"religion\": \"Other Faiths\", \"income\": \">150k\", \"frequency\": 41}, {\"religion\": \"Other World Religions\", \"income\": \">150k\", \"frequency\": 4}, {\"religion\": \"Unaffiliated\", \"income\": \">150k\", \"frequency\": 258}, {\"religion\": \"Agnostic\", \"income\": \"Don't know/refused\", \"frequency\": 96}, {\"religion\": \"Atheist\", \"income\": \"Don't know/refused\", \"frequency\": 76}, {\"religion\": \"Buddhist\", \"income\": \"Don't know/refused\", \"frequency\": 54}, {\"religion\": \"Catholic\", \"income\": \"Don't know/refused\", \"frequency\": 1489}, {\"religion\": \"Don\\u2019t know/refused\", \"income\": \"Don't know/refused\", \"frequency\": 116}, {\"religion\": \"Evangelical Prot\", \"income\": \"Don't know/refused\", \"frequency\": 1529}, {\"religion\": \"Hindu\", \"income\": \"Don't know/refused\", \"frequency\": 37}, {\"religion\": \"Historically Black Prot\", \"income\": \"Don't know/refused\", \"frequency\": 339}, {\"religion\": \"Jehovah's Witness\", \"income\": \"Don't know/refused\", \"frequency\": 37}, {\"religion\": \"Jewish\", \"income\": \"Don't know/refused\", \"frequency\": 162}, {\"religion\": \"Mainline Prot\", \"income\": \"Don't know/refused\", \"frequency\": 1328}, {\"religion\": \"Mormon\", \"income\": \"Don't know/refused\", \"frequency\": 69}, {\"religion\": \"Muslim\", \"income\": \"Don't know/refused\", \"frequency\": 22}, {\"religion\": \"Orthodox\", \"income\": \"Don't know/refused\", \"frequency\": 73}, {\"religion\": \"Other Christian\", \"income\": \"Don't know/refused\", \"frequency\": 18}, {\"religion\": \"Other Faiths\", \"income\": \"Don't know/refused\", \"frequency\": 71}, {\"religion\": \"Other World Religions\", \"income\": \"Don't know/refused\", \"frequency\": 8}, {\"religion\": \"Unaffiliated\", \"income\": \"Don't know/refused\", \"frequency\": 597}]}};\n",
              "      var embedOpt = {\"mode\": \"vega-lite\"};\n",
              "\n",
              "      function showError(el, error){\n",
              "          el.innerHTML = ('<div class=\"error\" style=\"color:red;\">'\n",
              "                          + '<p>JavaScript Error: ' + error.message + '</p>'\n",
              "                          + \"<p>This usually means there's a typo in your chart specification. \"\n",
              "                          + \"See the javascript console for the full traceback.</p>\"\n",
              "                          + '</div>');\n",
              "          throw error;\n",
              "      }\n",
              "      const el = document.getElementById('altair-viz');\n",
              "      vegaEmbed(\"#altair-viz\", spec, embedOpt)\n",
              "        .catch(error => showError(el, error));\n",
              "\n",
              "  </script>\n",
              "</body>\n",
              "</html>"
            ]
          },
          "metadata": {
            "tags": []
          },
          "execution_count": 104
        }
      ]
    },
    {
      "cell_type": "markdown",
      "metadata": {
        "id": "k04JKyuZWRCf",
        "colab_type": "text"
      },
      "source": [
        "Looks good, except the orientation - it seems better if we can turn it about 90 degrees so the vertical axis becomes income while the horizontal axis becomes frequency.\n",
        "\n",
        "Let's move to Vega Editor to change the size of figure and other small features. \n",
        "\n",
        "If you click ![menu button](menu1.png) at the rigt top side of the figure, \n",
        "you can see the menus including **Save as SVG**, **Save as PNG**, ..., **Open in Vega Editor**.\n",
        "\n",
        "In this editor, you can conver the orientation of this figure by changing values of x-axis and y-axis each other.\n",
        "\n",
        "Does it look like the following figure now?\n",
        "\n",
        "![new stacked bar chart](visualization2.png)"
      ]
    },
    {
      "cell_type": "markdown",
      "metadata": {
        "id": "apsJzjz1WRCg",
        "colab_type": "text"
      },
      "source": [
        "The bars still look uneven. Can we sort the bars so that the longest bar is at the top? Your figure should look like this:\n",
        "![sorted stacked bar chart](visualization3.png)"
      ]
    },
    {
      "cell_type": "code",
      "metadata": {
        "id": "w0Izw7A-WRCh",
        "colab_type": "code",
        "outputId": "cd8d15b0-0058-4f55-deb9-37869317d828",
        "colab": {
          "base_uri": "https://localhost:8080/",
          "height": 423
        }
      },
      "source": [
        "# TODO: put your code here\n",
        "alt.Chart(pew_tidy_df).mark_bar().encode(\n",
        "    x='sum(frequency)',\n",
        "    y=alt.Y(\n",
        "      'religion:N',\n",
        "      sort=alt.EncodingSortField(\n",
        "        field=\"frequency\",  # The field to use for the sort\n",
        "        op=\"sum\",  # The operation to run on the field prior to sorting\n",
        "        order=\"descending\"  # The order to sort in\n",
        "      )\n",
        "    ),\n",
        "    color='income'\n",
        ")"
      ],
      "execution_count": 0,
      "outputs": [
        {
          "output_type": "execute_result",
          "data": {
            "text/plain": [
              "Chart({\n",
              "  data:                     religion              income  frequency\n",
              "  0                   Agnostic               <$10k         27\n",
              "  1                    Atheist               <$10k         12\n",
              "  2                   Buddhist               <$10k         27\n",
              "  3                   Catholic               <$10k        418\n",
              "  4         Don’t know/refused               <$10k         15\n",
              "  5           Evangelical Prot               <$10k        575\n",
              "  6                      Hindu               <$10k          1\n",
              "  7    Historically Black Prot               <$10k        228\n",
              "  8          Jehovah's Witness               <$10k         20\n",
              "  9                     Jewish               <$10k         19\n",
              "  10             Mainline Prot               <$10k        289\n",
              "  11                    Mormon               <$10k         29\n",
              "  12                    Muslim               <$10k          6\n",
              "  13                  Orthodox               <$10k         13\n",
              "  14           Other Christian               <$10k          9\n",
              "  15              Other Faiths               <$10k         20\n",
              "  16     Other World Religions               <$10k          5\n",
              "  17              Unaffiliated               <$10k        217\n",
              "  18                  Agnostic             $10-20k         34\n",
              "  19                   Atheist             $10-20k         27\n",
              "  20                  Buddhist             $10-20k         21\n",
              "  21                  Catholic             $10-20k        617\n",
              "  22        Don’t know/refused             $10-20k         14\n",
              "  23          Evangelical Prot             $10-20k        869\n",
              "  24                     Hindu             $10-20k          9\n",
              "  25   Historically Black Prot             $10-20k        244\n",
              "  26         Jehovah's Witness             $10-20k         27\n",
              "  27                    Jewish             $10-20k         19\n",
              "  28             Mainline Prot             $10-20k        495\n",
              "  29                    Mormon             $10-20k         40\n",
              "  ..                       ...                 ...        ...\n",
              "  150                    Hindu               >150k         54\n",
              "  151  Historically Black Prot               >150k         78\n",
              "  152        Jehovah's Witness               >150k          6\n",
              "  153                   Jewish               >150k        151\n",
              "  154            Mainline Prot               >150k        634\n",
              "  155                   Mormon               >150k         42\n",
              "  156                   Muslim               >150k          6\n",
              "  157                 Orthodox               >150k         46\n",
              "  158          Other Christian               >150k         12\n",
              "  159             Other Faiths               >150k         41\n",
              "  160    Other World Religions               >150k          4\n",
              "  161             Unaffiliated               >150k        258\n",
              "  162                 Agnostic  Don't know/refused         96\n",
              "  163                  Atheist  Don't know/refused         76\n",
              "  164                 Buddhist  Don't know/refused         54\n",
              "  165                 Catholic  Don't know/refused       1489\n",
              "  166       Don’t know/refused  Don't know/refused        116\n",
              "  167         Evangelical Prot  Don't know/refused       1529\n",
              "  168                    Hindu  Don't know/refused         37\n",
              "  169  Historically Black Prot  Don't know/refused        339\n",
              "  170        Jehovah's Witness  Don't know/refused         37\n",
              "  171                   Jewish  Don't know/refused        162\n",
              "  172            Mainline Prot  Don't know/refused       1328\n",
              "  173                   Mormon  Don't know/refused         69\n",
              "  174                   Muslim  Don't know/refused         22\n",
              "  175                 Orthodox  Don't know/refused         73\n",
              "  176          Other Christian  Don't know/refused         18\n",
              "  177             Other Faiths  Don't know/refused         71\n",
              "  178    Other World Religions  Don't know/refused          8\n",
              "  179             Unaffiliated  Don't know/refused        597\n",
              "  \n",
              "  [180 rows x 3 columns],\n",
              "  encoding: FacetedEncoding({\n",
              "    color: Color({\n",
              "      shorthand: 'income'\n",
              "    }),\n",
              "    x: X({\n",
              "      shorthand: 'sum(frequency)'\n",
              "    }),\n",
              "    y: Y({\n",
              "      shorthand: 'religion:N',\n",
              "      sort: EncodingSortField({\n",
              "        field: 'frequency',\n",
              "        op: 'sum',\n",
              "        order: 'descending'\n",
              "      })\n",
              "    })\n",
              "  }),\n",
              "  mark: 'bar'\n",
              "})"
            ],
            "text/html": [
              "<!DOCTYPE html>\n",
              "<html>\n",
              "<head>\n",
              "  <style>\n",
              "    .vega-actions a {\n",
              "        margin-right: 12px;\n",
              "        color: #757575;\n",
              "        font-weight: normal;\n",
              "        font-size: 13px;\n",
              "    }\n",
              "    .error {\n",
              "        color: red;\n",
              "    }\n",
              "  </style>\n",
              "  <script type=\"text/javascript\" src=\"https://cdn.jsdelivr.net/npm//vega@5\"></script>\n",
              "  <script type=\"text/javascript\" src=\"https://cdn.jsdelivr.net/npm//vega-lite@3.2.1\"></script>\n",
              "  <script type=\"text/javascript\" src=\"https://cdn.jsdelivr.net/npm//vega-embed@4\"></script>\n",
              "</head>\n",
              "<body>\n",
              "  <div id=\"altair-viz\"></div>\n",
              "  <script>\n",
              "      var spec = {\"config\": {\"view\": {\"width\": 400, \"height\": 300}, \"mark\": {\"tooltip\": null}}, \"data\": {\"name\": \"data-35cb11bed41e71a31789f5b89f0de5ab\"}, \"mark\": \"bar\", \"encoding\": {\"color\": {\"type\": \"nominal\", \"field\": \"income\"}, \"x\": {\"type\": \"quantitative\", \"aggregate\": \"sum\", \"field\": \"frequency\"}, \"y\": {\"type\": \"nominal\", \"field\": \"religion\", \"sort\": {\"field\": \"frequency\", \"op\": \"sum\", \"order\": \"descending\"}}}, \"$schema\": \"https://vega.github.io/schema/vega-lite/v3.2.1.json\", \"datasets\": {\"data-35cb11bed41e71a31789f5b89f0de5ab\": [{\"religion\": \"Agnostic\", \"income\": \"<$10k\", \"frequency\": 27}, {\"religion\": \"Atheist\", \"income\": \"<$10k\", \"frequency\": 12}, {\"religion\": \"Buddhist\", \"income\": \"<$10k\", \"frequency\": 27}, {\"religion\": \"Catholic\", \"income\": \"<$10k\", \"frequency\": 418}, {\"religion\": \"Don\\u2019t know/refused\", \"income\": \"<$10k\", \"frequency\": 15}, {\"religion\": \"Evangelical Prot\", \"income\": \"<$10k\", \"frequency\": 575}, {\"religion\": \"Hindu\", \"income\": \"<$10k\", \"frequency\": 1}, {\"religion\": \"Historically Black Prot\", \"income\": \"<$10k\", \"frequency\": 228}, {\"religion\": \"Jehovah's Witness\", \"income\": \"<$10k\", \"frequency\": 20}, {\"religion\": \"Jewish\", \"income\": \"<$10k\", \"frequency\": 19}, {\"religion\": \"Mainline Prot\", \"income\": \"<$10k\", \"frequency\": 289}, {\"religion\": \"Mormon\", \"income\": \"<$10k\", \"frequency\": 29}, {\"religion\": \"Muslim\", \"income\": \"<$10k\", \"frequency\": 6}, {\"religion\": \"Orthodox\", \"income\": \"<$10k\", \"frequency\": 13}, {\"religion\": \"Other Christian\", \"income\": \"<$10k\", \"frequency\": 9}, {\"religion\": \"Other Faiths\", \"income\": \"<$10k\", \"frequency\": 20}, {\"religion\": \"Other World Religions\", \"income\": \"<$10k\", \"frequency\": 5}, {\"religion\": \"Unaffiliated\", \"income\": \"<$10k\", \"frequency\": 217}, {\"religion\": \"Agnostic\", \"income\": \"$10-20k\", \"frequency\": 34}, {\"religion\": \"Atheist\", \"income\": \"$10-20k\", \"frequency\": 27}, {\"religion\": \"Buddhist\", \"income\": \"$10-20k\", \"frequency\": 21}, {\"religion\": \"Catholic\", \"income\": \"$10-20k\", \"frequency\": 617}, {\"religion\": \"Don\\u2019t know/refused\", \"income\": \"$10-20k\", \"frequency\": 14}, {\"religion\": \"Evangelical Prot\", \"income\": \"$10-20k\", \"frequency\": 869}, {\"religion\": \"Hindu\", \"income\": \"$10-20k\", \"frequency\": 9}, {\"religion\": \"Historically Black Prot\", \"income\": \"$10-20k\", \"frequency\": 244}, {\"religion\": \"Jehovah's Witness\", \"income\": \"$10-20k\", \"frequency\": 27}, {\"religion\": \"Jewish\", \"income\": \"$10-20k\", \"frequency\": 19}, {\"religion\": \"Mainline Prot\", \"income\": \"$10-20k\", \"frequency\": 495}, {\"religion\": \"Mormon\", \"income\": \"$10-20k\", \"frequency\": 40}, {\"religion\": \"Muslim\", \"income\": \"$10-20k\", \"frequency\": 7}, {\"religion\": \"Orthodox\", \"income\": \"$10-20k\", \"frequency\": 17}, {\"religion\": \"Other Christian\", \"income\": \"$10-20k\", \"frequency\": 7}, {\"religion\": \"Other Faiths\", \"income\": \"$10-20k\", \"frequency\": 33}, {\"religion\": \"Other World Religions\", \"income\": \"$10-20k\", \"frequency\": 2}, {\"religion\": \"Unaffiliated\", \"income\": \"$10-20k\", \"frequency\": 299}, {\"religion\": \"Agnostic\", \"income\": \"$20-30k\", \"frequency\": 60}, {\"religion\": \"Atheist\", \"income\": \"$20-30k\", \"frequency\": 37}, {\"religion\": \"Buddhist\", \"income\": \"$20-30k\", \"frequency\": 30}, {\"religion\": \"Catholic\", \"income\": \"$20-30k\", \"frequency\": 732}, {\"religion\": \"Don\\u2019t know/refused\", \"income\": \"$20-30k\", \"frequency\": 15}, {\"religion\": \"Evangelical Prot\", \"income\": \"$20-30k\", \"frequency\": 1064}, {\"religion\": \"Hindu\", \"income\": \"$20-30k\", \"frequency\": 7}, {\"religion\": \"Historically Black Prot\", \"income\": \"$20-30k\", \"frequency\": 236}, {\"religion\": \"Jehovah's Witness\", \"income\": \"$20-30k\", \"frequency\": 24}, {\"religion\": \"Jewish\", \"income\": \"$20-30k\", \"frequency\": 25}, {\"religion\": \"Mainline Prot\", \"income\": \"$20-30k\", \"frequency\": 619}, {\"religion\": \"Mormon\", \"income\": \"$20-30k\", \"frequency\": 48}, {\"religion\": \"Muslim\", \"income\": \"$20-30k\", \"frequency\": 9}, {\"religion\": \"Orthodox\", \"income\": \"$20-30k\", \"frequency\": 23}, {\"religion\": \"Other Christian\", \"income\": \"$20-30k\", \"frequency\": 11}, {\"religion\": \"Other Faiths\", \"income\": \"$20-30k\", \"frequency\": 40}, {\"religion\": \"Other World Religions\", \"income\": \"$20-30k\", \"frequency\": 3}, {\"religion\": \"Unaffiliated\", \"income\": \"$20-30k\", \"frequency\": 374}, {\"religion\": \"Agnostic\", \"income\": \"$30-40k\", \"frequency\": 81}, {\"religion\": \"Atheist\", \"income\": \"$30-40k\", \"frequency\": 52}, {\"religion\": \"Buddhist\", \"income\": \"$30-40k\", \"frequency\": 34}, {\"religion\": \"Catholic\", \"income\": \"$30-40k\", \"frequency\": 670}, {\"religion\": \"Don\\u2019t know/refused\", \"income\": \"$30-40k\", \"frequency\": 11}, {\"religion\": \"Evangelical Prot\", \"income\": \"$30-40k\", \"frequency\": 982}, {\"religion\": \"Hindu\", \"income\": \"$30-40k\", \"frequency\": 9}, {\"religion\": \"Historically Black Prot\", \"income\": \"$30-40k\", \"frequency\": 238}, {\"religion\": \"Jehovah's Witness\", \"income\": \"$30-40k\", \"frequency\": 24}, {\"religion\": \"Jewish\", \"income\": \"$30-40k\", \"frequency\": 25}, {\"religion\": \"Mainline Prot\", \"income\": \"$30-40k\", \"frequency\": 655}, {\"religion\": \"Mormon\", \"income\": \"$30-40k\", \"frequency\": 51}, {\"religion\": \"Muslim\", \"income\": \"$30-40k\", \"frequency\": 10}, {\"religion\": \"Orthodox\", \"income\": \"$30-40k\", \"frequency\": 32}, {\"religion\": \"Other Christian\", \"income\": \"$30-40k\", \"frequency\": 13}, {\"religion\": \"Other Faiths\", \"income\": \"$30-40k\", \"frequency\": 46}, {\"religion\": \"Other World Religions\", \"income\": \"$30-40k\", \"frequency\": 4}, {\"religion\": \"Unaffiliated\", \"income\": \"$30-40k\", \"frequency\": 365}, {\"religion\": \"Agnostic\", \"income\": \"$40-50k\", \"frequency\": 76}, {\"religion\": \"Atheist\", \"income\": \"$40-50k\", \"frequency\": 35}, {\"religion\": \"Buddhist\", \"income\": \"$40-50k\", \"frequency\": 33}, {\"religion\": \"Catholic\", \"income\": \"$40-50k\", \"frequency\": 638}, {\"religion\": \"Don\\u2019t know/refused\", \"income\": \"$40-50k\", \"frequency\": 10}, {\"religion\": \"Evangelical Prot\", \"income\": \"$40-50k\", \"frequency\": 881}, {\"religion\": \"Hindu\", \"income\": \"$40-50k\", \"frequency\": 11}, {\"religion\": \"Historically Black Prot\", \"income\": \"$40-50k\", \"frequency\": 197}, {\"religion\": \"Jehovah's Witness\", \"income\": \"$40-50k\", \"frequency\": 21}, {\"religion\": \"Jewish\", \"income\": \"$40-50k\", \"frequency\": 30}, {\"religion\": \"Mainline Prot\", \"income\": \"$40-50k\", \"frequency\": 651}, {\"religion\": \"Mormon\", \"income\": \"$40-50k\", \"frequency\": 56}, {\"religion\": \"Muslim\", \"income\": \"$40-50k\", \"frequency\": 9}, {\"religion\": \"Orthodox\", \"income\": \"$40-50k\", \"frequency\": 32}, {\"religion\": \"Other Christian\", \"income\": \"$40-50k\", \"frequency\": 13}, {\"religion\": \"Other Faiths\", \"income\": \"$40-50k\", \"frequency\": 49}, {\"religion\": \"Other World Religions\", \"income\": \"$40-50k\", \"frequency\": 2}, {\"religion\": \"Unaffiliated\", \"income\": \"$40-50k\", \"frequency\": 341}, {\"religion\": \"Agnostic\", \"income\": \"$50-75k\", \"frequency\": 137}, {\"religion\": \"Atheist\", \"income\": \"$50-75k\", \"frequency\": 70}, {\"religion\": \"Buddhist\", \"income\": \"$50-75k\", \"frequency\": 58}, {\"religion\": \"Catholic\", \"income\": \"$50-75k\", \"frequency\": 1116}, {\"religion\": \"Don\\u2019t know/refused\", \"income\": \"$50-75k\", \"frequency\": 35}, {\"religion\": \"Evangelical Prot\", \"income\": \"$50-75k\", \"frequency\": 1486}, {\"religion\": \"Hindu\", \"income\": \"$50-75k\", \"frequency\": 34}, {\"religion\": \"Historically Black Prot\", \"income\": \"$50-75k\", \"frequency\": 223}, {\"religion\": \"Jehovah's Witness\", \"income\": \"$50-75k\", \"frequency\": 30}, {\"religion\": \"Jewish\", \"income\": \"$50-75k\", \"frequency\": 95}, {\"religion\": \"Mainline Prot\", \"income\": \"$50-75k\", \"frequency\": 1107}, {\"religion\": \"Mormon\", \"income\": \"$50-75k\", \"frequency\": 112}, {\"religion\": \"Muslim\", \"income\": \"$50-75k\", \"frequency\": 23}, {\"religion\": \"Orthodox\", \"income\": \"$50-75k\", \"frequency\": 47}, {\"religion\": \"Other Christian\", \"income\": \"$50-75k\", \"frequency\": 14}, {\"religion\": \"Other Faiths\", \"income\": \"$50-75k\", \"frequency\": 63}, {\"religion\": \"Other World Religions\", \"income\": \"$50-75k\", \"frequency\": 7}, {\"religion\": \"Unaffiliated\", \"income\": \"$50-75k\", \"frequency\": 528}, {\"religion\": \"Agnostic\", \"income\": \"$75-100k\", \"frequency\": 122}, {\"religion\": \"Atheist\", \"income\": \"$75-100k\", \"frequency\": 73}, {\"religion\": \"Buddhist\", \"income\": \"$75-100k\", \"frequency\": 62}, {\"religion\": \"Catholic\", \"income\": \"$75-100k\", \"frequency\": 949}, {\"religion\": \"Don\\u2019t know/refused\", \"income\": \"$75-100k\", \"frequency\": 21}, {\"religion\": \"Evangelical Prot\", \"income\": \"$75-100k\", \"frequency\": 949}, {\"religion\": \"Hindu\", \"income\": \"$75-100k\", \"frequency\": 47}, {\"religion\": \"Historically Black Prot\", \"income\": \"$75-100k\", \"frequency\": 131}, {\"religion\": \"Jehovah's Witness\", \"income\": \"$75-100k\", \"frequency\": 15}, {\"religion\": \"Jewish\", \"income\": \"$75-100k\", \"frequency\": 69}, {\"religion\": \"Mainline Prot\", \"income\": \"$75-100k\", \"frequency\": 939}, {\"religion\": \"Mormon\", \"income\": \"$75-100k\", \"frequency\": 85}, {\"religion\": \"Muslim\", \"income\": \"$75-100k\", \"frequency\": 16}, {\"religion\": \"Orthodox\", \"income\": \"$75-100k\", \"frequency\": 38}, {\"religion\": \"Other Christian\", \"income\": \"$75-100k\", \"frequency\": 18}, {\"religion\": \"Other Faiths\", \"income\": \"$75-100k\", \"frequency\": 46}, {\"religion\": \"Other World Religions\", \"income\": \"$75-100k\", \"frequency\": 3}, {\"religion\": \"Unaffiliated\", \"income\": \"$75-100k\", \"frequency\": 407}, {\"religion\": \"Agnostic\", \"income\": \"$100-150k\", \"frequency\": 109}, {\"religion\": \"Atheist\", \"income\": \"$100-150k\", \"frequency\": 59}, {\"religion\": \"Buddhist\", \"income\": \"$100-150k\", \"frequency\": 39}, {\"religion\": \"Catholic\", \"income\": \"$100-150k\", \"frequency\": 792}, {\"religion\": \"Don\\u2019t know/refused\", \"income\": \"$100-150k\", \"frequency\": 17}, {\"religion\": \"Evangelical Prot\", \"income\": \"$100-150k\", \"frequency\": 723}, {\"religion\": \"Hindu\", \"income\": \"$100-150k\", \"frequency\": 48}, {\"religion\": \"Historically Black Prot\", \"income\": \"$100-150k\", \"frequency\": 81}, {\"religion\": \"Jehovah's Witness\", \"income\": \"$100-150k\", \"frequency\": 11}, {\"religion\": \"Jewish\", \"income\": \"$100-150k\", \"frequency\": 87}, {\"religion\": \"Mainline Prot\", \"income\": \"$100-150k\", \"frequency\": 753}, {\"religion\": \"Mormon\", \"income\": \"$100-150k\", \"frequency\": 49}, {\"religion\": \"Muslim\", \"income\": \"$100-150k\", \"frequency\": 8}, {\"religion\": \"Orthodox\", \"income\": \"$100-150k\", \"frequency\": 42}, {\"religion\": \"Other Christian\", \"income\": \"$100-150k\", \"frequency\": 14}, {\"religion\": \"Other Faiths\", \"income\": \"$100-150k\", \"frequency\": 40}, {\"religion\": \"Other World Religions\", \"income\": \"$100-150k\", \"frequency\": 4}, {\"religion\": \"Unaffiliated\", \"income\": \"$100-150k\", \"frequency\": 321}, {\"religion\": \"Agnostic\", \"income\": \">150k\", \"frequency\": 84}, {\"religion\": \"Atheist\", \"income\": \">150k\", \"frequency\": 74}, {\"religion\": \"Buddhist\", \"income\": \">150k\", \"frequency\": 53}, {\"religion\": \"Catholic\", \"income\": \">150k\", \"frequency\": 633}, {\"religion\": \"Don\\u2019t know/refused\", \"income\": \">150k\", \"frequency\": 18}, {\"religion\": \"Evangelical Prot\", \"income\": \">150k\", \"frequency\": 414}, {\"religion\": \"Hindu\", \"income\": \">150k\", \"frequency\": 54}, {\"religion\": \"Historically Black Prot\", \"income\": \">150k\", \"frequency\": 78}, {\"religion\": \"Jehovah's Witness\", \"income\": \">150k\", \"frequency\": 6}, {\"religion\": \"Jewish\", \"income\": \">150k\", \"frequency\": 151}, {\"religion\": \"Mainline Prot\", \"income\": \">150k\", \"frequency\": 634}, {\"religion\": \"Mormon\", \"income\": \">150k\", \"frequency\": 42}, {\"religion\": \"Muslim\", \"income\": \">150k\", \"frequency\": 6}, {\"religion\": \"Orthodox\", \"income\": \">150k\", \"frequency\": 46}, {\"religion\": \"Other Christian\", \"income\": \">150k\", \"frequency\": 12}, {\"religion\": \"Other Faiths\", \"income\": \">150k\", \"frequency\": 41}, {\"religion\": \"Other World Religions\", \"income\": \">150k\", \"frequency\": 4}, {\"religion\": \"Unaffiliated\", \"income\": \">150k\", \"frequency\": 258}, {\"religion\": \"Agnostic\", \"income\": \"Don't know/refused\", \"frequency\": 96}, {\"religion\": \"Atheist\", \"income\": \"Don't know/refused\", \"frequency\": 76}, {\"religion\": \"Buddhist\", \"income\": \"Don't know/refused\", \"frequency\": 54}, {\"religion\": \"Catholic\", \"income\": \"Don't know/refused\", \"frequency\": 1489}, {\"religion\": \"Don\\u2019t know/refused\", \"income\": \"Don't know/refused\", \"frequency\": 116}, {\"religion\": \"Evangelical Prot\", \"income\": \"Don't know/refused\", \"frequency\": 1529}, {\"religion\": \"Hindu\", \"income\": \"Don't know/refused\", \"frequency\": 37}, {\"religion\": \"Historically Black Prot\", \"income\": \"Don't know/refused\", \"frequency\": 339}, {\"religion\": \"Jehovah's Witness\", \"income\": \"Don't know/refused\", \"frequency\": 37}, {\"religion\": \"Jewish\", \"income\": \"Don't know/refused\", \"frequency\": 162}, {\"religion\": \"Mainline Prot\", \"income\": \"Don't know/refused\", \"frequency\": 1328}, {\"religion\": \"Mormon\", \"income\": \"Don't know/refused\", \"frequency\": 69}, {\"religion\": \"Muslim\", \"income\": \"Don't know/refused\", \"frequency\": 22}, {\"religion\": \"Orthodox\", \"income\": \"Don't know/refused\", \"frequency\": 73}, {\"religion\": \"Other Christian\", \"income\": \"Don't know/refused\", \"frequency\": 18}, {\"religion\": \"Other Faiths\", \"income\": \"Don't know/refused\", \"frequency\": 71}, {\"religion\": \"Other World Religions\", \"income\": \"Don't know/refused\", \"frequency\": 8}, {\"religion\": \"Unaffiliated\", \"income\": \"Don't know/refused\", \"frequency\": 597}]}};\n",
              "      var embedOpt = {\"mode\": \"vega-lite\"};\n",
              "\n",
              "      function showError(el, error){\n",
              "          el.innerHTML = ('<div class=\"error\" style=\"color:red;\">'\n",
              "                          + '<p>JavaScript Error: ' + error.message + '</p>'\n",
              "                          + \"<p>This usually means there's a typo in your chart specification. \"\n",
              "                          + \"See the javascript console for the full traceback.</p>\"\n",
              "                          + '</div>');\n",
              "          throw error;\n",
              "      }\n",
              "      const el = document.getElementById('altair-viz');\n",
              "      vegaEmbed(\"#altair-viz\", spec, embedOpt)\n",
              "        .catch(error => showError(el, error));\n",
              "\n",
              "  </script>\n",
              "</body>\n",
              "</html>"
            ]
          },
          "metadata": {
            "tags": []
          },
          "execution_count": 105
        }
      ]
    },
    {
      "cell_type": "markdown",
      "metadata": {
        "id": "qLRr2oglWRCl",
        "colab_type": "text"
      },
      "source": [
        "Now, put this figure into the html file to publish it on the web.\n",
        "\n",
        "Open the `result.html` file in this folder, and put your code in Vega Editor in the right format with the right variable, \n",
        "following [this example](https://vega.github.io/vega-lite/tutorials/getting_started.html#embed)."
      ]
    },
    {
      "cell_type": "code",
      "metadata": {
        "id": "6l13dyo-WRCn",
        "colab_type": "code",
        "colab": {}
      },
      "source": [
        "# TODO: Submit the result.html including your figure.\n",
        "alt.Chart(pew_tidy_df).mark_bar().encode(\n",
        "    x='sum(frequency)',\n",
        "    y=alt.Y(\n",
        "      'religion:N',\n",
        "      sort=alt.EncodingSortField(\n",
        "        field=\"frequency\",  # The field to use for the sort\n",
        "        op=\"sum\",  # The operation to run on the field prior to sorting\n",
        "        order=\"descending\"  # The order to sort in\n",
        "      )\n",
        "    ),\n",
        "    color='income'\n",
        ").save('result.html')"
      ],
      "execution_count": 0,
      "outputs": []
    }
  ]
}