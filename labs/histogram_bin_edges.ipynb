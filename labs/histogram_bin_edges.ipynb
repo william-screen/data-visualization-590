{
  "nbformat": 4,
  "nbformat_minor": 0,
  "metadata": {
    "colab": {
      "name": "histogram_bin_edges.ipynb",
      "version": "0.3.2",
      "provenance": [],
      "include_colab_link": true
    },
    "kernelspec": {
      "name": "python3",
      "display_name": "Python 3"
    }
  },
  "cells": [
    {
      "cell_type": "markdown",
      "metadata": {
        "id": "view-in-github",
        "colab_type": "text"
      },
      "source": [
        "<a href=\"https://colab.research.google.com/github/william-screen/data-visualization-590/blob/master/labs/histogram_bin_edges.ipynb\" target=\"_parent\"><img src=\"https://colab.research.google.com/assets/colab-badge.svg\" alt=\"Open In Colab\"/></a>"
      ]
    },
    {
      "cell_type": "markdown",
      "metadata": {
        "id": "iFHI6IqdyGkC",
        "colab_type": "text"
      },
      "source": [
        "#Methods for picking the number of bins in histograms\n",
        "## Bill Screen | Lab Assignment | Data Visualization\n",
        "\n",
        "### Note the Sturges bin estimator method returns too few bins in the dataset. "
      ]
    },
    {
      "cell_type": "code",
      "metadata": {
        "id": "_kbqZ57wyDF7",
        "colab_type": "code",
        "colab": {
          "base_uri": "https://localhost:8080/",
          "height": 783
        },
        "outputId": "88633bde-bb8a-40f5-efac-6e7a5af44e8f"
      },
      "source": [
        "# Import libraries\n",
        "import pandas as pd\n",
        "import numpy as np\n",
        "import matplotlib.pyplot as plt\n",
        "%matplotlib inline\n",
        "\n",
        "# Random data\n",
        "rng = np.random.RandomState(20)  \n",
        "\n",
        "# Merge 1D arrays of different sizes\n",
        "a = np.hstack((rng.normal(size=2000), \n",
        "                   rng.normal(loc=5, scale=2, size=20)))\n",
        "\n",
        "# Histogram with 'sturges' bins\n",
        "bin_estimator = 'sturges'\n",
        "plt.hist(a, bins=bin_estimator)\n",
        "plt.title(\"Histogram with '{0}' bins\".format(bin_estimator))\n",
        "plt.show()\n",
        "\n",
        "# Print bin estimator edges\n",
        "print(np.histogram_bin_edges(a, bins=bin_estimator))\n",
        "\n",
        "# ----------\n",
        "\n",
        "# Histogram with 'Auto' bins\n",
        "bin_estimator = 'auto'\n",
        "plt.hist(a, bins=bin_estimator)\n",
        "plt.title(\"Histogram with '{0}' bins\".format(bin_estimator))\n",
        "plt.show()\n",
        "\n",
        "# Print bin estimator edges\n",
        "print(np.histogram_bin_edges(a, bins=bin_estimator))"
      ],
      "execution_count": 35,
      "outputs": [
        {
          "output_type": "display_data",
          "data": {
            "image/png": "[encoded data removed]",
            "text/plain": [
              "<Figure size 432x288 with 1 Axes>"
            ]
          },
          "metadata": {
            "tags": []
          }
        },
        {
          "output_type": "stream",
          "text": [
            "[-3.80385307 -2.69275039 -1.58164771 -0.47054503  0.64055765  1.75166033\n",
            "  2.86276301  3.97386569  5.08496837  6.19607105  7.30717373  8.41827641\n",
            "  9.52937909]\n"
          ],
          "name": "stdout"
        },
        {
          "output_type": "display_data",
          "data": {
            "image/png": "[encoded data removed]",
            "text/plain": [
              "<Figure size 432x288 with 1 Axes>"
            ]
          },
          "metadata": {
            "tags": []
          }
        },
        {
          "output_type": "stream",
          "text": [
            "[-3.80385307 -3.58163254 -3.359412   -3.13719146 -2.91497093 -2.69275039\n",
            " -2.47052986 -2.24830932 -2.02608878 -1.80386825 -1.58164771 -1.35942718\n",
            " -1.13720664 -0.9149861  -0.69276557 -0.47054503 -0.24832449 -0.02610396\n",
            "  0.19611658  0.41833711  0.64055765  0.86277819  1.08499872  1.30721926\n",
            "  1.52943979  1.75166033  1.97388087  2.1961014   2.41832194  2.64054247\n",
            "  2.86276301  3.08498355  3.30720408  3.52942462  3.75164516  3.97386569\n",
            "  4.19608623  4.41830676  4.6405273   4.86274784  5.08496837  5.30718891\n",
            "  5.52940944  5.75162998  5.97385052  6.19607105  6.41829159  6.64051212\n",
            "  6.86273266  7.0849532   7.30717373  7.52939427  7.7516148   7.97383534\n",
            "  8.19605588  8.41827641  8.64049695  8.86271749  9.08493802  9.30715856\n",
            "  9.52937909]\n"
          ],
          "name": "stdout"
        }
      ]
    },
    {
      "cell_type": "code",
      "metadata": {
        "id": "myuBVmUL2fol",
        "colab_type": "code",
        "colab": {}
      },
      "source": [
        ""
      ],
      "execution_count": 0,
      "outputs": []
    }
  ]
}