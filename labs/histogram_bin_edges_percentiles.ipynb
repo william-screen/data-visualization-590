{
  "nbformat": 4,
  "nbformat_minor": 0,
  "metadata": {
    "colab": {
      "name": "histogram_bin_edges_percentiles.ipynb",
      "version": "0.3.2",
      "provenance": [],
      "include_colab_link": true
    },
    "kernelspec": {
      "name": "python3",
      "display_name": "Python 3"
    }
  },
  "cells": [
    {
      "cell_type": "markdown",
      "metadata": {
        "id": "view-in-github",
        "colab_type": "text"
      },
      "source": [
        "<a href=\"https://colab.research.google.com/github/william-screen/data-visualization-590/blob/master/labs/histogram_bin_edges_percentiles.ipynb\" target=\"_parent\"><img src=\"https://colab.research.google.com/assets/colab-badge.svg\" alt=\"Open In Colab\"/></a>"
      ]
    },
    {
      "cell_type": "markdown",
      "metadata": {
        "id": "iFHI6IqdyGkC",
        "colab_type": "text"
      },
      "source": [
        "#Adding simple percentile lines to histograms\n",
        "## Bill Screen | Lab Assignment | Data Visualization"
      ]
    },
    {
      "cell_type": "code",
      "metadata": {
        "id": "_kbqZ57wyDF7",
        "colab_type": "code",
        "colab": {
          "base_uri": "https://localhost:8080/",
          "height": 281
        },
        "outputId": "fe9cec21-b5c3-4530-a7b7-b04188bf3b0e"
      },
      "source": [
        "# Import libraries\n",
        "import pandas as pd\n",
        "import numpy as np\n",
        "import matplotlib.pyplot as plt\n",
        "%matplotlib inline\n",
        "\n",
        "# Random data\n",
        "rng = np.random.RandomState(1000)  \n",
        "\n",
        "# Merge 1D arrays of different sizes\n",
        "a = rng.normal(size=100)\n",
        "\n",
        "# Histogram with 'Auto' bins\n",
        "bin_estimator = 'auto'\n",
        "plt.hist(a, bins=bin_estimator)\n",
        "plt.title(\"Histogram with '{0}' bins\".format(bin_estimator))\n",
        "\n",
        "#Create a DataFrame\n",
        "df = pd.DataFrame(a)\n",
        "\n",
        "# Adding few more percentile values in summary\n",
        "percentiles = df.describe(percentiles=[.1, .25, .5, .75, .9], exclude='O' )\n",
        "\n",
        "plt.axvline(percentiles[0]['10%'], color='k', linestyle='dashed', linewidth=1)\n",
        "plt.axvline(percentiles[0]['25%'], color='k', linestyle='dashed', linewidth=1)\n",
        "plt.axvline(percentiles[0]['50%'], color='k', linestyle='dashed', linewidth=1)\n",
        "plt.axvline(percentiles[0]['75%'], color='k', linestyle='dashed', linewidth=1)\n",
        "plt.axvline(percentiles[0]['90%'], color='k', linestyle='dashed', linewidth=1)\n",
        "\n",
        "plt.show()\n"
      ],
      "execution_count": 108,
      "outputs": [
        {
          "output_type": "display_data",
          "data": {
            "image/png": "[encoded data removed]",
            "text/plain": [
              "<Figure size 432x288 with 1 Axes>"
            ]
          },
          "metadata": {
            "tags": []
          }
        }
      ]
    },
    {
      "cell_type": "code",
      "metadata": {
        "id": "myuBVmUL2fol",
        "colab_type": "code",
        "colab": {}
      },
      "source": [
        ""
      ],
      "execution_count": 0,
      "outputs": []
    }
  ]
}