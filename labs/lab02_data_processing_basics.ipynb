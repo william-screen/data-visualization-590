{
  "nbformat": 4,
  "nbformat_minor": 0,
  "metadata": {
    "colab": {
      "name": "lab02_data_processing_basics.ipynb",
      "version": "0.3.2",
      "provenance": [],
      "toc_visible": true,
      "include_colab_link": true
    },
    "language_info": {
      "codemirror_mode": {
        "name": "ipython",
        "version": 3
      },
      "file_extension": ".py",
      "mimetype": "text/x-python",
      "name": "python",
      "nbconvert_exporter": "python",
      "pygments_lexer": "ipython3",
      "version": "3.7.0"
    },
    "kernelspec": {
      "display_name": "Python 3",
      "language": "python",
      "name": "python3"
    }
  },
  "cells": [
    {
      "cell_type": "markdown",
      "metadata": {
        "id": "view-in-github",
        "colab_type": "text"
      },
      "source": [
        "<a href=\"https://colab.research.google.com/github/william-screen/data-visualization-590/blob/master/labs/lab02_data_processing_basics.ipynb\" target=\"_parent\"><img src=\"https://colab.research.google.com/assets/colab-badge.svg\" alt=\"Open In Colab\"/></a>"
      ]
    },
    {
      "cell_type": "markdown",
      "metadata": {
        "id": "F5ERAAvPHRu7",
        "colab_type": "text"
      },
      "source": [
        "# W2 Lab: Data processing basics and John Snow's map\n",
        "\n",
        "Follow the contents of this notebook and answer all questions (e.g. **Q1: ...**)"
      ]
    },
    {
      "cell_type": "markdown",
      "metadata": {
        "id": "v9c_g3NzHRu9",
        "colab_type": "text"
      },
      "source": [
        "## If you are not familiar with Python yet... \n",
        "\n",
        "Maybe you can quickly review these basics first.\n",
        "\n",
        "* [numbers](https://docs.python.org/3.6/tutorial/introduction.html#numbersnumbers) and [strings](https://docs.python.org/3.6/tutorial/introduction.html#strings);\n",
        "* [if](https://docs.python.org/3.6/tutorial/controlflow.html#if-statements) and [for](https://docs.python.org/3.6/tutorial/controlflow.html#for-statements) statement\n",
        "* data structure ([lists](https://docs.python.org/3.6/tutorial/introduction.html#lists), [sets](https://docs.python.org/3.6/tutorial/datastructures.html#sets), [dictionaries](https://docs.python.org/3.6/tutorial/datastructures.html#dictionaries))\n",
        "* [functions](https://docs.python.org/3.6/tutorial/controlflow.html#defining-functions) and [modules](https://docs.python.org/3.6/tutorial/modules.html)\n",
        "\n",
        "[Google's Python Class](https://developers.google.com/edu/python/?hl=en) is also a nice resource."
      ]
    },
    {
      "cell_type": "markdown",
      "metadata": {
        "id": "LDCRxX_EHRu-",
        "colab_type": "text"
      },
      "source": [
        "## Jupyter + Pandas = Awesomeness"
      ]
    },
    {
      "cell_type": "markdown",
      "metadata": {
        "id": "6ZkrJdquHRvA",
        "colab_type": "text"
      },
      "source": [
        "[Jupyter notebook (lab)](http://jupyter.org) (and [IPython](https://ipython.org)) and [Pandas](http://pandas.pydata.org) may be two most important libraries responsible for the `Python`'s rise in data science. `Jupyter` lets you interactively explore datasets and code; `Pandas` lets you handle tabular datasets with superb speed and convenience. And they work so well together! In many cases, `Jupyter` and `Pandas` are all you need to load, clean, transform, visualize, and understand a dataset.\n",
        "\n",
        "If you are not familiar with `Pandas`, you may want to follow their official tutorial called [10 Minutes to pandas](http://pandas.pydata.org/pandas-docs/stable/10min.html) now or in the near future. "
      ]
    },
    {
      "cell_type": "markdown",
      "metadata": {
        "id": "USO1kDVmHRvB",
        "colab_type": "text"
      },
      "source": [
        "## Importing pandas\n",
        "\n",
        "The convention for importing `pandas` is the following"
      ]
    },
    {
      "cell_type": "code",
      "metadata": {
        "id": "vOildOK8HRvD",
        "colab_type": "code",
        "colab": {}
      },
      "source": [
        "import pandas as pd"
      ],
      "execution_count": 0,
      "outputs": []
    },
    {
      "cell_type": "markdown",
      "metadata": {
        "id": "0OI_sMmhHRvI",
        "colab_type": "text"
      },
      "source": [
        "You can check the version of the library. Because pandas is fast-evolving library, you want to make sure that you have the up-to-date version of the library. "
      ]
    },
    {
      "cell_type": "code",
      "metadata": {
        "id": "rzRzYmRxHRvJ",
        "colab_type": "code",
        "colab": {
          "base_uri": "https://localhost:8080/",
          "height": 34
        },
        "outputId": "18297dc2-a7b5-4d8e-d8b9-436234733280"
      },
      "source": [
        "pd.__version__"
      ],
      "execution_count": 25,
      "outputs": [
        {
          "output_type": "execute_result",
          "data": {
            "text/plain": [
              "'0.24.2'"
            ]
          },
          "metadata": {
            "tags": []
          },
          "execution_count": 25
        }
      ]
    },
    {
      "cell_type": "markdown",
      "metadata": {
        "id": "AIgvjKQpHRvS",
        "colab_type": "text"
      },
      "source": [
        "## Loading a CSV data file\n",
        "\n",
        "Using pandas, you can read tabular data files in [many formats and through many protocols](https://pandas.pydata.org/pandas-docs/stable/io.html). Pandas supports not only flat files such as `.csv`, but also various other formats including clipboard, Excel, JSON, HTML, Feather, Parquet, SQL, Google BigQuery, and so on. Moreover, you can pass a local file path or a URL. If it's on Amazon S3, just pass a url like `s3://path/to/file.csv`. If it's on a webpage, then just use `https://some/url.csv`. \n",
        "\n",
        "Let's load a dataset about the location of pumps in the John Snow's map. You can download the file to your computer and try to load it using the local path too. "
      ]
    },
    {
      "cell_type": "code",
      "metadata": {
        "id": "F1Aw7jtUHRvU",
        "colab_type": "code",
        "colab": {}
      },
      "source": [
        "pump_df = pd.read_csv('https://raw.githubusercontent.com/yy/dviz-course/master/data/pumps.csv')"
      ],
      "execution_count": 0,
      "outputs": []
    },
    {
      "cell_type": "markdown",
      "metadata": {
        "id": "a_kHCJKNHRvX",
        "colab_type": "text"
      },
      "source": [
        "`df` stands for \"[Data Frame](https://pandas.pydata.org/pandas-docs/stable/dsintro.html#dataframe)\", which is a fundamental data object in Pandas. You can take a look at the dataset by looking at the first few lines."
      ]
    },
    {
      "cell_type": "code",
      "metadata": {
        "id": "BS-0DhoXHRvZ",
        "colab_type": "code",
        "colab": {
          "base_uri": "https://localhost:8080/",
          "height": 204
        },
        "outputId": "e070679f-76aa-41a8-a64d-6fcbd65ae729"
      },
      "source": [
        "pump_df.head() "
      ],
      "execution_count": 27,
      "outputs": [
        {
          "output_type": "execute_result",
          "data": {
            "text/html": [
              "<div>\n",
              "<style scoped>\n",
              "    .dataframe tbody tr th:only-of-type {\n",
              "        vertical-align: middle;\n",
              "    }\n",
              "\n",
              "    .dataframe tbody tr th {\n",
              "        vertical-align: top;\n",
              "    }\n",
              "\n",
              "    .dataframe thead th {\n",
              "        text-align: right;\n",
              "    }\n",
              "</style>\n",
              "<table border=\"1\" class=\"dataframe\">\n",
              "  <thead>\n",
              "    <tr style=\"text-align: right;\">\n",
              "      <th></th>\n",
              "      <th>X</th>\n",
              "      <th>Y</th>\n",
              "    </tr>\n",
              "  </thead>\n",
              "  <tbody>\n",
              "    <tr>\n",
              "      <th>0</th>\n",
              "      <td>8.651201</td>\n",
              "      <td>17.891600</td>\n",
              "    </tr>\n",
              "    <tr>\n",
              "      <th>1</th>\n",
              "      <td>10.984780</td>\n",
              "      <td>18.517851</td>\n",
              "    </tr>\n",
              "    <tr>\n",
              "      <th>2</th>\n",
              "      <td>13.378190</td>\n",
              "      <td>17.394541</td>\n",
              "    </tr>\n",
              "    <tr>\n",
              "      <th>3</th>\n",
              "      <td>14.879830</td>\n",
              "      <td>17.809919</td>\n",
              "    </tr>\n",
              "    <tr>\n",
              "      <th>4</th>\n",
              "      <td>8.694768</td>\n",
              "      <td>14.905470</td>\n",
              "    </tr>\n",
              "  </tbody>\n",
              "</table>\n",
              "</div>"
            ],
            "text/plain": [
              "           X          Y\n",
              "0   8.651201  17.891600\n",
              "1  10.984780  18.517851\n",
              "2  13.378190  17.394541\n",
              "3  14.879830  17.809919\n",
              "4   8.694768  14.905470"
            ]
          },
          "metadata": {
            "tags": []
          },
          "execution_count": 27
        }
      ]
    },
    {
      "cell_type": "markdown",
      "metadata": {
        "id": "7nBnX96QHRve",
        "colab_type": "text"
      },
      "source": [
        "**Q1: can you print only the first three lines?** Refer: http://pandas.pydata.org/pandas-docs/stable/index.html"
      ]
    },
    {
      "cell_type": "code",
      "metadata": {
        "id": "wPaEJ3w_HRvf",
        "colab_type": "code",
        "colab": {
          "base_uri": "https://localhost:8080/",
          "height": 142
        },
        "outputId": "a163f10b-92a3-4e40-bb83-5ae1b49572e1"
      },
      "source": [
        "# TODO: write your code here\n",
        "pump_df.head(3) \n"
      ],
      "execution_count": 28,
      "outputs": [
        {
          "output_type": "execute_result",
          "data": {
            "text/html": [
              "<div>\n",
              "<style scoped>\n",
              "    .dataframe tbody tr th:only-of-type {\n",
              "        vertical-align: middle;\n",
              "    }\n",
              "\n",
              "    .dataframe tbody tr th {\n",
              "        vertical-align: top;\n",
              "    }\n",
              "\n",
              "    .dataframe thead th {\n",
              "        text-align: right;\n",
              "    }\n",
              "</style>\n",
              "<table border=\"1\" class=\"dataframe\">\n",
              "  <thead>\n",
              "    <tr style=\"text-align: right;\">\n",
              "      <th></th>\n",
              "      <th>X</th>\n",
              "      <th>Y</th>\n",
              "    </tr>\n",
              "  </thead>\n",
              "  <tbody>\n",
              "    <tr>\n",
              "      <th>0</th>\n",
              "      <td>8.651201</td>\n",
              "      <td>17.891600</td>\n",
              "    </tr>\n",
              "    <tr>\n",
              "      <th>1</th>\n",
              "      <td>10.984780</td>\n",
              "      <td>18.517851</td>\n",
              "    </tr>\n",
              "    <tr>\n",
              "      <th>2</th>\n",
              "      <td>13.378190</td>\n",
              "      <td>17.394541</td>\n",
              "    </tr>\n",
              "  </tbody>\n",
              "</table>\n",
              "</div>"
            ],
            "text/plain": [
              "           X          Y\n",
              "0   8.651201  17.891600\n",
              "1  10.984780  18.517851\n",
              "2  13.378190  17.394541"
            ]
          },
          "metadata": {
            "tags": []
          },
          "execution_count": 28
        }
      ]
    },
    {
      "cell_type": "markdown",
      "metadata": {
        "id": "qUZ3BWSeHRvj",
        "colab_type": "text"
      },
      "source": [
        "You can also sample several rows randomly. If the data is sorted in some ways, sampling may give you a rather unbiased view of the dataset.  "
      ]
    },
    {
      "cell_type": "code",
      "metadata": {
        "id": "-fVGZfjJHRvk",
        "colab_type": "code",
        "colab": {
          "base_uri": "https://localhost:8080/",
          "height": 204
        },
        "outputId": "dee5d7a2-6f41-4fdc-ec69-72f9f4fd1aaf"
      },
      "source": [
        "pump_df.sample(5)"
      ],
      "execution_count": 29,
      "outputs": [
        {
          "output_type": "execute_result",
          "data": {
            "text/html": [
              "<div>\n",
              "<style scoped>\n",
              "    .dataframe tbody tr th:only-of-type {\n",
              "        vertical-align: middle;\n",
              "    }\n",
              "\n",
              "    .dataframe tbody tr th {\n",
              "        vertical-align: top;\n",
              "    }\n",
              "\n",
              "    .dataframe thead th {\n",
              "        text-align: right;\n",
              "    }\n",
              "</style>\n",
              "<table border=\"1\" class=\"dataframe\">\n",
              "  <thead>\n",
              "    <tr style=\"text-align: right;\">\n",
              "      <th></th>\n",
              "      <th>X</th>\n",
              "      <th>Y</th>\n",
              "    </tr>\n",
              "  </thead>\n",
              "  <tbody>\n",
              "    <tr>\n",
              "      <th>4</th>\n",
              "      <td>8.694768</td>\n",
              "      <td>14.905470</td>\n",
              "    </tr>\n",
              "    <tr>\n",
              "      <th>11</th>\n",
              "      <td>16.005110</td>\n",
              "      <td>5.046838</td>\n",
              "    </tr>\n",
              "    <tr>\n",
              "      <th>6</th>\n",
              "      <td>12.571360</td>\n",
              "      <td>11.727170</td>\n",
              "    </tr>\n",
              "    <tr>\n",
              "      <th>2</th>\n",
              "      <td>13.378190</td>\n",
              "      <td>17.394541</td>\n",
              "    </tr>\n",
              "    <tr>\n",
              "      <th>1</th>\n",
              "      <td>10.984780</td>\n",
              "      <td>18.517851</td>\n",
              "    </tr>\n",
              "  </tbody>\n",
              "</table>\n",
              "</div>"
            ],
            "text/plain": [
              "            X          Y\n",
              "4    8.694768  14.905470\n",
              "11  16.005110   5.046838\n",
              "6   12.571360  11.727170\n",
              "2   13.378190  17.394541\n",
              "1   10.984780  18.517851"
            ]
          },
          "metadata": {
            "tags": []
          },
          "execution_count": 29
        }
      ]
    },
    {
      "cell_type": "markdown",
      "metadata": {
        "id": "UuX0fAEeHRvr",
        "colab_type": "text"
      },
      "source": [
        "You can also figure out the number of rows in the dataset by running "
      ]
    },
    {
      "cell_type": "code",
      "metadata": {
        "id": "6fDhznIIHRvs",
        "colab_type": "code",
        "colab": {
          "base_uri": "https://localhost:8080/",
          "height": 34
        },
        "outputId": "c1e2a422-9747-4735-fe77-0ae51b5b9f2b"
      },
      "source": [
        "len(pump_df)"
      ],
      "execution_count": 30,
      "outputs": [
        {
          "output_type": "execute_result",
          "data": {
            "text/plain": [
              "13"
            ]
          },
          "metadata": {
            "tags": []
          },
          "execution_count": 30
        }
      ]
    },
    {
      "cell_type": "markdown",
      "metadata": {
        "id": "-t237MQSHRvy",
        "colab_type": "text"
      },
      "source": [
        "Note that `df.size` does not give you the number of rows. It tells you the number of elements. "
      ]
    },
    {
      "cell_type": "code",
      "metadata": {
        "id": "D8hgE1boHRvz",
        "colab_type": "code",
        "colab": {
          "base_uri": "https://localhost:8080/",
          "height": 34
        },
        "outputId": "a67b92a0-31cf-4ee2-cc4c-3e918bacf69e"
      },
      "source": [
        "pump_df.size"
      ],
      "execution_count": 31,
      "outputs": [
        {
          "output_type": "execute_result",
          "data": {
            "text/plain": [
              "26"
            ]
          },
          "metadata": {
            "tags": []
          },
          "execution_count": 31
        }
      ]
    },
    {
      "cell_type": "markdown",
      "metadata": {
        "id": "nF-C0jg5HRv4",
        "colab_type": "text"
      },
      "source": [
        "You can also look into the shape of the dataset as well as what are the columns in the dataset. "
      ]
    },
    {
      "cell_type": "code",
      "metadata": {
        "id": "laHNgBdxHRv5",
        "colab_type": "code",
        "colab": {
          "base_uri": "https://localhost:8080/",
          "height": 34
        },
        "outputId": "8fe0c73e-6532-496c-d8be-ab64e49ab903"
      },
      "source": [
        "pump_df.shape  # 13 rows and 2 columns"
      ],
      "execution_count": 32,
      "outputs": [
        {
          "output_type": "execute_result",
          "data": {
            "text/plain": [
              "(13, 2)"
            ]
          },
          "metadata": {
            "tags": []
          },
          "execution_count": 32
        }
      ]
    },
    {
      "cell_type": "code",
      "metadata": {
        "id": "z7UU3X3PHRv-",
        "colab_type": "code",
        "colab": {
          "base_uri": "https://localhost:8080/",
          "height": 34
        },
        "outputId": "bafec304-de28-45a1-e8ef-bebc157b5e93"
      },
      "source": [
        "pump_df.columns"
      ],
      "execution_count": 33,
      "outputs": [
        {
          "output_type": "execute_result",
          "data": {
            "text/plain": [
              "Index(['X', 'Y'], dtype='object')"
            ]
          },
          "metadata": {
            "tags": []
          },
          "execution_count": 33
        }
      ]
    },
    {
      "cell_type": "markdown",
      "metadata": {
        "id": "-m1vHaFQHRwD",
        "colab_type": "text"
      },
      "source": [
        "You can also check out basic descriptive statistics of the whole dataset by using `describe()` method.  "
      ]
    },
    {
      "cell_type": "code",
      "metadata": {
        "id": "dNvgvtxVHRwE",
        "colab_type": "code",
        "colab": {
          "base_uri": "https://localhost:8080/",
          "height": 297
        },
        "outputId": "fb2a848c-9880-460f-b8ce-7e3c6120b9d0"
      },
      "source": [
        "pump_df.describe()"
      ],
      "execution_count": 34,
      "outputs": [
        {
          "output_type": "execute_result",
          "data": {
            "text/html": [
              "<div>\n",
              "<style scoped>\n",
              "    .dataframe tbody tr th:only-of-type {\n",
              "        vertical-align: middle;\n",
              "    }\n",
              "\n",
              "    .dataframe tbody tr th {\n",
              "        vertical-align: top;\n",
              "    }\n",
              "\n",
              "    .dataframe thead th {\n",
              "        text-align: right;\n",
              "    }\n",
              "</style>\n",
              "<table border=\"1\" class=\"dataframe\">\n",
              "  <thead>\n",
              "    <tr style=\"text-align: right;\">\n",
              "      <th></th>\n",
              "      <th>X</th>\n",
              "      <th>Y</th>\n",
              "    </tr>\n",
              "  </thead>\n",
              "  <tbody>\n",
              "    <tr>\n",
              "      <th>count</th>\n",
              "      <td>13.000000</td>\n",
              "      <td>13.000000</td>\n",
              "    </tr>\n",
              "    <tr>\n",
              "      <th>mean</th>\n",
              "      <td>12.504677</td>\n",
              "      <td>11.963446</td>\n",
              "    </tr>\n",
              "    <tr>\n",
              "      <th>std</th>\n",
              "      <td>3.376869</td>\n",
              "      <td>4.957821</td>\n",
              "    </tr>\n",
              "    <tr>\n",
              "      <th>min</th>\n",
              "      <td>8.651201</td>\n",
              "      <td>5.046838</td>\n",
              "    </tr>\n",
              "    <tr>\n",
              "      <th>25%</th>\n",
              "      <td>8.999440</td>\n",
              "      <td>7.958250</td>\n",
              "    </tr>\n",
              "    <tr>\n",
              "      <th>50%</th>\n",
              "      <td>12.571360</td>\n",
              "      <td>11.727170</td>\n",
              "    </tr>\n",
              "    <tr>\n",
              "      <th>75%</th>\n",
              "      <td>14.879830</td>\n",
              "      <td>17.394541</td>\n",
              "    </tr>\n",
              "    <tr>\n",
              "      <th>max</th>\n",
              "      <td>18.914391</td>\n",
              "      <td>18.517851</td>\n",
              "    </tr>\n",
              "  </tbody>\n",
              "</table>\n",
              "</div>"
            ],
            "text/plain": [
              "               X          Y\n",
              "count  13.000000  13.000000\n",
              "mean   12.504677  11.963446\n",
              "std     3.376869   4.957821\n",
              "min     8.651201   5.046838\n",
              "25%     8.999440   7.958250\n",
              "50%    12.571360  11.727170\n",
              "75%    14.879830  17.394541\n",
              "max    18.914391  18.517851"
            ]
          },
          "metadata": {
            "tags": []
          },
          "execution_count": 34
        }
      ]
    },
    {
      "cell_type": "markdown",
      "metadata": {
        "id": "bwc1JocTHRwL",
        "colab_type": "text"
      },
      "source": [
        "You can slice the data like a list"
      ]
    },
    {
      "cell_type": "code",
      "metadata": {
        "id": "ayw3gZwyHRwP",
        "colab_type": "code",
        "colab": {
          "base_uri": "https://localhost:8080/",
          "height": 111
        },
        "outputId": "8e58be72-1c47-4ec5-b42b-f78d43a51e9c"
      },
      "source": [
        "pump_df[:2]"
      ],
      "execution_count": 35,
      "outputs": [
        {
          "output_type": "execute_result",
          "data": {
            "text/html": [
              "<div>\n",
              "<style scoped>\n",
              "    .dataframe tbody tr th:only-of-type {\n",
              "        vertical-align: middle;\n",
              "    }\n",
              "\n",
              "    .dataframe tbody tr th {\n",
              "        vertical-align: top;\n",
              "    }\n",
              "\n",
              "    .dataframe thead th {\n",
              "        text-align: right;\n",
              "    }\n",
              "</style>\n",
              "<table border=\"1\" class=\"dataframe\">\n",
              "  <thead>\n",
              "    <tr style=\"text-align: right;\">\n",
              "      <th></th>\n",
              "      <th>X</th>\n",
              "      <th>Y</th>\n",
              "    </tr>\n",
              "  </thead>\n",
              "  <tbody>\n",
              "    <tr>\n",
              "      <th>0</th>\n",
              "      <td>8.651201</td>\n",
              "      <td>17.891600</td>\n",
              "    </tr>\n",
              "    <tr>\n",
              "      <th>1</th>\n",
              "      <td>10.984780</td>\n",
              "      <td>18.517851</td>\n",
              "    </tr>\n",
              "  </tbody>\n",
              "</table>\n",
              "</div>"
            ],
            "text/plain": [
              "           X          Y\n",
              "0   8.651201  17.891600\n",
              "1  10.984780  18.517851"
            ]
          },
          "metadata": {
            "tags": []
          },
          "execution_count": 35
        }
      ]
    },
    {
      "cell_type": "code",
      "metadata": {
        "id": "2dVbcWTqHRwV",
        "colab_type": "code",
        "colab": {
          "base_uri": "https://localhost:8080/",
          "height": 111
        },
        "outputId": "1414ca9f-ec66-4063-d183-b643b7d2dcd1"
      },
      "source": [
        "pump_df[-2:]"
      ],
      "execution_count": 36,
      "outputs": [
        {
          "output_type": "execute_result",
          "data": {
            "text/html": [
              "<div>\n",
              "<style scoped>\n",
              "    .dataframe tbody tr th:only-of-type {\n",
              "        vertical-align: middle;\n",
              "    }\n",
              "\n",
              "    .dataframe tbody tr th {\n",
              "        vertical-align: top;\n",
              "    }\n",
              "\n",
              "    .dataframe thead th {\n",
              "        text-align: right;\n",
              "    }\n",
              "</style>\n",
              "<table border=\"1\" class=\"dataframe\">\n",
              "  <thead>\n",
              "    <tr style=\"text-align: right;\">\n",
              "      <th></th>\n",
              "      <th>X</th>\n",
              "      <th>Y</th>\n",
              "    </tr>\n",
              "  </thead>\n",
              "  <tbody>\n",
              "    <tr>\n",
              "      <th>11</th>\n",
              "      <td>16.00511</td>\n",
              "      <td>5.046838</td>\n",
              "    </tr>\n",
              "    <tr>\n",
              "      <th>12</th>\n",
              "      <td>8.99944</td>\n",
              "      <td>5.101023</td>\n",
              "    </tr>\n",
              "  </tbody>\n",
              "</table>\n",
              "</div>"
            ],
            "text/plain": [
              "           X         Y\n",
              "11  16.00511  5.046838\n",
              "12   8.99944  5.101023"
            ]
          },
          "metadata": {
            "tags": []
          },
          "execution_count": 36
        }
      ]
    },
    {
      "cell_type": "code",
      "metadata": {
        "id": "M8VfidtYHRwh",
        "colab_type": "code",
        "colab": {
          "base_uri": "https://localhost:8080/",
          "height": 173
        },
        "outputId": "b33f1057-6609-455a-fc05-2e815615a989"
      },
      "source": [
        "pump_df[1:5]"
      ],
      "execution_count": 37,
      "outputs": [
        {
          "output_type": "execute_result",
          "data": {
            "text/html": [
              "<div>\n",
              "<style scoped>\n",
              "    .dataframe tbody tr th:only-of-type {\n",
              "        vertical-align: middle;\n",
              "    }\n",
              "\n",
              "    .dataframe tbody tr th {\n",
              "        vertical-align: top;\n",
              "    }\n",
              "\n",
              "    .dataframe thead th {\n",
              "        text-align: right;\n",
              "    }\n",
              "</style>\n",
              "<table border=\"1\" class=\"dataframe\">\n",
              "  <thead>\n",
              "    <tr style=\"text-align: right;\">\n",
              "      <th></th>\n",
              "      <th>X</th>\n",
              "      <th>Y</th>\n",
              "    </tr>\n",
              "  </thead>\n",
              "  <tbody>\n",
              "    <tr>\n",
              "      <th>1</th>\n",
              "      <td>10.984780</td>\n",
              "      <td>18.517851</td>\n",
              "    </tr>\n",
              "    <tr>\n",
              "      <th>2</th>\n",
              "      <td>13.378190</td>\n",
              "      <td>17.394541</td>\n",
              "    </tr>\n",
              "    <tr>\n",
              "      <th>3</th>\n",
              "      <td>14.879830</td>\n",
              "      <td>17.809919</td>\n",
              "    </tr>\n",
              "    <tr>\n",
              "      <th>4</th>\n",
              "      <td>8.694768</td>\n",
              "      <td>14.905470</td>\n",
              "    </tr>\n",
              "  </tbody>\n",
              "</table>\n",
              "</div>"
            ],
            "text/plain": [
              "           X          Y\n",
              "1  10.984780  18.517851\n",
              "2  13.378190  17.394541\n",
              "3  14.879830  17.809919\n",
              "4   8.694768  14.905470"
            ]
          },
          "metadata": {
            "tags": []
          },
          "execution_count": 37
        }
      ]
    },
    {
      "cell_type": "markdown",
      "metadata": {
        "id": "V-ALAOEUHRwo",
        "colab_type": "text"
      },
      "source": [
        "or filter rows using some conditions. "
      ]
    },
    {
      "cell_type": "code",
      "metadata": {
        "id": "4tRwL7cRHRwp",
        "colab_type": "code",
        "colab": {
          "base_uri": "https://localhost:8080/",
          "height": 235
        },
        "outputId": "7c0dfb42-0942-431f-b494-efd861ae0fc0"
      },
      "source": [
        "pump_df[pump_df.X > 13]"
      ],
      "execution_count": 38,
      "outputs": [
        {
          "output_type": "execute_result",
          "data": {
            "text/html": [
              "<div>\n",
              "<style scoped>\n",
              "    .dataframe tbody tr th:only-of-type {\n",
              "        vertical-align: middle;\n",
              "    }\n",
              "\n",
              "    .dataframe tbody tr th {\n",
              "        vertical-align: top;\n",
              "    }\n",
              "\n",
              "    .dataframe thead th {\n",
              "        text-align: right;\n",
              "    }\n",
              "</style>\n",
              "<table border=\"1\" class=\"dataframe\">\n",
              "  <thead>\n",
              "    <tr style=\"text-align: right;\">\n",
              "      <th></th>\n",
              "      <th>X</th>\n",
              "      <th>Y</th>\n",
              "    </tr>\n",
              "  </thead>\n",
              "  <tbody>\n",
              "    <tr>\n",
              "      <th>2</th>\n",
              "      <td>13.378190</td>\n",
              "      <td>17.394541</td>\n",
              "    </tr>\n",
              "    <tr>\n",
              "      <th>3</th>\n",
              "      <td>14.879830</td>\n",
              "      <td>17.809919</td>\n",
              "    </tr>\n",
              "    <tr>\n",
              "      <th>8</th>\n",
              "      <td>13.521460</td>\n",
              "      <td>7.958250</td>\n",
              "    </tr>\n",
              "    <tr>\n",
              "      <th>9</th>\n",
              "      <td>16.434891</td>\n",
              "      <td>9.252130</td>\n",
              "    </tr>\n",
              "    <tr>\n",
              "      <th>10</th>\n",
              "      <td>18.914391</td>\n",
              "      <td>9.737819</td>\n",
              "    </tr>\n",
              "    <tr>\n",
              "      <th>11</th>\n",
              "      <td>16.005110</td>\n",
              "      <td>5.046838</td>\n",
              "    </tr>\n",
              "  </tbody>\n",
              "</table>\n",
              "</div>"
            ],
            "text/plain": [
              "            X          Y\n",
              "2   13.378190  17.394541\n",
              "3   14.879830  17.809919\n",
              "8   13.521460   7.958250\n",
              "9   16.434891   9.252130\n",
              "10  18.914391   9.737819\n",
              "11  16.005110   5.046838"
            ]
          },
          "metadata": {
            "tags": []
          },
          "execution_count": 38
        }
      ]
    },
    {
      "cell_type": "markdown",
      "metadata": {
        "id": "SVFUt2qDHRwt",
        "colab_type": "text"
      },
      "source": [
        "Now let's load another CSV file that documents the cholera deaths. The URL is https://raw.githubusercontent.com/yy/dviz-course/master/data/deaths.csv\n",
        "\n",
        "**Q2: load the death dataset and inspect it**\n",
        "1. **load this dataset as `death_df`.**\n",
        "2. **show the first 2 rows. **\n",
        "3. **show the total number of rows.**"
      ]
    },
    {
      "cell_type": "code",
      "metadata": {
        "id": "fTJUQ5RfHRwu",
        "colab_type": "code",
        "colab": {
          "base_uri": "https://localhost:8080/",
          "height": 119
        },
        "outputId": "c2a9482e-8e57-497b-a6bf-4e7906b22d61"
      },
      "source": [
        "# Load the death dataset (as death_df) and inspect it\n",
        "death_df = pd.read_csv('https://raw.githubusercontent.com/yy/dviz-course/master/data/deaths.csv')\n",
        "print(death_df.head())"
      ],
      "execution_count": 39,
      "outputs": [
        {
          "output_type": "stream",
          "text": [
            "           X          Y\n",
            "0  13.588010  11.095600\n",
            "1   9.878124  12.559180\n",
            "2  14.653980  10.180440\n",
            "3  15.220570   9.993003\n",
            "4  13.162650  12.963190\n"
          ],
          "name": "stdout"
        }
      ]
    },
    {
      "cell_type": "code",
      "metadata": {
        "id": "afPZOrMyJeUt",
        "colab_type": "code",
        "colab": {
          "base_uri": "https://localhost:8080/",
          "height": 68
        },
        "outputId": "2be22e14-432e-46dd-a3b0-ca5b511af895"
      },
      "source": [
        "# Show the first 2 rows\n",
        "print(death_df.head(2))"
      ],
      "execution_count": 40,
      "outputs": [
        {
          "output_type": "stream",
          "text": [
            "           X         Y\n",
            "0  13.588010  11.09560\n",
            "1   9.878124  12.55918\n"
          ],
          "name": "stdout"
        }
      ]
    },
    {
      "cell_type": "code",
      "metadata": {
        "id": "aqkmXa55JwCd",
        "colab_type": "code",
        "colab": {
          "base_uri": "https://localhost:8080/",
          "height": 34
        },
        "outputId": "f31de455-8cd8-4f82-a18b-40177a700e62"
      },
      "source": [
        "# Show the total number of rows.\n",
        "print(len(death_df))"
      ],
      "execution_count": 41,
      "outputs": [
        {
          "output_type": "stream",
          "text": [
            "578\n"
          ],
          "name": "stdout"
        }
      ]
    },
    {
      "cell_type": "markdown",
      "metadata": {
        "id": "xmVvVuNQHRw0",
        "colab_type": "text"
      },
      "source": [
        "## Some visualizations?\n",
        "\n",
        "Let's visualize them! Pandas actually provides [a nice visualization interface](https://pandas.pydata.org/pandas-docs/stable/generated/pandas.DataFrame.plot.html) that uses [matplotlib](https://matplotlib.org) under the hood. You can do many basic plots without learning `matplotlib`. So let's try. "
      ]
    },
    {
      "cell_type": "code",
      "metadata": {
        "id": "nsvg8biXHRw3",
        "colab_type": "code",
        "colab": {
          "base_uri": "https://localhost:8080/",
          "height": 286
        },
        "outputId": "d1772b8c-46cb-4274-fc84-1a22c80b6b24"
      },
      "source": [
        "death_df.plot()"
      ],
      "execution_count": 42,
      "outputs": [
        {
          "output_type": "execute_result",
          "data": {
            "text/plain": [
              "<matplotlib.axes._subplots.AxesSubplot at 0x7fcd053ef0b8>"
            ]
          },
          "metadata": {
            "tags": []
          },
          "execution_count": 42
        },
        {
          "output_type": "display_data",
          "data": {
            "image/png": "[encoded data removed]",
            "text/plain": [
              "<Figure size 432x288 with 1 Axes>"
            ]
          },
          "metadata": {
            "tags": []
          }
        }
      ]
    },
    {
      "cell_type": "markdown",
      "metadata": {
        "id": "8e3G-W2BHRw9",
        "colab_type": "text"
      },
      "source": [
        "Oh by the way, you may not see any plot. If you don't see anything run the following command and run the plot command again. "
      ]
    },
    {
      "cell_type": "code",
      "metadata": {
        "id": "VVFCw7cyHRw-",
        "colab_type": "code",
        "colab": {}
      },
      "source": [
        "%matplotlib inline"
      ],
      "execution_count": 0,
      "outputs": []
    },
    {
      "cell_type": "markdown",
      "metadata": {
        "id": "hUyeCvcsHRxA",
        "colab_type": "text"
      },
      "source": [
        "The commands that start with `%` is called [the magic commands](http://ipython.readthedocs.io/en/stable/interactive/magics.html#magic-matplotlib), which are available in IPython and Jupyter. The purpose of this command is telling the IPython / Jupyter to show the plot right here instead of trying to use other external viewers. "
      ]
    },
    {
      "cell_type": "markdown",
      "metadata": {
        "id": "cBHjD8EXHRxB",
        "colab_type": "text"
      },
      "source": [
        "Anyway, this doesn't seem like the plot we want. Instead of putting each row as a point in a 2D plane by using the X and Y as the coordinate, it just created a line chart. Let's fix it. Please take a look at [the plot method documentation](https://pandas.pydata.org/pandas-docs/stable/generated/pandas.DataFrame.plot.html). How should we change the command? Which `kind` of plot do we want to draw? \n",
        "\n",
        "Yes, we want to draw a *scatter plot* using x and y as the Cartesian coordinates. "
      ]
    },
    {
      "cell_type": "code",
      "metadata": {
        "id": "ipNGRqywHRxD",
        "colab_type": "code",
        "colab": {
          "base_uri": "https://localhost:8080/",
          "height": 300
        },
        "outputId": "5252bb63-6e5b-48d6-d57f-248dd1f63f82"
      },
      "source": [
        "death_df.plot(x='X', y='Y', kind='scatter', label='Deaths')"
      ],
      "execution_count": 44,
      "outputs": [
        {
          "output_type": "execute_result",
          "data": {
            "text/plain": [
              "<matplotlib.axes._subplots.AxesSubplot at 0x7fcd02ac00f0>"
            ]
          },
          "metadata": {
            "tags": []
          },
          "execution_count": 44
        },
        {
          "output_type": "display_data",
          "data": {
            "image/png": "[encoded data removed]",
            "text/plain": [
              "<Figure size 432x288 with 1 Axes>"
            ]
          },
          "metadata": {
            "tags": []
          }
        }
      ]
    },
    {
      "cell_type": "markdown",
      "metadata": {
        "id": "GYiAcXwUHRxH",
        "colab_type": "text"
      },
      "source": [
        "I think I want to reduce the size of the dots and change the color to black. But it is difficult to find how to do that! It is sometimes quite annoying to figure out how to change how the visualization looks, especially when we use `matplotlib`. Unlike some other advanced tools, `matplotlib` does not provide a very coherent way to adjust your visualizations. That's one of the reasons why there are lots of visualization libraries that *wrap* `matplotlib`. Anyway, this is how you do it. \n"
      ]
    },
    {
      "cell_type": "code",
      "metadata": {
        "id": "AVlv0azYHRxI",
        "colab_type": "code",
        "colab": {
          "base_uri": "https://localhost:8080/",
          "height": 300
        },
        "outputId": "dbbb74b5-00cf-45a1-aa6b-fcefb1353eca"
      },
      "source": [
        "death_df.plot(x='X', y='Y', kind='scatter', label='Deaths', s=2, c='black')"
      ],
      "execution_count": 45,
      "outputs": [
        {
          "output_type": "execute_result",
          "data": {
            "text/plain": [
              "<matplotlib.axes._subplots.AxesSubplot at 0x7fcd02a067b8>"
            ]
          },
          "metadata": {
            "tags": []
          },
          "execution_count": 45
        },
        {
          "output_type": "display_data",
          "data": {
            "image/png": "[encoded data removed]",
            "text/plain": [
              "<Figure size 432x288 with 1 Axes>"
            ]
          },
          "metadata": {
            "tags": []
          }
        }
      ]
    },
    {
      "cell_type": "markdown",
      "metadata": {
        "id": "svDTjzxVHRxP",
        "colab_type": "text"
      },
      "source": [
        "Can we visualize both deaths and pumps? "
      ]
    },
    {
      "cell_type": "code",
      "metadata": {
        "id": "QNRTU5eeHRxQ",
        "colab_type": "code",
        "colab": {
          "base_uri": "https://localhost:8080/",
          "height": 566
        },
        "outputId": "0a5b9eed-e6e8-456d-ef5b-84f4fa8b07b2"
      },
      "source": [
        "death_df.plot(x='X', y='Y', s=2, c='black', kind='scatter', label='Deaths')\n",
        "pump_df.plot(x='X', y='Y', kind='scatter', c='red', s=8, label='Pumps')"
      ],
      "execution_count": 46,
      "outputs": [
        {
          "output_type": "execute_result",
          "data": {
            "text/plain": [
              "<matplotlib.axes._subplots.AxesSubplot at 0x7fcd0294efd0>"
            ]
          },
          "metadata": {
            "tags": []
          },
          "execution_count": 46
        },
        {
          "output_type": "display_data",
          "data": {
            "image/png": "[encoded data removed]",
            "text/plain": [
              "<Figure size 432x288 with 1 Axes>"
            ]
          },
          "metadata": {
            "tags": []
          }
        },
        {
          "output_type": "display_data",
          "data": {
            "image/png": "[encoded data removed]",
            "text/plain": [
              "<Figure size 432x288 with 1 Axes>"
            ]
          },
          "metadata": {
            "tags": []
          }
        }
      ]
    },
    {
      "cell_type": "markdown",
      "metadata": {
        "id": "NucH9ZBnHRxU",
        "colab_type": "text"
      },
      "source": [
        "## Figure and Axes\n",
        "\n",
        "Why do we have two separate plots? The reason is that, by default, the `plot` method creates a new plot. In order to avoid it, we need to either create an [Axes](https://matplotlib.org/api/axes_api.html) and tell `plot` to use that axes. What is an `axes`? See this illustration. \n",
        "\n",
        "<img src=\"https://matplotlib.org/1.5.1/_images/fig_map.png\" alt=\"figure, axes, and axis\" style=\"width: 100px;\"/>\n",
        "\n",
        "A figure can contain multiple axes ([link](https://matplotlib.org/gallery/subplots_axes_and_figures/subplot_demo.html#sphx-glr-gallery-subplots-axes-and-figures-subplot-demo-py)):\n",
        "\n",
        "![multipleaxes](https://matplotlib.org/_images/sphx_glr_subplot_demo_001.png)\n",
        "\n",
        "and an axes can contain multiple plots ([link](https://matplotlib.org/gallery/api/two_scales.html#sphx-glr-gallery-api-two-scales-py)). \n",
        "\n",
        "![multipleplots](https://matplotlib.org/_images/sphx_glr_two_scales_001.png)\n",
        "\n",
        "Conveniently, when you call `plot` method, it creates an axes and returns it to you"
      ]
    },
    {
      "cell_type": "code",
      "metadata": {
        "id": "_n1sLqwhHRxV",
        "colab_type": "code",
        "colab": {
          "base_uri": "https://localhost:8080/",
          "height": 283
        },
        "outputId": "6a539e1f-1636-4c05-c4bb-d4386a17b991"
      },
      "source": [
        "ax = death_df.plot(x='X', y='Y', s=2, c='black', kind='scatter', label='Deaths')"
      ],
      "execution_count": 47,
      "outputs": [
        {
          "output_type": "display_data",
          "data": {
            "image/png": "[encoded data removed]",
            "text/plain": [
              "<Figure size 432x288 with 1 Axes>"
            ]
          },
          "metadata": {
            "tags": []
          }
        }
      ]
    },
    {
      "cell_type": "code",
      "metadata": {
        "id": "rYrLVzFHHRxe",
        "colab_type": "code",
        "colab": {
          "base_uri": "https://localhost:8080/",
          "height": 34
        },
        "outputId": "8f3706f4-7d85-4666-8f4b-51e0356f1633"
      },
      "source": [
        "ax"
      ],
      "execution_count": 55,
      "outputs": [
        {
          "output_type": "execute_result",
          "data": {
            "text/plain": [
              "<matplotlib.axes._subplots.AxesSubplot at 0x7fcd029c3fd0>"
            ]
          },
          "metadata": {
            "tags": []
          },
          "execution_count": 55
        }
      ]
    },
    {
      "cell_type": "markdown",
      "metadata": {
        "id": "4HzM-Ef5HRxi",
        "colab_type": "text"
      },
      "source": [
        "Then you can pass this axes object to another plot to put both plots in the same axes. "
      ]
    },
    {
      "cell_type": "code",
      "metadata": {
        "id": "suWperHtHRxj",
        "colab_type": "code",
        "colab": {
          "base_uri": "https://localhost:8080/",
          "height": 300
        },
        "outputId": "6a9b6546-6328-427c-d5ff-6726cbd4cc89"
      },
      "source": [
        "ax = death_df.plot(x='X', y='Y', s=2, c='black', alpha=0.5, kind='scatter', label='Deaths')\n",
        "pump_df.plot(x='X', y='Y', kind='scatter', c='red', s=8, label='Pumps', ax=ax)"
      ],
      "execution_count": 49,
      "outputs": [
        {
          "output_type": "execute_result",
          "data": {
            "text/plain": [
              "<matplotlib.axes._subplots.AxesSubplot at 0x7fcd029c3fd0>"
            ]
          },
          "metadata": {
            "tags": []
          },
          "execution_count": 49
        },
        {
          "output_type": "display_data",
          "data": {
            "image/png": "[encoded data removed]",
            "text/plain": [
              "<Figure size 432x288 with 1 Axes>"
            ]
          },
          "metadata": {
            "tags": []
          }
        }
      ]
    },
    {
      "cell_type": "markdown",
      "metadata": {
        "id": "8NycLsavHRxo",
        "colab_type": "text"
      },
      "source": [
        "## Voronoi diagram\n",
        "\n",
        "Let's try the Voronoi diagram. You can use the `scipy.spatial.Voronoi` and `scipy.spatial.voronoi_plot_2d` from `scipy`, the *scientific python* library. "
      ]
    },
    {
      "cell_type": "code",
      "metadata": {
        "id": "-hkGsmdkHRxp",
        "colab_type": "code",
        "colab": {}
      },
      "source": [
        "from scipy.spatial import Voronoi, voronoi_plot_2d"
      ],
      "execution_count": 0,
      "outputs": []
    },
    {
      "cell_type": "markdown",
      "metadata": {
        "id": "1T_EZMCFHRxs",
        "colab_type": "text"
      },
      "source": [
        "Take a look at the documentation of [Voronoi](https://docs.scipy.org/doc/scipy-0.18.1/reference/generated/scipy.spatial.Voronoi.html#scipy.spatial.Voronoi) and [voronoi_plot_2d](https://docs.scipy.org/doc/scipy-0.18.1/reference/generated/scipy.spatial.voronoi_plot_2d.html) and \n",
        "\n",
        "**Q3: produce a Voronoi diagram that shows the deaths, pumps, and voronoi cells**"
      ]
    },
    {
      "cell_type": "code",
      "metadata": {
        "id": "LUUVal-YHRxt",
        "colab_type": "code",
        "colab": {}
      },
      "source": [
        "# you'll need this\n",
        "points = pump_df.values\n",
        "points"
      ],
      "execution_count": 0,
      "outputs": []
    },
    {
      "cell_type": "code",
      "metadata": {
        "id": "9i7S3E8pHRxx",
        "colab_type": "code",
        "colab": {
          "base_uri": "https://localhost:8080/",
          "height": 269
        },
        "outputId": "9a613fc7-4e47-4462-ed80-b6effdf5a3e5"
      },
      "source": [
        "# TODO: your code here\n",
        "\n",
        "# Compute Voronoi tesselation\n",
        "vor = Voronoi(points)\n",
        "voronoi_plot_2d(vor)\n",
        "plt.savefig('voronoi_plot_2d.png')\n",
        "plt.show()"
      ],
      "execution_count": 68,
      "outputs": [
        {
          "output_type": "display_data",
          "data": {
            "image/png": "[encoded data removed]",
            "text/plain": [
              "<Figure size 432x288 with 1 Axes>"
            ]
          },
          "metadata": {
            "tags": []
          }
        }
      ]
    },
    {
      "cell_type": "markdown",
      "metadata": {
        "id": "DjEidtl5HRxz",
        "colab_type": "text"
      },
      "source": [
        "## Saving the figure\n",
        "\n",
        "You can also save your figure into PDF, PNG, etc. If you run the following, the plot will not only be displayed here, but also be saved as `foo.png`. "
      ]
    },
    {
      "cell_type": "code",
      "metadata": {
        "id": "50B0clVCHRx1",
        "colab_type": "code",
        "colab": {
          "base_uri": "https://localhost:8080/",
          "height": 269
        },
        "outputId": "ea866a72-78ee-47c2-848d-9f3389cacf0d"
      },
      "source": [
        "# import matplotlib.pyplot as plt\n",
        "# plt.plot([1,2,3], [4,2,3])\n",
        "# plt.savefig('foo.png')"
      ],
      "execution_count": 53,
      "outputs": [
        {
          "output_type": "display_data",
          "data": {
            "image/png": "[encoded data removed]",
            "text/plain": [
              "<Figure size 432x288 with 1 Axes>"
            ]
          },
          "metadata": {
            "tags": []
          }
        }
      ]
    },
    {
      "cell_type": "markdown",
      "metadata": {
        "id": "apPmH0QDHRx7",
        "colab_type": "text"
      },
      "source": [
        "**Q4: Save your Voronoi diagram. Make sure that your plot contains the scatterplot of deaths & pumps as well as the Voronoi cells**"
      ]
    },
    {
      "cell_type": "code",
      "metadata": {
        "id": "01SmNz_KHRx9",
        "colab_type": "code",
        "colab": {
          "base_uri": "https://localhost:8080/",
          "height": 34
        },
        "outputId": "f8a97876-468b-464d-a189-dbec823d4c17"
      },
      "source": [
        "# TODO: your code here\n",
        "# See code above"
      ],
      "execution_count": 67,
      "outputs": [
        {
          "output_type": "display_data",
          "data": {
            "text/plain": [
              "<Figure size 432x288 with 0 Axes>"
            ]
          },
          "metadata": {
            "tags": []
          }
        }
      ]
    },
    {
      "cell_type": "markdown",
      "metadata": {
        "id": "00XJGgznHRyC",
        "colab_type": "text"
      },
      "source": [
        "Ok, that was a brief introduction to `pandas` and some simple visualizations. Now let's talk about web a little bit. "
      ]
    },
    {
      "cell_type": "markdown",
      "metadata": {
        "id": "85rf9Qb4HRyD",
        "colab_type": "text"
      },
      "source": [
        "## HTML & CSS Basics\n",
        "\n",
        "### Seting up a local Python web server\n",
        "\n",
        "Many browsers don't allow loading files locally due to security concerns. If you work with Javascript and datasets, this can cause some troubles. We can get around by simply running a local web server with Python (did you know that there is a simple HTTP server module in Python? 😎):\n",
        "\n",
        "- Open the Command Prompt (windows) or your terminal.\n",
        "- Move to the working directory by typing `cd <FOLDER_LOCATION>`. If you run your webserver here, then this becomes the root of the website. \n",
        "- Type \n",
        "\n",
        "    `python -m http.server`.\n",
        "   \n",
        "\n",
        "If successful, you'll see\n",
        "\n",
        "\tServing HTTP on 0.0.0.0 port 8000 …\n",
        "\t\n",
        "This means that now your computer is running a webserver and its IP address is 0.0.0.0 and the port is 8000. Now you can open a browser and type \"0.0.0.0:8000\" on the address bar to connect to this webserver. Equivalently, you can type \"localhost:8000\". After typing, click on the different links. You can also directly access one of these links by typing in `localhost:8000/NAME_OF_YOUR_FILE.html` in the address bar.\n",
        "\n",
        "### HTML review\n",
        "\n",
        "Webpages are written in a standard markup language called HTML (HyperText Markup Language). The basic syntax of HTML consists of elements enclosed within `<` and `>` symbols. Browsers such as Firefox and Chrome parse these tags and *render* the content of a webpage in the designated format. \n",
        "\n",
        "Here is a list of important tags and their descriptions.\n",
        "\n",
        "- `html` - Surrounds the entire document.\n",
        "\n",
        "- `head` - Contains info about the document itself. E.g. the title, any external stylesheets or scripts, etc.\n",
        "\n",
        "- `title` - Assigns title to page. This title is used while bookmarking.\n",
        "\n",
        "- `body` - The main part of the document.\n",
        "\n",
        "- `h1`, `h2`, `h3`, ... - Headings (Smaller the number, larger the size).\n",
        "\n",
        "- `p` - Paragraph.\n",
        "\n",
        "- `br` - Line break.\n",
        "\n",
        "- `em` - emphasize text.\n",
        "\n",
        "- `strong` or `b` - Bold font.\n",
        "\n",
        "- `a` - Defines a hyperlink and allows you to link out to the other webpages.\n",
        "\n",
        "- `img` - Place an image.\n",
        "\n",
        "- `ul`, `ol`, `li` - Unordered lists with bullets, ordered lists with numbers and each item in list respectively.\n",
        "\n",
        "- `table`, `th`, `td`, `tr` - Make a table, specifying contents of each cell.\n",
        "\n",
        "- `<!-->` - Comments – will not be displayed.\n",
        "\n",
        "- `span` - This will not visibly change anything on the webpage. But it is important while referencing in CSS or JavaScript. It spans a section of text, say, within a paragraph.\n",
        "\n",
        "- `div` - This will not visibly change anything on the webpage. But it is important while referencing in CSS or JavaScript. It stands for division and allocates a section of a page.\n",
        "\n",
        "### CSS review\n",
        "\n",
        "While HTML directly deals with the content and structure, CSS (Cascading Style Sheets) is the primary language that is used for the look and formatting of a web document.\n",
        "\n",
        "A CSS stylesheet consists of one or more selectors, properties and values. For example:\n",
        "\n",
        "\tbody {   \n",
        "  \t  background-color: white;   \n",
        "  \t  color: steelblue;   \n",
        "\t}\n",
        "\t\n",
        "Selectors are the HTML elements to which the specific styles (combination of properties and values) will be applied. In the above example, all text within the `body` tags will be in steelblue.\n",
        "\n",
        "There are three ways to include CSS code in HTML. This is called \"referencing\".\n",
        "\n",
        "Embed CSS in HTML - You can place the CSS code within `style` tags inside the `head` tags. This way you can keep everything within a single HTML file but does make the code lengthy.\n",
        "\n",
        "    <head>  \t\t\t\n",
        "        <style type=\"text/css\" \t\n",
        "        .description {\n",
        "        font: 16px times-new-roman;\n",
        "        }\n",
        "        .viz {\n",
        "        font: 10px sans-serif;\n",
        "        } \n",
        "        </style>\n",
        "\t\n",
        "Reference an external stylesheet from HTML - This is a much cleaner way but results in the creation of another file. To do this, you can copy the CSS code into a text file and save it as a .css file in the same folder as the HTML file. In the document head in the HTML code, you can then do the following:\n",
        "\n",
        "\t<head>\n",
        " \t <link rel=\"stylesheet\" href=\"stylesheet.css\">\n",
        "\t</head>\n",
        "\t\n",
        "Attach inline styles - You can also directly attach the styles in-line along with the main HTML code in the body. This makes it easy to customize specific elements but makes the code very messy, because the design and content get mixed up.\n",
        "\n",
        "\t<p style=\"color: green; font-size:36px; font-weight:bold;\">\n",
        "    Inline styles can be handy sometimes.\n",
        "    </p>\n"
      ]
    },
    {
      "cell_type": "markdown",
      "metadata": {
        "id": "w6V1MNGhHRyE",
        "colab_type": "text"
      },
      "source": [
        "**Q5: Create a simple HTML page that displays the Voronoi diagram that you saved. Feel free to add more plots, explanations, and any styles. Make sure to check you can run the Python webserver and open the HTML file that you created. **\n",
        "\n",
        "Btw, you can also export Jupyter notebook into various formats. Click `File -> Export Notebook As` and play with it. "
      ]
    },
    {
      "cell_type": "markdown",
      "metadata": {
        "id": "0Uh3i3UFHRyF",
        "colab_type": "text"
      },
      "source": [
        "## Now submit your work\n",
        "\n",
        "Rename your `.ipynb` and `HTML` (CSS) files in the format of `lab02_lastname_firstname`, and upload to Canvas. "
      ]
    }
  ]
}