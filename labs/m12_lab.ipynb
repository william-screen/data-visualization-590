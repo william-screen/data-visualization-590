{
  "nbformat": 4,
  "nbformat_minor": 0,
  "metadata": {
    "colab": {
      "name": "m12-lab.ipynb",
      "version": "0.3.2",
      "provenance": [],
      "collapsed_sections": [
        "-id-i6KrDmnj",
        "t62N0vucDmo9"
      ],
      "toc_visible": true,
      "include_colab_link": true
    },
    "kernelspec": {
      "name": "python3",
      "display_name": "Python 3"
    }
  },
  "cells": [
    {
      "cell_type": "markdown",
      "metadata": {
        "id": "view-in-github",
        "colab_type": "text"
      },
      "source": [
        "<a href=\"https://colab.research.google.com/github/william-screen/data-visualization-590/blob/master/labs/m12_lab.ipynb\" target=\"_parent\"><img src=\"https://colab.research.google.com/assets/colab-badge.svg\" alt=\"Open In Colab\"/></a>"
      ]
    },
    {
      "cell_type": "markdown",
      "metadata": {
        "id": "5anYb9aYDmni",
        "colab_type": "text"
      },
      "source": [
        "# Module 12: Maps\n",
        "\n",
        "Let's draw some maps. 🗺🧐"
      ]
    },
    {
      "cell_type": "code",
      "metadata": {
        "id": "CG-1DXDOp6h5",
        "colab_type": "code",
        "colab": {}
      },
      "source": [
        "from google.colab import drive\n",
        "drive.mount('/content/drive')"
      ],
      "execution_count": 0,
      "outputs": []
    },
    {
      "cell_type": "markdown",
      "metadata": {
        "id": "-id-i6KrDmnj",
        "colab_type": "text"
      },
      "source": [
        "## A dotmap with Altair\n",
        "\n",
        "Let's start with altair. "
      ]
    },
    {
      "cell_type": "code",
      "metadata": {
        "id": "imShwiWpDmnj",
        "colab_type": "code",
        "outputId": "bb015d14-531f-4db5-d7b4-989c59c3c5c1",
        "colab": {
          "base_uri": "https://localhost:8080/",
          "height": 0
        }
      },
      "source": [
        "import altair as alt\n",
        "\n",
        "# saving data into a file rather than embedding into the chart\n",
        "alt.data_transformers.enable('json') \n",
        "#alt.renderers.enable('notebook')"
      ],
      "execution_count": 2,
      "outputs": [
        {
          "output_type": "execute_result",
          "data": {
            "text/plain": [
              "DataTransformerRegistry.enable('json')"
            ]
          },
          "metadata": {
            "tags": []
          },
          "execution_count": 2
        }
      ]
    },
    {
      "cell_type": "markdown",
      "metadata": {
        "id": "q5kBa-V3Dmnp",
        "colab_type": "text"
      },
      "source": [
        "Maybe we need a dataset with geographical coordinates. This `zipcodes` dataset contains the location and zipcode of each zip code area. "
      ]
    },
    {
      "cell_type": "code",
      "metadata": {
        "id": "_0_Ut5fFDmnp",
        "colab_type": "code",
        "outputId": "9c6bd7d4-3842-4cdf-98bf-07cc888d5ad0",
        "colab": {
          "base_uri": "https://localhost:8080/",
          "height": 0
        }
      },
      "source": [
        "from vega_datasets import data\n",
        "\n",
        "zipcodes_url = data.zipcodes.url\n",
        "zipcodes = data.zipcodes()\n",
        "zipcodes.head()"
      ],
      "execution_count": 3,
      "outputs": [
        {
          "output_type": "execute_result",
          "data": {
            "text/html": [
              "<div>\n",
              "<style scoped>\n",
              "    .dataframe tbody tr th:only-of-type {\n",
              "        vertical-align: middle;\n",
              "    }\n",
              "\n",
              "    .dataframe tbody tr th {\n",
              "        vertical-align: top;\n",
              "    }\n",
              "\n",
              "    .dataframe thead th {\n",
              "        text-align: right;\n",
              "    }\n",
              "</style>\n",
              "<table border=\"1\" class=\"dataframe\">\n",
              "  <thead>\n",
              "    <tr style=\"text-align: right;\">\n",
              "      <th></th>\n",
              "      <th>zip_code</th>\n",
              "      <th>latitude</th>\n",
              "      <th>longitude</th>\n",
              "      <th>city</th>\n",
              "      <th>state</th>\n",
              "      <th>county</th>\n",
              "    </tr>\n",
              "  </thead>\n",
              "  <tbody>\n",
              "    <tr>\n",
              "      <th>0</th>\n",
              "      <td>00501</td>\n",
              "      <td>40.922326</td>\n",
              "      <td>-72.637078</td>\n",
              "      <td>Holtsville</td>\n",
              "      <td>NY</td>\n",
              "      <td>Suffolk</td>\n",
              "    </tr>\n",
              "    <tr>\n",
              "      <th>1</th>\n",
              "      <td>00544</td>\n",
              "      <td>40.922326</td>\n",
              "      <td>-72.637078</td>\n",
              "      <td>Holtsville</td>\n",
              "      <td>NY</td>\n",
              "      <td>Suffolk</td>\n",
              "    </tr>\n",
              "    <tr>\n",
              "      <th>2</th>\n",
              "      <td>00601</td>\n",
              "      <td>18.165273</td>\n",
              "      <td>-66.722583</td>\n",
              "      <td>Adjuntas</td>\n",
              "      <td>PR</td>\n",
              "      <td>Adjuntas</td>\n",
              "    </tr>\n",
              "    <tr>\n",
              "      <th>3</th>\n",
              "      <td>00602</td>\n",
              "      <td>18.393103</td>\n",
              "      <td>-67.180953</td>\n",
              "      <td>Aguada</td>\n",
              "      <td>PR</td>\n",
              "      <td>Aguada</td>\n",
              "    </tr>\n",
              "    <tr>\n",
              "      <th>4</th>\n",
              "      <td>00603</td>\n",
              "      <td>18.455913</td>\n",
              "      <td>-67.145780</td>\n",
              "      <td>Aguadilla</td>\n",
              "      <td>PR</td>\n",
              "      <td>Aguadilla</td>\n",
              "    </tr>\n",
              "  </tbody>\n",
              "</table>\n",
              "</div>"
            ],
            "text/plain": [
              "  zip_code   latitude  longitude        city state     county\n",
              "0    00501  40.922326 -72.637078  Holtsville    NY    Suffolk\n",
              "1    00544  40.922326 -72.637078  Holtsville    NY    Suffolk\n",
              "2    00601  18.165273 -66.722583    Adjuntas    PR   Adjuntas\n",
              "3    00602  18.393103 -67.180953      Aguada    PR     Aguada\n",
              "4    00603  18.455913 -67.145780   Aguadilla    PR  Aguadilla"
            ]
          },
          "metadata": {
            "tags": []
          },
          "execution_count": 3
        }
      ]
    },
    {
      "cell_type": "code",
      "metadata": {
        "id": "hs9UOnVcDmns",
        "colab_type": "code",
        "outputId": "b90d73f5-406d-4a43-95a0-ef0f3cb1357a",
        "colab": {
          "base_uri": "https://localhost:8080/",
          "height": 0
        }
      },
      "source": [
        "zipcodes = data.zipcodes(dtype={'zip_code': 'category'})\n",
        "zipcodes.head()"
      ],
      "execution_count": 4,
      "outputs": [
        {
          "output_type": "execute_result",
          "data": {
            "text/html": [
              "<div>\n",
              "<style scoped>\n",
              "    .dataframe tbody tr th:only-of-type {\n",
              "        vertical-align: middle;\n",
              "    }\n",
              "\n",
              "    .dataframe tbody tr th {\n",
              "        vertical-align: top;\n",
              "    }\n",
              "\n",
              "    .dataframe thead th {\n",
              "        text-align: right;\n",
              "    }\n",
              "</style>\n",
              "<table border=\"1\" class=\"dataframe\">\n",
              "  <thead>\n",
              "    <tr style=\"text-align: right;\">\n",
              "      <th></th>\n",
              "      <th>zip_code</th>\n",
              "      <th>latitude</th>\n",
              "      <th>longitude</th>\n",
              "      <th>city</th>\n",
              "      <th>state</th>\n",
              "      <th>county</th>\n",
              "    </tr>\n",
              "  </thead>\n",
              "  <tbody>\n",
              "    <tr>\n",
              "      <th>0</th>\n",
              "      <td>00501</td>\n",
              "      <td>40.922326</td>\n",
              "      <td>-72.637078</td>\n",
              "      <td>Holtsville</td>\n",
              "      <td>NY</td>\n",
              "      <td>Suffolk</td>\n",
              "    </tr>\n",
              "    <tr>\n",
              "      <th>1</th>\n",
              "      <td>00544</td>\n",
              "      <td>40.922326</td>\n",
              "      <td>-72.637078</td>\n",
              "      <td>Holtsville</td>\n",
              "      <td>NY</td>\n",
              "      <td>Suffolk</td>\n",
              "    </tr>\n",
              "    <tr>\n",
              "      <th>2</th>\n",
              "      <td>00601</td>\n",
              "      <td>18.165273</td>\n",
              "      <td>-66.722583</td>\n",
              "      <td>Adjuntas</td>\n",
              "      <td>PR</td>\n",
              "      <td>Adjuntas</td>\n",
              "    </tr>\n",
              "    <tr>\n",
              "      <th>3</th>\n",
              "      <td>00602</td>\n",
              "      <td>18.393103</td>\n",
              "      <td>-67.180953</td>\n",
              "      <td>Aguada</td>\n",
              "      <td>PR</td>\n",
              "      <td>Aguada</td>\n",
              "    </tr>\n",
              "    <tr>\n",
              "      <th>4</th>\n",
              "      <td>00603</td>\n",
              "      <td>18.455913</td>\n",
              "      <td>-67.145780</td>\n",
              "      <td>Aguadilla</td>\n",
              "      <td>PR</td>\n",
              "      <td>Aguadilla</td>\n",
              "    </tr>\n",
              "  </tbody>\n",
              "</table>\n",
              "</div>"
            ],
            "text/plain": [
              "  zip_code   latitude  longitude        city state     county\n",
              "0    00501  40.922326 -72.637078  Holtsville    NY    Suffolk\n",
              "1    00544  40.922326 -72.637078  Holtsville    NY    Suffolk\n",
              "2    00601  18.165273 -66.722583    Adjuntas    PR   Adjuntas\n",
              "3    00602  18.393103 -67.180953      Aguada    PR     Aguada\n",
              "4    00603  18.455913 -67.145780   Aguadilla    PR  Aguadilla"
            ]
          },
          "metadata": {
            "tags": []
          },
          "execution_count": 4
        }
      ]
    },
    {
      "cell_type": "code",
      "metadata": {
        "id": "RQdBhUQNDmnu",
        "colab_type": "code",
        "outputId": "9bd42dbc-01da-4b5e-e6b3-44cd6e0dc6bb",
        "colab": {
          "base_uri": "https://localhost:8080/",
          "height": 0
        }
      },
      "source": [
        "zipcodes.zip_code.dtype"
      ],
      "execution_count": 5,
      "outputs": [
        {
          "output_type": "execute_result",
          "data": {
            "text/plain": [
              "CategoricalDtype(categories=['00501', '00544', '00601', '00602', '00603', '00604',\n",
              "                  '00605', '00606', '00610', '00611',\n",
              "                  ...\n",
              "                  '99919', '99921', '99922', '99923', '99925', '99926',\n",
              "                  '99927', '99928', '99929', '99950'],\n",
              "                 ordered=False)"
            ]
          },
          "metadata": {
            "tags": []
          },
          "execution_count": 5
        }
      ]
    },
    {
      "cell_type": "markdown",
      "metadata": {
        "id": "4hZQhhMlDmnx",
        "colab_type": "text"
      },
      "source": [
        "Btw, you'll have fewer issues if you pass URL instead of a dataframe to `alt.Chart`. "
      ]
    },
    {
      "cell_type": "markdown",
      "metadata": {
        "id": "9lMz0z2YDmnx",
        "colab_type": "text"
      },
      "source": [
        "### Let's draw it\n",
        "\n",
        "Now we have the dataset loaded and start drawing some plots. Let's say you don't know anything about map projections. What would you try with geographical data? The simplest thing is probably considering (longitude, latitude) as a Cartesian coordinate and directly plot them. "
      ]
    },
    {
      "cell_type": "code",
      "metadata": {
        "id": "BDstDUErDmny",
        "colab_type": "code",
        "outputId": "acf6819d-9f94-4608-be10-5aa80d938dc1",
        "colab": {
          "base_uri": "https://localhost:8080/",
          "height": 0
        }
      },
      "source": [
        "alt.Chart(zipcodes_url).mark_circle().encode(\n",
        "    x='longitude:Q',\n",
        "    y='latitude:Q',\n",
        ")"
      ],
      "execution_count": 6,
      "outputs": [
        {
          "output_type": "execute_result",
          "data": {
            "text/plain": [
              "Chart({\n",
              "  data: 'https://vega.github.io/vega-datasets/data/zipcodes.csv',\n",
              "  encoding: FacetedEncoding({\n",
              "    x: X({\n",
              "      field: 'longitude',\n",
              "      type: 'quantitative'\n",
              "    }),\n",
              "    y: Y({\n",
              "      field: 'latitude',\n",
              "      type: 'quantitative'\n",
              "    })\n",
              "  }),\n",
              "  mark: 'circle'\n",
              "})"
            ],
            "text/html": [
              "<!DOCTYPE html>\n",
              "<html>\n",
              "<head>\n",
              "  <style>\n",
              "    .vega-actions a {\n",
              "        margin-right: 12px;\n",
              "        color: #757575;\n",
              "        font-weight: normal;\n",
              "        font-size: 13px;\n",
              "    }\n",
              "    .error {\n",
              "        color: red;\n",
              "    }\n",
              "  </style>\n",
              "  <script type=\"text/javascript\" src=\"https://cdn.jsdelivr.net/npm//vega@5\"></script>\n",
              "  <script type=\"text/javascript\" src=\"https://cdn.jsdelivr.net/npm//vega-lite@3.3.0\"></script>\n",
              "  <script type=\"text/javascript\" src=\"https://cdn.jsdelivr.net/npm//vega-embed@4\"></script>\n",
              "</head>\n",
              "<body>\n",
              "  <div id=\"altair-viz\"></div>\n",
              "  <script>\n",
              "      var spec = {\"config\": {\"view\": {\"width\": 400, \"height\": 300}, \"mark\": {\"tooltip\": null}}, \"data\": {\"url\": \"https://vega.github.io/vega-datasets/data/zipcodes.csv\"}, \"mark\": \"circle\", \"encoding\": {\"x\": {\"type\": \"quantitative\", \"field\": \"longitude\"}, \"y\": {\"type\": \"quantitative\", \"field\": \"latitude\"}}, \"$schema\": \"https://vega.github.io/schema/vega-lite/v3.3.0.json\"};\n",
              "      var embedOpt = {\"mode\": \"vega-lite\"};\n",
              "\n",
              "      function showError(el, error){\n",
              "          el.innerHTML = ('<div class=\"error\" style=\"color:red;\">'\n",
              "                          + '<p>JavaScript Error: ' + error.message + '</p>'\n",
              "                          + \"<p>This usually means there's a typo in your chart specification. \"\n",
              "                          + \"See the javascript console for the full traceback.</p>\"\n",
              "                          + '</div>');\n",
              "          throw error;\n",
              "      }\n",
              "      const el = document.getElementById('altair-viz');\n",
              "      vegaEmbed(\"#altair-viz\", spec, embedOpt)\n",
              "        .catch(error => showError(el, error));\n",
              "\n",
              "  </script>\n",
              "</body>\n",
              "</html>"
            ]
          },
          "metadata": {
            "tags": []
          },
          "execution_count": 6
        }
      ]
    },
    {
      "cell_type": "markdown",
      "metadata": {
        "id": "8Noklhy5Dmn0",
        "colab_type": "text"
      },
      "source": [
        "Actually this itself is a map projection called [Equirectangular projection](https://en.wikipedia.org/wiki/Equirectangular_projection). This projection (or almost a *non-projection*) is super straight-forward and doesn't require any processing of the data. So, often it is used to just quickly explore geographical data. As you dig deeper, you still want to think about which map projection fits your need best. Don't just use equirectangular projection without any thoughts! \n",
        "\n",
        "Anyway, let's make it look slighly better by reducing the size of the circles and adjusting the aspect ratio. "
      ]
    },
    {
      "cell_type": "code",
      "metadata": {
        "id": "BKf6MBuDDmn1",
        "colab_type": "code",
        "outputId": "278a735e-0b02-4043-ca6e-312f089533ee",
        "colab": {
          "base_uri": "https://localhost:8080/",
          "height": 0
        }
      },
      "source": [
        "alt.Chart(zipcodes_url).mark_circle(size=2).encode(\n",
        "    x='longitude:Q',\n",
        "    y='latitude:Q',\n",
        ").properties(\n",
        "    width=700,\n",
        "    height=200,\n",
        ")"
      ],
      "execution_count": 7,
      "outputs": [
        {
          "output_type": "execute_result",
          "data": {
            "text/plain": [
              "Chart({\n",
              "  data: 'https://vega.github.io/vega-datasets/data/zipcodes.csv',\n",
              "  encoding: FacetedEncoding({\n",
              "    x: X({\n",
              "      field: 'longitude',\n",
              "      type: 'quantitative'\n",
              "    }),\n",
              "    y: Y({\n",
              "      field: 'latitude',\n",
              "      type: 'quantitative'\n",
              "    })\n",
              "  }),\n",
              "  height: 200,\n",
              "  mark: MarkDef({\n",
              "    size: 2,\n",
              "    type: 'circle'\n",
              "  }),\n",
              "  width: 700\n",
              "})"
            ],
            "text/html": [
              "<!DOCTYPE html>\n",
              "<html>\n",
              "<head>\n",
              "  <style>\n",
              "    .vega-actions a {\n",
              "        margin-right: 12px;\n",
              "        color: #757575;\n",
              "        font-weight: normal;\n",
              "        font-size: 13px;\n",
              "    }\n",
              "    .error {\n",
              "        color: red;\n",
              "    }\n",
              "  </style>\n",
              "  <script type=\"text/javascript\" src=\"https://cdn.jsdelivr.net/npm//vega@5\"></script>\n",
              "  <script type=\"text/javascript\" src=\"https://cdn.jsdelivr.net/npm//vega-lite@3.3.0\"></script>\n",
              "  <script type=\"text/javascript\" src=\"https://cdn.jsdelivr.net/npm//vega-embed@4\"></script>\n",
              "</head>\n",
              "<body>\n",
              "  <div id=\"altair-viz\"></div>\n",
              "  <script>\n",
              "      var spec = {\"config\": {\"view\": {\"width\": 400, \"height\": 300}, \"mark\": {\"tooltip\": null}}, \"data\": {\"url\": \"https://vega.github.io/vega-datasets/data/zipcodes.csv\"}, \"mark\": {\"type\": \"circle\", \"size\": 2}, \"encoding\": {\"x\": {\"type\": \"quantitative\", \"field\": \"longitude\"}, \"y\": {\"type\": \"quantitative\", \"field\": \"latitude\"}}, \"height\": 200, \"width\": 700, \"$schema\": \"https://vega.github.io/schema/vega-lite/v3.3.0.json\"};\n",
              "      var embedOpt = {\"mode\": \"vega-lite\"};\n",
              "\n",
              "      function showError(el, error){\n",
              "          el.innerHTML = ('<div class=\"error\" style=\"color:red;\">'\n",
              "                          + '<p>JavaScript Error: ' + error.message + '</p>'\n",
              "                          + \"<p>This usually means there's a typo in your chart specification. \"\n",
              "                          + \"See the javascript console for the full traceback.</p>\"\n",
              "                          + '</div>');\n",
              "          throw error;\n",
              "      }\n",
              "      const el = document.getElementById('altair-viz');\n",
              "      vegaEmbed(\"#altair-viz\", spec, embedOpt)\n",
              "        .catch(error => showError(el, error));\n",
              "\n",
              "  </script>\n",
              "</body>\n",
              "</html>"
            ]
          },
          "metadata": {
            "tags": []
          },
          "execution_count": 7
        }
      ]
    },
    {
      "cell_type": "markdown",
      "metadata": {
        "id": "4pqsgEPFDmn3",
        "colab_type": "text"
      },
      "source": [
        "But, a much better way to do this is explicitly specifying that they are lat, lng coordinates by using `longitude=` and `latitude=`, rather than `x=` and `y=`. If you do that, altair automatically adjust the aspect ratio. Try to change the width and height. "
      ]
    },
    {
      "cell_type": "code",
      "metadata": {
        "id": "ntu9Eg6oDmn4",
        "colab_type": "code",
        "outputId": "be89ba50-0e5e-4605-f6d3-431d68d6da38",
        "colab": {
          "base_uri": "https://localhost:8080/",
          "height": 0
        }
      },
      "source": [
        "alt.Chart(zipcodes_url).mark_circle(size=2).encode(\n",
        "    longitude='longitude:Q',\n",
        "    latitude='latitude:Q',\n",
        ").properties(\n",
        "    width=800,\n",
        "    height=600,\n",
        ")"
      ],
      "execution_count": 8,
      "outputs": [
        {
          "output_type": "execute_result",
          "data": {
            "text/plain": [
              "Chart({\n",
              "  data: 'https://vega.github.io/vega-datasets/data/zipcodes.csv',\n",
              "  encoding: FacetedEncoding({\n",
              "    latitude: Latitude({\n",
              "      field: 'latitude',\n",
              "      type: 'quantitative'\n",
              "    }),\n",
              "    longitude: Longitude({\n",
              "      field: 'longitude',\n",
              "      type: 'quantitative'\n",
              "    })\n",
              "  }),\n",
              "  height: 600,\n",
              "  mark: MarkDef({\n",
              "    size: 2,\n",
              "    type: 'circle'\n",
              "  }),\n",
              "  width: 800\n",
              "})"
            ],
            "text/html": [
              "<!DOCTYPE html>\n",
              "<html>\n",
              "<head>\n",
              "  <style>\n",
              "    .vega-actions a {\n",
              "        margin-right: 12px;\n",
              "        color: #757575;\n",
              "        font-weight: normal;\n",
              "        font-size: 13px;\n",
              "    }\n",
              "    .error {\n",
              "        color: red;\n",
              "    }\n",
              "  </style>\n",
              "  <script type=\"text/javascript\" src=\"https://cdn.jsdelivr.net/npm//vega@5\"></script>\n",
              "  <script type=\"text/javascript\" src=\"https://cdn.jsdelivr.net/npm//vega-lite@3.3.0\"></script>\n",
              "  <script type=\"text/javascript\" src=\"https://cdn.jsdelivr.net/npm//vega-embed@4\"></script>\n",
              "</head>\n",
              "<body>\n",
              "  <div id=\"altair-viz\"></div>\n",
              "  <script>\n",
              "      var spec = {\"config\": {\"view\": {\"width\": 400, \"height\": 300}, \"mark\": {\"tooltip\": null}}, \"data\": {\"url\": \"https://vega.github.io/vega-datasets/data/zipcodes.csv\"}, \"mark\": {\"type\": \"circle\", \"size\": 2}, \"encoding\": {\"latitude\": {\"field\": \"latitude\", \"type\": \"quantitative\"}, \"longitude\": {\"field\": \"longitude\", \"type\": \"quantitative\"}}, \"height\": 600, \"width\": 800, \"$schema\": \"https://vega.github.io/schema/vega-lite/v3.3.0.json\"};\n",
              "      var embedOpt = {\"mode\": \"vega-lite\"};\n",
              "\n",
              "      function showError(el, error){\n",
              "          el.innerHTML = ('<div class=\"error\" style=\"color:red;\">'\n",
              "                          + '<p>JavaScript Error: ' + error.message + '</p>'\n",
              "                          + \"<p>This usually means there's a typo in your chart specification. \"\n",
              "                          + \"See the javascript console for the full traceback.</p>\"\n",
              "                          + '</div>');\n",
              "          throw error;\n",
              "      }\n",
              "      const el = document.getElementById('altair-viz');\n",
              "      vegaEmbed(\"#altair-viz\", spec, embedOpt)\n",
              "        .catch(error => showError(el, error));\n",
              "\n",
              "  </script>\n",
              "</body>\n",
              "</html>"
            ]
          },
          "metadata": {
            "tags": []
          },
          "execution_count": 8
        }
      ]
    },
    {
      "cell_type": "markdown",
      "metadata": {
        "id": "wotVvEnYDmn6",
        "colab_type": "text"
      },
      "source": [
        "Because the [American empire is far-reaching and complicated](https://www.youtube.com/watch?v=ASSOQDQvVLU), the information density of this map is very low (although interesting). A common projection for visualizing US data is [AlbersUSA](https://bl.ocks.org/mbostock/5545680), which uses [Albers (equal-area) projection](https://en.wikipedia.org/wiki/Albers_projection). This is a standard projection used in United States Geological Survey and the United States Census Bureau. Albers USA is simply a composition of US main land, Alaska, and Hawaii. \n",
        "\n",
        "To use it, we simply call `project` method and specify which variables are `longitude` and `latitude`. "
      ]
    },
    {
      "cell_type": "code",
      "metadata": {
        "id": "EB_IwDXiDmn7",
        "colab_type": "code",
        "outputId": "e0aeedf5-1ceb-4a76-853e-4e590d491cec",
        "colab": {
          "base_uri": "https://localhost:8080/",
          "height": 0
        }
      },
      "source": [
        "alt.Chart(zipcodes_url).mark_circle(size=2).encode(\n",
        "    longitude='longitude:Q',\n",
        "    latitude='latitude:Q',\n",
        ").project(\n",
        "    type='albersUsa'\n",
        ").properties(\n",
        "    width=700,\n",
        "    height=400,\n",
        ")"
      ],
      "execution_count": 9,
      "outputs": [
        {
          "output_type": "execute_result",
          "data": {
            "text/plain": [
              "Chart({\n",
              "  data: 'https://vega.github.io/vega-datasets/data/zipcodes.csv',\n",
              "  encoding: FacetedEncoding({\n",
              "    latitude: Latitude({\n",
              "      field: 'latitude',\n",
              "      type: 'quantitative'\n",
              "    }),\n",
              "    longitude: Longitude({\n",
              "      field: 'longitude',\n",
              "      type: 'quantitative'\n",
              "    })\n",
              "  }),\n",
              "  height: 400,\n",
              "  mark: MarkDef({\n",
              "    size: 2,\n",
              "    type: 'circle'\n",
              "  }),\n",
              "  projection: Projection({\n",
              "    type: 'albersUsa'\n",
              "  }),\n",
              "  width: 700\n",
              "})"
            ],
            "text/html": [
              "<!DOCTYPE html>\n",
              "<html>\n",
              "<head>\n",
              "  <style>\n",
              "    .vega-actions a {\n",
              "        margin-right: 12px;\n",
              "        color: #757575;\n",
              "        font-weight: normal;\n",
              "        font-size: 13px;\n",
              "    }\n",
              "    .error {\n",
              "        color: red;\n",
              "    }\n",
              "  </style>\n",
              "  <script type=\"text/javascript\" src=\"https://cdn.jsdelivr.net/npm//vega@5\"></script>\n",
              "  <script type=\"text/javascript\" src=\"https://cdn.jsdelivr.net/npm//vega-lite@3.3.0\"></script>\n",
              "  <script type=\"text/javascript\" src=\"https://cdn.jsdelivr.net/npm//vega-embed@4\"></script>\n",
              "</head>\n",
              "<body>\n",
              "  <div id=\"altair-viz\"></div>\n",
              "  <script>\n",
              "      var spec = {\"config\": {\"view\": {\"width\": 400, \"height\": 300}, \"mark\": {\"tooltip\": null}}, \"data\": {\"url\": \"https://vega.github.io/vega-datasets/data/zipcodes.csv\"}, \"mark\": {\"type\": \"circle\", \"size\": 2}, \"encoding\": {\"latitude\": {\"field\": \"latitude\", \"type\": \"quantitative\"}, \"longitude\": {\"field\": \"longitude\", \"type\": \"quantitative\"}}, \"height\": 400, \"projection\": {\"type\": \"albersUsa\"}, \"width\": 700, \"$schema\": \"https://vega.github.io/schema/vega-lite/v3.3.0.json\"};\n",
              "      var embedOpt = {\"mode\": \"vega-lite\"};\n",
              "\n",
              "      function showError(el, error){\n",
              "          el.innerHTML = ('<div class=\"error\" style=\"color:red;\">'\n",
              "                          + '<p>JavaScript Error: ' + error.message + '</p>'\n",
              "                          + \"<p>This usually means there's a typo in your chart specification. \"\n",
              "                          + \"See the javascript console for the full traceback.</p>\"\n",
              "                          + '</div>');\n",
              "          throw error;\n",
              "      }\n",
              "      const el = document.getElementById('altair-viz');\n",
              "      vegaEmbed(\"#altair-viz\", spec, embedOpt)\n",
              "        .catch(error => showError(el, error));\n",
              "\n",
              "  </script>\n",
              "</body>\n",
              "</html>"
            ]
          },
          "metadata": {
            "tags": []
          },
          "execution_count": 9
        }
      ]
    },
    {
      "cell_type": "markdown",
      "metadata": {
        "id": "lys5nY7TDmn9",
        "colab_type": "text"
      },
      "source": [
        "Can we see the large-scale division of the zipcodes? We can use the fact that the zipcodes are hierarchically organized. That is, the first digit captures the largest area divisions. \n",
        "\n",
        "Altair provides some data transformation functionalities. One of them is extracting a substring from a variable. "
      ]
    },
    {
      "cell_type": "code",
      "metadata": {
        "id": "xW61nQd1Dmn-",
        "colab_type": "code",
        "outputId": "a22c85c0-02f1-4952-d8a6-c16fdd2bd6e0",
        "colab": {
          "base_uri": "https://localhost:8080/",
          "height": 0
        }
      },
      "source": [
        "from altair.expr import datum, substring\n",
        "\n",
        "alt.Chart(zipcodes_url).mark_circle(size=2).transform_calculate(\n",
        "    'first_digit', substring(datum.zip_code, 0, 1)\n",
        ").encode(\n",
        "    longitude='longitude:Q',\n",
        "    latitude='latitude:Q',\n",
        "    color='first_digit:N',\n",
        ").project(\n",
        "    type='albersUsa'\n",
        ").properties(\n",
        "    width=700,\n",
        "    height=400,\n",
        ")"
      ],
      "execution_count": 10,
      "outputs": [
        {
          "output_type": "execute_result",
          "data": {
            "text/plain": [
              "Chart({\n",
              "  data: 'https://vega.github.io/vega-datasets/data/zipcodes.csv',\n",
              "  encoding: FacetedEncoding({\n",
              "    color: Color({\n",
              "      field: 'first_digit',\n",
              "      type: 'nominal'\n",
              "    }),\n",
              "    latitude: Latitude({\n",
              "      field: 'latitude',\n",
              "      type: 'quantitative'\n",
              "    }),\n",
              "    longitude: Longitude({\n",
              "      field: 'longitude',\n",
              "      type: 'quantitative'\n",
              "    })\n",
              "  }),\n",
              "  height: 400,\n",
              "  mark: MarkDef({\n",
              "    size: 2,\n",
              "    type: 'circle'\n",
              "  }),\n",
              "  projection: Projection({\n",
              "    type: 'albersUsa'\n",
              "  }),\n",
              "  transform: [CalculateTransform({\n",
              "    as: 'first_digit',\n",
              "    calculate: substring(datum.zip_code,0,1)\n",
              "  })],\n",
              "  width: 700\n",
              "})"
            ],
            "text/html": [
              "<!DOCTYPE html>\n",
              "<html>\n",
              "<head>\n",
              "  <style>\n",
              "    .vega-actions a {\n",
              "        margin-right: 12px;\n",
              "        color: #757575;\n",
              "        font-weight: normal;\n",
              "        font-size: 13px;\n",
              "    }\n",
              "    .error {\n",
              "        color: red;\n",
              "    }\n",
              "  </style>\n",
              "  <script type=\"text/javascript\" src=\"https://cdn.jsdelivr.net/npm//vega@5\"></script>\n",
              "  <script type=\"text/javascript\" src=\"https://cdn.jsdelivr.net/npm//vega-lite@3.3.0\"></script>\n",
              "  <script type=\"text/javascript\" src=\"https://cdn.jsdelivr.net/npm//vega-embed@4\"></script>\n",
              "</head>\n",
              "<body>\n",
              "  <div id=\"altair-viz\"></div>\n",
              "  <script>\n",
              "      var spec = {\"config\": {\"view\": {\"width\": 400, \"height\": 300}, \"mark\": {\"tooltip\": null}}, \"data\": {\"url\": \"https://vega.github.io/vega-datasets/data/zipcodes.csv\"}, \"mark\": {\"type\": \"circle\", \"size\": 2}, \"encoding\": {\"color\": {\"type\": \"nominal\", \"field\": \"first_digit\"}, \"latitude\": {\"field\": \"latitude\", \"type\": \"quantitative\"}, \"longitude\": {\"field\": \"longitude\", \"type\": \"quantitative\"}}, \"height\": 400, \"projection\": {\"type\": \"albersUsa\"}, \"transform\": [{\"calculate\": \"substring(datum.zip_code,0,1)\", \"as\": \"first_digit\"}], \"width\": 700, \"$schema\": \"https://vega.github.io/schema/vega-lite/v3.3.0.json\"};\n",
              "      var embedOpt = {\"mode\": \"vega-lite\"};\n",
              "\n",
              "      function showError(el, error){\n",
              "          el.innerHTML = ('<div class=\"error\" style=\"color:red;\">'\n",
              "                          + '<p>JavaScript Error: ' + error.message + '</p>'\n",
              "                          + \"<p>This usually means there's a typo in your chart specification. \"\n",
              "                          + \"See the javascript console for the full traceback.</p>\"\n",
              "                          + '</div>');\n",
              "          throw error;\n",
              "      }\n",
              "      const el = document.getElementById('altair-viz');\n",
              "      vegaEmbed(\"#altair-viz\", spec, embedOpt)\n",
              "        .catch(error => showError(el, error));\n",
              "\n",
              "  </script>\n",
              "</body>\n",
              "</html>"
            ]
          },
          "metadata": {
            "tags": []
          },
          "execution_count": 10
        }
      ]
    },
    {
      "cell_type": "markdown",
      "metadata": {
        "id": "xHGuGDbuDmoA",
        "colab_type": "text"
      },
      "source": [
        "For each row (`datum`), you obtain the `zip_code` variable and get the substring (imagine Python list slicing), and then you call the result `first_digit`. Now, you can use this `first_digit` variable to color the circles. Also note that we specify `first_digit` as a *nominal* variable, not quantitative, to obtain a categorical colormap. But we can also play with it too. \n",
        "\n",
        "**Q: Why don't you extract the first two digits, name it as `two_digits`, and declare that as a quantitative variable? Any interesting patterns?** "
      ]
    },
    {
      "cell_type": "code",
      "metadata": {
        "id": "i0uuL_HKDmoB",
        "colab_type": "code",
        "outputId": "433cba04-b35e-42e9-cf36-2b3fe69e10b4",
        "colab": {
          "base_uri": "https://localhost:8080/",
          "height": 0
        }
      },
      "source": [
        "# Implement\n",
        "alt.Chart(zipcodes_url).mark_circle(size=2).transform_calculate(\n",
        "    'two_digits', substring(datum.zip_code, 0, 2)\n",
        ").encode(\n",
        "    longitude='longitude:Q',\n",
        "    latitude='latitude:Q',\n",
        "    color='two_digits:N',\n",
        ").project(\n",
        "    type='albersUsa'\n",
        ").properties(\n",
        "    width=700,\n",
        "    height=400,\n",
        ")"
      ],
      "execution_count": 11,
      "outputs": [
        {
          "output_type": "execute_result",
          "data": {
            "text/plain": [
              "Chart({\n",
              "  data: 'https://vega.github.io/vega-datasets/data/zipcodes.csv',\n",
              "  encoding: FacetedEncoding({\n",
              "    color: Color({\n",
              "      field: 'two_digits',\n",
              "      type: 'nominal'\n",
              "    }),\n",
              "    latitude: Latitude({\n",
              "      field: 'latitude',\n",
              "      type: 'quantitative'\n",
              "    }),\n",
              "    longitude: Longitude({\n",
              "      field: 'longitude',\n",
              "      type: 'quantitative'\n",
              "    })\n",
              "  }),\n",
              "  height: 400,\n",
              "  mark: MarkDef({\n",
              "    size: 2,\n",
              "    type: 'circle'\n",
              "  }),\n",
              "  projection: Projection({\n",
              "    type: 'albersUsa'\n",
              "  }),\n",
              "  transform: [CalculateTransform({\n",
              "    as: 'two_digits',\n",
              "    calculate: substring(datum.zip_code,0,2)\n",
              "  })],\n",
              "  width: 700\n",
              "})"
            ],
            "text/html": [
              "<!DOCTYPE html>\n",
              "<html>\n",
              "<head>\n",
              "  <style>\n",
              "    .vega-actions a {\n",
              "        margin-right: 12px;\n",
              "        color: #757575;\n",
              "        font-weight: normal;\n",
              "        font-size: 13px;\n",
              "    }\n",
              "    .error {\n",
              "        color: red;\n",
              "    }\n",
              "  </style>\n",
              "  <script type=\"text/javascript\" src=\"https://cdn.jsdelivr.net/npm//vega@5\"></script>\n",
              "  <script type=\"text/javascript\" src=\"https://cdn.jsdelivr.net/npm//vega-lite@3.3.0\"></script>\n",
              "  <script type=\"text/javascript\" src=\"https://cdn.jsdelivr.net/npm//vega-embed@4\"></script>\n",
              "</head>\n",
              "<body>\n",
              "  <div id=\"altair-viz\"></div>\n",
              "  <script>\n",
              "      var spec = {\"config\": {\"view\": {\"width\": 400, \"height\": 300}, \"mark\": {\"tooltip\": null}}, \"data\": {\"url\": \"https://vega.github.io/vega-datasets/data/zipcodes.csv\"}, \"mark\": {\"type\": \"circle\", \"size\": 2}, \"encoding\": {\"color\": {\"type\": \"nominal\", \"field\": \"two_digits\"}, \"latitude\": {\"field\": \"latitude\", \"type\": \"quantitative\"}, \"longitude\": {\"field\": \"longitude\", \"type\": \"quantitative\"}}, \"height\": 400, \"projection\": {\"type\": \"albersUsa\"}, \"transform\": [{\"calculate\": \"substring(datum.zip_code,0,2)\", \"as\": \"two_digits\"}], \"width\": 700, \"$schema\": \"https://vega.github.io/schema/vega-lite/v3.3.0.json\"};\n",
              "      var embedOpt = {\"mode\": \"vega-lite\"};\n",
              "\n",
              "      function showError(el, error){\n",
              "          el.innerHTML = ('<div class=\"error\" style=\"color:red;\">'\n",
              "                          + '<p>JavaScript Error: ' + error.message + '</p>'\n",
              "                          + \"<p>This usually means there's a typo in your chart specification. \"\n",
              "                          + \"See the javascript console for the full traceback.</p>\"\n",
              "                          + '</div>');\n",
              "          throw error;\n",
              "      }\n",
              "      const el = document.getElementById('altair-viz');\n",
              "      vegaEmbed(\"#altair-viz\", spec, embedOpt)\n",
              "        .catch(error => showError(el, error));\n",
              "\n",
              "  </script>\n",
              "</body>\n",
              "</html>"
            ]
          },
          "metadata": {
            "tags": []
          },
          "execution_count": 11
        }
      ]
    },
    {
      "cell_type": "markdown",
      "metadata": {
        "id": "tI2uk514DmoE",
        "colab_type": "text"
      },
      "source": [
        "Btw, we can also put a tooltip. Also, you can always click \"view source\" or \"open in Vega Editor\" to look at the json object that **defines** this visualization. You can embed this json object on your webpage and easily put up an interactive visualization. "
      ]
    },
    {
      "cell_type": "code",
      "metadata": {
        "id": "odhSd31bDmoF",
        "colab_type": "code",
        "outputId": "bd593641-9a7d-4e88-e05a-c804dd24e34d",
        "colab": {
          "base_uri": "https://localhost:8080/",
          "height": 0
        }
      },
      "source": [
        "alt.Chart(zipcodes_url).mark_circle(size=2).transform_calculate(\n",
        "    'first_digit', substring(datum.zip_code, 0, 1)\n",
        ").encode(\n",
        "    longitude='longitude:Q',\n",
        "    latitude='latitude:Q',\n",
        "    color='first_digit:N',\n",
        "    tooltip='zip_code:N'\n",
        ").project(\n",
        "    type='albersUsa'\n",
        ").properties(\n",
        "    width=700,\n",
        "    height=400,\n",
        ")"
      ],
      "execution_count": 12,
      "outputs": [
        {
          "output_type": "execute_result",
          "data": {
            "text/plain": [
              "Chart({\n",
              "  data: 'https://vega.github.io/vega-datasets/data/zipcodes.csv',\n",
              "  encoding: FacetedEncoding({\n",
              "    color: Color({\n",
              "      field: 'first_digit',\n",
              "      type: 'nominal'\n",
              "    }),\n",
              "    latitude: Latitude({\n",
              "      field: 'latitude',\n",
              "      type: 'quantitative'\n",
              "    }),\n",
              "    longitude: Longitude({\n",
              "      field: 'longitude',\n",
              "      type: 'quantitative'\n",
              "    }),\n",
              "    tooltip: Tooltip({\n",
              "      field: 'zip_code',\n",
              "      type: 'nominal'\n",
              "    })\n",
              "  }),\n",
              "  height: 400,\n",
              "  mark: MarkDef({\n",
              "    size: 2,\n",
              "    type: 'circle'\n",
              "  }),\n",
              "  projection: Projection({\n",
              "    type: 'albersUsa'\n",
              "  }),\n",
              "  transform: [CalculateTransform({\n",
              "    as: 'first_digit',\n",
              "    calculate: substring(datum.zip_code,0,1)\n",
              "  })],\n",
              "  width: 700\n",
              "})"
            ],
            "text/html": [
              "<!DOCTYPE html>\n",
              "<html>\n",
              "<head>\n",
              "  <style>\n",
              "    .vega-actions a {\n",
              "        margin-right: 12px;\n",
              "        color: #757575;\n",
              "        font-weight: normal;\n",
              "        font-size: 13px;\n",
              "    }\n",
              "    .error {\n",
              "        color: red;\n",
              "    }\n",
              "  </style>\n",
              "  <script type=\"text/javascript\" src=\"https://cdn.jsdelivr.net/npm//vega@5\"></script>\n",
              "  <script type=\"text/javascript\" src=\"https://cdn.jsdelivr.net/npm//vega-lite@3.3.0\"></script>\n",
              "  <script type=\"text/javascript\" src=\"https://cdn.jsdelivr.net/npm//vega-embed@4\"></script>\n",
              "</head>\n",
              "<body>\n",
              "  <div id=\"altair-viz\"></div>\n",
              "  <script>\n",
              "      var spec = {\"config\": {\"view\": {\"width\": 400, \"height\": 300}, \"mark\": {\"tooltip\": null}}, \"data\": {\"url\": \"https://vega.github.io/vega-datasets/data/zipcodes.csv\"}, \"mark\": {\"type\": \"circle\", \"size\": 2}, \"encoding\": {\"color\": {\"type\": \"nominal\", \"field\": \"first_digit\"}, \"latitude\": {\"field\": \"latitude\", \"type\": \"quantitative\"}, \"longitude\": {\"field\": \"longitude\", \"type\": \"quantitative\"}, \"tooltip\": {\"type\": \"nominal\", \"field\": \"zip_code\"}}, \"height\": 400, \"projection\": {\"type\": \"albersUsa\"}, \"transform\": [{\"calculate\": \"substring(datum.zip_code,0,1)\", \"as\": \"first_digit\"}], \"width\": 700, \"$schema\": \"https://vega.github.io/schema/vega-lite/v3.3.0.json\"};\n",
              "      var embedOpt = {\"mode\": \"vega-lite\"};\n",
              "\n",
              "      function showError(el, error){\n",
              "          el.innerHTML = ('<div class=\"error\" style=\"color:red;\">'\n",
              "                          + '<p>JavaScript Error: ' + error.message + '</p>'\n",
              "                          + \"<p>This usually means there's a typo in your chart specification. \"\n",
              "                          + \"See the javascript console for the full traceback.</p>\"\n",
              "                          + '</div>');\n",
              "          throw error;\n",
              "      }\n",
              "      const el = document.getElementById('altair-viz');\n",
              "      vegaEmbed(\"#altair-viz\", spec, embedOpt)\n",
              "        .catch(error => showError(el, error));\n",
              "\n",
              "  </script>\n",
              "</body>\n",
              "</html>"
            ]
          },
          "metadata": {
            "tags": []
          },
          "execution_count": 12
        }
      ]
    },
    {
      "cell_type": "markdown",
      "metadata": {
        "id": "tNQHXiCADmoJ",
        "colab_type": "text"
      },
      "source": [
        "## Choropleth \n",
        "\n",
        "Let's try some choropleth now. Vega datasets have US county / state boundary data (`us_10m`) and world country boundary data (`world-110m`). You can take a look at the boundaries on GitHub (they renders topoJSON files):\n",
        "\n",
        "- https://github.com/vega/vega-datasets/blob/gh-pages/data/us-10m.json\n",
        "- https://github.com/vega/vega-datasets/blob/gh-pages/data/world-110m.json\n",
        "\n",
        "If you click \"Raw\" then you can take a look at the actual file, which is hard to read. \n",
        "\n",
        "Essentially, each file is a large dictionary with the following keys. "
      ]
    },
    {
      "cell_type": "code",
      "metadata": {
        "id": "n05m9lkWDmoK",
        "colab_type": "code",
        "outputId": "1affa0c1-1139-450f-ff32-aa48d63e4714",
        "colab": {
          "base_uri": "https://localhost:8080/",
          "height": 34
        }
      },
      "source": [
        "usmap = data.us_10m()\n",
        "usmap.keys()"
      ],
      "execution_count": 13,
      "outputs": [
        {
          "output_type": "execute_result",
          "data": {
            "text/plain": [
              "dict_keys(['type', 'transform', 'objects', 'arcs'])"
            ]
          },
          "metadata": {
            "tags": []
          },
          "execution_count": 13
        }
      ]
    },
    {
      "cell_type": "code",
      "metadata": {
        "id": "i3bc6BPlDmoO",
        "colab_type": "code",
        "outputId": "113791a9-6397-4be6-844e-d3e5372901be",
        "colab": {
          "base_uri": "https://localhost:8080/",
          "height": 34
        }
      },
      "source": [
        "usmap['type']"
      ],
      "execution_count": 14,
      "outputs": [
        {
          "output_type": "execute_result",
          "data": {
            "text/plain": [
              "'Topology'"
            ]
          },
          "metadata": {
            "tags": []
          },
          "execution_count": 14
        }
      ]
    },
    {
      "cell_type": "code",
      "metadata": {
        "id": "5tDodD1MDmoT",
        "colab_type": "code",
        "outputId": "86883113-4ff1-48a3-a329-3bac6e656176",
        "colab": {
          "base_uri": "https://localhost:8080/",
          "height": 51
        }
      },
      "source": [
        "usmap['transform']"
      ],
      "execution_count": 15,
      "outputs": [
        {
          "output_type": "execute_result",
          "data": {
            "text/plain": [
              "{'scale': [0.003589294092944858, 0.0005371535195261037],\n",
              " 'translate': [-179.1473400003406, 17.67439566600018]}"
            ]
          },
          "metadata": {
            "tags": []
          },
          "execution_count": 15
        }
      ]
    },
    {
      "cell_type": "markdown",
      "metadata": {
        "id": "UN4dUSCMDmob",
        "colab_type": "text"
      },
      "source": [
        "This `transformation` is used to *quantize* the data and store the coordinates in integer (easier to store than float type numbers). \n",
        "\n",
        "https://github.com/topojson/topojson-specification#212-transforms"
      ]
    },
    {
      "cell_type": "code",
      "metadata": {
        "id": "prils08YDmoc",
        "colab_type": "code",
        "outputId": "6446f942-d9c1-4b62-a082-e9fd14d0c421",
        "colab": {
          "base_uri": "https://localhost:8080/",
          "height": 34
        }
      },
      "source": [
        "usmap['objects'].keys()"
      ],
      "execution_count": 16,
      "outputs": [
        {
          "output_type": "execute_result",
          "data": {
            "text/plain": [
              "dict_keys(['counties', 'states', 'land'])"
            ]
          },
          "metadata": {
            "tags": []
          },
          "execution_count": 16
        }
      ]
    },
    {
      "cell_type": "markdown",
      "metadata": {
        "id": "OIvWqbgwDmoe",
        "colab_type": "text"
      },
      "source": [
        "This data contains not only county-level boundaries (objects) but also states and land boundaries. "
      ]
    },
    {
      "cell_type": "code",
      "metadata": {
        "id": "x6PuIX2uDmof",
        "colab_type": "code",
        "outputId": "e9925649-c70e-492f-ff75-3aec0d1c88c2",
        "colab": {
          "base_uri": "https://localhost:8080/",
          "height": 34
        }
      },
      "source": [
        "usmap['objects']['land']['type'], usmap['objects']['states']['type'], usmap['objects']['counties']['type']"
      ],
      "execution_count": 17,
      "outputs": [
        {
          "output_type": "execute_result",
          "data": {
            "text/plain": [
              "('MultiPolygon', 'GeometryCollection', 'GeometryCollection')"
            ]
          },
          "metadata": {
            "tags": []
          },
          "execution_count": 17
        }
      ]
    },
    {
      "cell_type": "markdown",
      "metadata": {
        "id": "_IFk5PLDDmoi",
        "colab_type": "text"
      },
      "source": [
        "`land` is a multipolygon (one object) and `states` and `counties` contains many geometrics (multipolygons) because there are many states (counties). We can look at a state as a set of arcs that define it. It's `id` captures the identity of the state and is the key to link to other datasets. "
      ]
    },
    {
      "cell_type": "code",
      "metadata": {
        "id": "e64BEfvSDmoi",
        "colab_type": "code",
        "outputId": "4ffa0da3-ac0c-444d-90a5-b799e759fb98",
        "colab": {
          "base_uri": "https://localhost:8080/",
          "height": 187
        }
      },
      "source": [
        "state1 = usmap['objects']['states']['geometries'][1]\n",
        "state1"
      ],
      "execution_count": 18,
      "outputs": [
        {
          "output_type": "execute_result",
          "data": {
            "text/plain": [
              "{'arcs': [[[10337]],\n",
              "  [[10342]],\n",
              "  [[10341]],\n",
              "  [[10343]],\n",
              "  [[10834, 10340]],\n",
              "  [[10344]],\n",
              "  [[10345]],\n",
              "  [[10338]]],\n",
              " 'id': 15,\n",
              " 'type': 'MultiPolygon'}"
            ]
          },
          "metadata": {
            "tags": []
          },
          "execution_count": 18
        }
      ]
    },
    {
      "cell_type": "markdown",
      "metadata": {
        "id": "VA1zOFhdDmol",
        "colab_type": "text"
      },
      "source": [
        "The `arcs` referred here is defined in `usmap['arcs']`. "
      ]
    },
    {
      "cell_type": "code",
      "metadata": {
        "id": "ckVBLO6RDmom",
        "colab_type": "code",
        "outputId": "d1036029-7de3-4832-8bb2-40cc8faa302a",
        "colab": {
          "base_uri": "https://localhost:8080/",
          "height": 187
        }
      },
      "source": [
        "usmap['arcs'][:10]"
      ],
      "execution_count": 19,
      "outputs": [
        {
          "output_type": "execute_result",
          "data": {
            "text/plain": [
              "[[[15739, 57220], [0, 0]],\n",
              " [[15739, 57220], [29, 62], [47, -273]],\n",
              " [[15815, 57009], [-6, -86]],\n",
              " [[15809, 56923], [0, 0]],\n",
              " [[15809, 56923], [-36, -8], [6, -210], [32, 178]],\n",
              " [[15811, 56883], [9, -194], [44, -176], [-29, -151], [-24, -319]],\n",
              " [[15811, 56043], [-12, -216], [26, -171]],\n",
              " [[15825, 55656], [-2, 1]],\n",
              " [[15823, 55657], [-19, 10], [26, -424], [-26, -52]],\n",
              " [[15804, 55191], [-30, -72], [-47, -344]]]"
            ]
          },
          "metadata": {
            "tags": []
          },
          "execution_count": 19
        }
      ]
    },
    {
      "cell_type": "markdown",
      "metadata": {
        "id": "qnbXsqLGDmoo",
        "colab_type": "text"
      },
      "source": [
        "It seems pretty daunting to work with this dataset, right? But fortunately people have already built tools to handle such data. "
      ]
    },
    {
      "cell_type": "code",
      "metadata": {
        "id": "N9krYpfgDmoo",
        "colab_type": "code",
        "colab": {}
      },
      "source": [
        "states = alt.topo_feature(data.us_10m.url, 'states')"
      ],
      "execution_count": 0,
      "outputs": []
    },
    {
      "cell_type": "code",
      "metadata": {
        "id": "xRE13ycqDmoq",
        "colab_type": "code",
        "outputId": "39cabbcc-3597-45d9-9f1b-e3e07807e0db",
        "colab": {
          "base_uri": "https://localhost:8080/",
          "height": 136
        }
      },
      "source": [
        "states"
      ],
      "execution_count": 21,
      "outputs": [
        {
          "output_type": "execute_result",
          "data": {
            "text/plain": [
              "UrlData({\n",
              "  format: TopoDataFormat({\n",
              "    feature: 'states',\n",
              "    type: 'topojson'\n",
              "  }),\n",
              "  url: 'https://vega.github.io/vega-datasets/data/us-10m.json'\n",
              "})"
            ]
          },
          "metadata": {
            "tags": []
          },
          "execution_count": 21
        }
      ]
    },
    {
      "cell_type": "code",
      "metadata": {
        "id": "VxVJYvCuDmos",
        "colab_type": "code",
        "outputId": "86d61539-0778-449b-a60e-fb07a43a872e",
        "colab": {
          "base_uri": "https://localhost:8080/",
          "height": 331
        }
      },
      "source": [
        "alt.Chart(states).mark_geoshape().properties(\n",
        "    width=500,\n",
        "    height=300\n",
        ")"
      ],
      "execution_count": 22,
      "outputs": [
        {
          "output_type": "execute_result",
          "data": {
            "text/plain": [
              "Chart({\n",
              "  data: UrlData({\n",
              "    format: TopoDataFormat({\n",
              "      feature: 'states',\n",
              "      type: 'topojson'\n",
              "    }),\n",
              "    url: 'https://vega.github.io/vega-datasets/data/us-10m.json'\n",
              "  }),\n",
              "  height: 300,\n",
              "  mark: 'geoshape',\n",
              "  width: 500\n",
              "})"
            ],
            "text/html": [
              "<!DOCTYPE html>\n",
              "<html>\n",
              "<head>\n",
              "  <style>\n",
              "    .vega-actions a {\n",
              "        margin-right: 12px;\n",
              "        color: #757575;\n",
              "        font-weight: normal;\n",
              "        font-size: 13px;\n",
              "    }\n",
              "    .error {\n",
              "        color: red;\n",
              "    }\n",
              "  </style>\n",
              "  <script type=\"text/javascript\" src=\"https://cdn.jsdelivr.net/npm//vega@5\"></script>\n",
              "  <script type=\"text/javascript\" src=\"https://cdn.jsdelivr.net/npm//vega-lite@3.3.0\"></script>\n",
              "  <script type=\"text/javascript\" src=\"https://cdn.jsdelivr.net/npm//vega-embed@4\"></script>\n",
              "</head>\n",
              "<body>\n",
              "  <div id=\"altair-viz\"></div>\n",
              "  <script>\n",
              "      var spec = {\"config\": {\"view\": {\"width\": 400, \"height\": 300}, \"mark\": {\"tooltip\": null}}, \"data\": {\"url\": \"https://vega.github.io/vega-datasets/data/us-10m.json\", \"format\": {\"feature\": \"states\", \"type\": \"topojson\"}}, \"mark\": \"geoshape\", \"height\": 300, \"width\": 500, \"$schema\": \"https://vega.github.io/schema/vega-lite/v3.3.0.json\"};\n",
              "      var embedOpt = {\"mode\": \"vega-lite\"};\n",
              "\n",
              "      function showError(el, error){\n",
              "          el.innerHTML = ('<div class=\"error\" style=\"color:red;\">'\n",
              "                          + '<p>JavaScript Error: ' + error.message + '</p>'\n",
              "                          + \"<p>This usually means there's a typo in your chart specification. \"\n",
              "                          + \"See the javascript console for the full traceback.</p>\"\n",
              "                          + '</div>');\n",
              "          throw error;\n",
              "      }\n",
              "      const el = document.getElementById('altair-viz');\n",
              "      vegaEmbed(\"#altair-viz\", spec, embedOpt)\n",
              "        .catch(error => showError(el, error));\n",
              "\n",
              "  </script>\n",
              "</body>\n",
              "</html>"
            ]
          },
          "metadata": {
            "tags": []
          },
          "execution_count": 22
        }
      ]
    },
    {
      "cell_type": "markdown",
      "metadata": {
        "id": "WkQba4srDmou",
        "colab_type": "text"
      },
      "source": [
        "We have a map of US states. :) Can you use AlbersUSA projection on this? "
      ]
    },
    {
      "cell_type": "code",
      "metadata": {
        "id": "imCnuWjiDmov",
        "colab_type": "code",
        "outputId": "9153bcf4-6271-415a-908a-8d142d1ab247",
        "colab": {
          "base_uri": "https://localhost:8080/",
          "height": 431
        }
      },
      "source": [
        "# Implement\n",
        "alt.Chart(states).mark_geoshape(size=2).encode(\n",
        "    longitude='longitude:Q',\n",
        "    latitude='latitude:Q',\n",
        ").project(\n",
        "    type='albersUsa'\n",
        ").properties(\n",
        "    width=700,\n",
        "    height=400,\n",
        ")"
      ],
      "execution_count": 23,
      "outputs": [
        {
          "output_type": "execute_result",
          "data": {
            "text/plain": [
              "Chart({\n",
              "  data: UrlData({\n",
              "    format: TopoDataFormat({\n",
              "      feature: 'states',\n",
              "      type: 'topojson'\n",
              "    }),\n",
              "    url: 'https://vega.github.io/vega-datasets/data/us-10m.json'\n",
              "  }),\n",
              "  encoding: FacetedEncoding({\n",
              "    latitude: Latitude({\n",
              "      field: 'latitude',\n",
              "      type: 'quantitative'\n",
              "    }),\n",
              "    longitude: Longitude({\n",
              "      field: 'longitude',\n",
              "      type: 'quantitative'\n",
              "    })\n",
              "  }),\n",
              "  height: 400,\n",
              "  mark: MarkDef({\n",
              "    size: 2,\n",
              "    type: 'geoshape'\n",
              "  }),\n",
              "  projection: Projection({\n",
              "    type: 'albersUsa'\n",
              "  }),\n",
              "  width: 700\n",
              "})"
            ],
            "text/html": [
              "<!DOCTYPE html>\n",
              "<html>\n",
              "<head>\n",
              "  <style>\n",
              "    .vega-actions a {\n",
              "        margin-right: 12px;\n",
              "        color: #757575;\n",
              "        font-weight: normal;\n",
              "        font-size: 13px;\n",
              "    }\n",
              "    .error {\n",
              "        color: red;\n",
              "    }\n",
              "  </style>\n",
              "  <script type=\"text/javascript\" src=\"https://cdn.jsdelivr.net/npm//vega@5\"></script>\n",
              "  <script type=\"text/javascript\" src=\"https://cdn.jsdelivr.net/npm//vega-lite@3.3.0\"></script>\n",
              "  <script type=\"text/javascript\" src=\"https://cdn.jsdelivr.net/npm//vega-embed@4\"></script>\n",
              "</head>\n",
              "<body>\n",
              "  <div id=\"altair-viz\"></div>\n",
              "  <script>\n",
              "      var spec = {\"config\": {\"view\": {\"width\": 400, \"height\": 300}, \"mark\": {\"tooltip\": null}}, \"data\": {\"url\": \"https://vega.github.io/vega-datasets/data/us-10m.json\", \"format\": {\"feature\": \"states\", \"type\": \"topojson\"}}, \"mark\": {\"type\": \"geoshape\", \"size\": 2}, \"encoding\": {\"latitude\": {\"field\": \"latitude\", \"type\": \"quantitative\"}, \"longitude\": {\"field\": \"longitude\", \"type\": \"quantitative\"}}, \"height\": 400, \"projection\": {\"type\": \"albersUsa\"}, \"width\": 700, \"$schema\": \"https://vega.github.io/schema/vega-lite/v3.3.0.json\"};\n",
              "      var embedOpt = {\"mode\": \"vega-lite\"};\n",
              "\n",
              "      function showError(el, error){\n",
              "          el.innerHTML = ('<div class=\"error\" style=\"color:red;\">'\n",
              "                          + '<p>JavaScript Error: ' + error.message + '</p>'\n",
              "                          + \"<p>This usually means there's a typo in your chart specification. \"\n",
              "                          + \"See the javascript console for the full traceback.</p>\"\n",
              "                          + '</div>');\n",
              "          throw error;\n",
              "      }\n",
              "      const el = document.getElementById('altair-viz');\n",
              "      vegaEmbed(\"#altair-viz\", spec, embedOpt)\n",
              "        .catch(error => showError(el, error));\n",
              "\n",
              "  </script>\n",
              "</body>\n",
              "</html>"
            ]
          },
          "metadata": {
            "tags": []
          },
          "execution_count": 23
        }
      ]
    },
    {
      "cell_type": "markdown",
      "metadata": {
        "id": "fN4w3yEtDmox",
        "colab_type": "text"
      },
      "source": [
        "Can you do the same thing with counties and draw county boundaries?"
      ]
    },
    {
      "cell_type": "code",
      "metadata": {
        "id": "n_9-VV8MDmoy",
        "colab_type": "code",
        "outputId": "25b41989-3b34-4821-ab44-b027be4c35fb",
        "colab": {
          "base_uri": "https://localhost:8080/",
          "height": 432
        }
      },
      "source": [
        "# Implement\n",
        "counties = alt.topo_feature(data.us_10m.url, 'counties')\n",
        "alt.Chart(counties).mark_geoshape(size=2).encode(\n",
        "    longitude='longitude:Q',\n",
        "    latitude='latitude:Q',\n",
        ").project(\n",
        "    type='albersUsa'\n",
        ").properties(\n",
        "    width=700,\n",
        "    height=400,\n",
        ")"
      ],
      "execution_count": 24,
      "outputs": [
        {
          "output_type": "execute_result",
          "data": {
            "text/plain": [
              "Chart({\n",
              "  data: UrlData({\n",
              "    format: TopoDataFormat({\n",
              "      feature: 'counties',\n",
              "      type: 'topojson'\n",
              "    }),\n",
              "    url: 'https://vega.github.io/vega-datasets/data/us-10m.json'\n",
              "  }),\n",
              "  encoding: FacetedEncoding({\n",
              "    latitude: Latitude({\n",
              "      field: 'latitude',\n",
              "      type: 'quantitative'\n",
              "    }),\n",
              "    longitude: Longitude({\n",
              "      field: 'longitude',\n",
              "      type: 'quantitative'\n",
              "    })\n",
              "  }),\n",
              "  height: 400,\n",
              "  mark: MarkDef({\n",
              "    size: 2,\n",
              "    type: 'geoshape'\n",
              "  }),\n",
              "  projection: Projection({\n",
              "    type: 'albersUsa'\n",
              "  }),\n",
              "  width: 700\n",
              "})"
            ],
            "text/html": [
              "<!DOCTYPE html>\n",
              "<html>\n",
              "<head>\n",
              "  <style>\n",
              "    .vega-actions a {\n",
              "        margin-right: 12px;\n",
              "        color: #757575;\n",
              "        font-weight: normal;\n",
              "        font-size: 13px;\n",
              "    }\n",
              "    .error {\n",
              "        color: red;\n",
              "    }\n",
              "  </style>\n",
              "  <script type=\"text/javascript\" src=\"https://cdn.jsdelivr.net/npm//vega@5\"></script>\n",
              "  <script type=\"text/javascript\" src=\"https://cdn.jsdelivr.net/npm//vega-lite@3.3.0\"></script>\n",
              "  <script type=\"text/javascript\" src=\"https://cdn.jsdelivr.net/npm//vega-embed@4\"></script>\n",
              "</head>\n",
              "<body>\n",
              "  <div id=\"altair-viz\"></div>\n",
              "  <script>\n",
              "      var spec = {\"config\": {\"view\": {\"width\": 400, \"height\": 300}, \"mark\": {\"tooltip\": null}}, \"data\": {\"url\": \"https://vega.github.io/vega-datasets/data/us-10m.json\", \"format\": {\"feature\": \"counties\", \"type\": \"topojson\"}}, \"mark\": {\"type\": \"geoshape\", \"size\": 2}, \"encoding\": {\"latitude\": {\"field\": \"latitude\", \"type\": \"quantitative\"}, \"longitude\": {\"field\": \"longitude\", \"type\": \"quantitative\"}}, \"height\": 400, \"projection\": {\"type\": \"albersUsa\"}, \"width\": 700, \"$schema\": \"https://vega.github.io/schema/vega-lite/v3.3.0.json\"};\n",
              "      var embedOpt = {\"mode\": \"vega-lite\"};\n",
              "\n",
              "      function showError(el, error){\n",
              "          el.innerHTML = ('<div class=\"error\" style=\"color:red;\">'\n",
              "                          + '<p>JavaScript Error: ' + error.message + '</p>'\n",
              "                          + \"<p>This usually means there's a typo in your chart specification. \"\n",
              "                          + \"See the javascript console for the full traceback.</p>\"\n",
              "                          + '</div>');\n",
              "          throw error;\n",
              "      }\n",
              "      const el = document.getElementById('altair-viz');\n",
              "      vegaEmbed(\"#altair-viz\", spec, embedOpt)\n",
              "        .catch(error => showError(el, error));\n",
              "\n",
              "  </script>\n",
              "</body>\n",
              "</html>"
            ]
          },
          "metadata": {
            "tags": []
          },
          "execution_count": 24
        }
      ]
    },
    {
      "cell_type": "markdown",
      "metadata": {
        "id": "DGLmo2BIDmo2",
        "colab_type": "text"
      },
      "source": [
        "Let's load some county-level unemployment data. "
      ]
    },
    {
      "cell_type": "code",
      "metadata": {
        "id": "jmYi57qPDmo2",
        "colab_type": "code",
        "outputId": "bd63fdb9-c735-4f49-f8a2-f699815623ee",
        "colab": {
          "base_uri": "https://localhost:8080/",
          "height": 204
        }
      },
      "source": [
        "unemp_data = data.unemployment(sep='\\t')\n",
        "unemp_data.head()"
      ],
      "execution_count": 25,
      "outputs": [
        {
          "output_type": "execute_result",
          "data": {
            "text/html": [
              "<div>\n",
              "<style scoped>\n",
              "    .dataframe tbody tr th:only-of-type {\n",
              "        vertical-align: middle;\n",
              "    }\n",
              "\n",
              "    .dataframe tbody tr th {\n",
              "        vertical-align: top;\n",
              "    }\n",
              "\n",
              "    .dataframe thead th {\n",
              "        text-align: right;\n",
              "    }\n",
              "</style>\n",
              "<table border=\"1\" class=\"dataframe\">\n",
              "  <thead>\n",
              "    <tr style=\"text-align: right;\">\n",
              "      <th></th>\n",
              "      <th>id</th>\n",
              "      <th>rate</th>\n",
              "    </tr>\n",
              "  </thead>\n",
              "  <tbody>\n",
              "    <tr>\n",
              "      <th>0</th>\n",
              "      <td>1001</td>\n",
              "      <td>0.097</td>\n",
              "    </tr>\n",
              "    <tr>\n",
              "      <th>1</th>\n",
              "      <td>1003</td>\n",
              "      <td>0.091</td>\n",
              "    </tr>\n",
              "    <tr>\n",
              "      <th>2</th>\n",
              "      <td>1005</td>\n",
              "      <td>0.134</td>\n",
              "    </tr>\n",
              "    <tr>\n",
              "      <th>3</th>\n",
              "      <td>1007</td>\n",
              "      <td>0.121</td>\n",
              "    </tr>\n",
              "    <tr>\n",
              "      <th>4</th>\n",
              "      <td>1009</td>\n",
              "      <td>0.099</td>\n",
              "    </tr>\n",
              "  </tbody>\n",
              "</table>\n",
              "</div>"
            ],
            "text/plain": [
              "     id   rate\n",
              "0  1001  0.097\n",
              "1  1003  0.091\n",
              "2  1005  0.134\n",
              "3  1007  0.121\n",
              "4  1009  0.099"
            ]
          },
          "metadata": {
            "tags": []
          },
          "execution_count": 25
        }
      ]
    },
    {
      "cell_type": "markdown",
      "metadata": {
        "id": "gAFBytNpDmo4",
        "colab_type": "text"
      },
      "source": [
        "This dataset has unemployment rate. When? I don't know. We don't care about data provenance here because the goal is quickly trying out choropleth. But if you're working with a real dataset, you should be very sensitive about the provenance of your dataset. Make sure you understand where the data came from and how it was processed. \n",
        "\n",
        "Anyway, for each county specified with `id`. To combine two datasets, we use \"Lookup transform\" - https://vega.github.io/vega/docs/transforms/lookup/. Essentially, we use the `id` in the map data to look up (again) `id` field in the `unemp_data` and then bring in the `rate` variable. Then, we can use that `rate` variable to encode the color of the `geoshape` mark. "
      ]
    },
    {
      "cell_type": "code",
      "metadata": {
        "id": "10UqgDe8Dmo5",
        "colab_type": "code",
        "outputId": "0f19e4b0-4726-4119-f283-52e3f3be35b5",
        "colab": {
          "base_uri": "https://localhost:8080/",
          "height": 136
        }
      },
      "source": [
        "us_counties = alt.topo_feature(data.us_10m.url, 'counties')\n",
        "\n",
        "alt.Chart(us_counties).mark_geoshape().project(\n",
        "    type='albersUsa'\n",
        ").transform_lookup(\n",
        "    lookup='id',\n",
        "    from_=alt.LookupData(unemp_data, 'id', ['rate'])\n",
        ").encode(\n",
        "    color='rate:Q'\n",
        ").properties(\n",
        "    width=700,\n",
        "    height=400\n",
        ")\n",
        "print(us_counties)"
      ],
      "execution_count": 26,
      "outputs": [
        {
          "output_type": "stream",
          "text": [
            "UrlData({\n",
            "  format: TopoDataFormat({\n",
            "    feature: 'counties',\n",
            "    type: 'topojson'\n",
            "  }),\n",
            "  url: 'https://vega.github.io/vega-datasets/data/us-10m.json'\n",
            "})\n"
          ],
          "name": "stdout"
        }
      ]
    },
    {
      "cell_type": "markdown",
      "metadata": {
        "id": "xveUdzMvDmo8",
        "colab_type": "text"
      },
      "source": [
        "There you have it, a basic choropleth map. 😎 \n"
      ]
    },
    {
      "cell_type": "markdown",
      "metadata": {
        "id": "t62N0vucDmo9",
        "colab_type": "text"
      },
      "source": [
        "## Raster visualization with datashader\n",
        "\n",
        "Although many geovisualizations use vector graphics, raster visualization is still useful especially when you deal with images and lots of datapoints. Datashader is a package that aggregates and visualizes a large amount of data very quickly. Given a *scene* (visualization boundary, resolution, etc.), it quickly aggregate the data and produce **pixels** and send them to you. \n",
        "\n",
        "To appreciate its power, we need a fairly large dataset. Let's use NYC taxi trip dataset on Kaggle: https://www.kaggle.com/kentonnlp/2014-new-york-city-taxi-trips You can download even bigger trip data from NYC open data website: https://opendata.cityofnewyork.us/data/\n",
        "\n",
        "Ah, and you want to install the datashader, bokeh, and holoviews first if you don't have them yet.  \n",
        "\n",
        "    pip install datashader bokeh holoviews\n",
        "\n",
        "or \n",
        "\n",
        "    conda install datashader bokeh holoviews\n",
        "    "
      ]
    },
    {
      "cell_type": "code",
      "metadata": {
        "id": "eFU4ZrPcDmo9",
        "colab_type": "code",
        "colab": {}
      },
      "source": [
        "!pip install datashader bokeh holoviews\n",
        "\n",
        "import pandas as pd\n",
        "import datashader as ds\n",
        "from datashader import transfer_functions as tf\n",
        "from colorcet import fire\n"
      ],
      "execution_count": 0,
      "outputs": []
    },
    {
      "cell_type": "markdown",
      "metadata": {
        "id": "Cq5NLB3rDmo_",
        "colab_type": "text"
      },
      "source": [
        "Because the dataset is pretty big, let's use a small sample first. For this visualization, we only keep the dropoff location. "
      ]
    },
    {
      "cell_type": "code",
      "metadata": {
        "id": "qVszL21UDmo_",
        "colab_type": "code",
        "colab": {
          "base_uri": "https://localhost:8080/",
          "height": 204
        },
        "outputId": "d07547b3-d410-44f4-b494-090e20a2f7bd"
      },
      "source": [
        "nyctaxi = pd.read_csv('/content/drive/My Drive/nyc_taxi_data_2014.csv', nrows=10000, usecols=['dropoff_longitude', 'dropoff_latitude'])\n",
        "nyctaxi.head()"
      ],
      "execution_count": 32,
      "outputs": [
        {
          "output_type": "execute_result",
          "data": {
            "text/html": [
              "<div>\n",
              "<style scoped>\n",
              "    .dataframe tbody tr th:only-of-type {\n",
              "        vertical-align: middle;\n",
              "    }\n",
              "\n",
              "    .dataframe tbody tr th {\n",
              "        vertical-align: top;\n",
              "    }\n",
              "\n",
              "    .dataframe thead th {\n",
              "        text-align: right;\n",
              "    }\n",
              "</style>\n",
              "<table border=\"1\" class=\"dataframe\">\n",
              "  <thead>\n",
              "    <tr style=\"text-align: right;\">\n",
              "      <th></th>\n",
              "      <th>dropoff_longitude</th>\n",
              "      <th>dropoff_latitude</th>\n",
              "    </tr>\n",
              "  </thead>\n",
              "  <tbody>\n",
              "    <tr>\n",
              "      <th>0</th>\n",
              "      <td>-73.982227</td>\n",
              "      <td>40.731790</td>\n",
              "    </tr>\n",
              "    <tr>\n",
              "      <th>1</th>\n",
              "      <td>-73.960449</td>\n",
              "      <td>40.763995</td>\n",
              "    </tr>\n",
              "    <tr>\n",
              "      <th>2</th>\n",
              "      <td>-73.986626</td>\n",
              "      <td>40.765217</td>\n",
              "    </tr>\n",
              "    <tr>\n",
              "      <th>3</th>\n",
              "      <td>-73.979863</td>\n",
              "      <td>40.777050</td>\n",
              "    </tr>\n",
              "    <tr>\n",
              "      <th>4</th>\n",
              "      <td>-73.984367</td>\n",
              "      <td>40.720524</td>\n",
              "    </tr>\n",
              "  </tbody>\n",
              "</table>\n",
              "</div>"
            ],
            "text/plain": [
              "   dropoff_longitude  dropoff_latitude\n",
              "0         -73.982227         40.731790\n",
              "1         -73.960449         40.763995\n",
              "2         -73.986626         40.765217\n",
              "3         -73.979863         40.777050\n",
              "4         -73.984367         40.720524"
            ]
          },
          "metadata": {
            "tags": []
          },
          "execution_count": 32
        }
      ]
    },
    {
      "cell_type": "markdown",
      "metadata": {
        "id": "5yUxPHEgDmpE",
        "colab_type": "text"
      },
      "source": [
        "Although the dataset is different, we can still follow the example here: http://datashader.org/getting_started/1_Introduction.html"
      ]
    },
    {
      "cell_type": "code",
      "metadata": {
        "id": "n2nzSb89DmpE",
        "colab_type": "code",
        "colab": {
          "base_uri": "https://localhost:8080/",
          "height": 623
        },
        "outputId": "7c41667b-33b5-415d-de00-44881b7bca32"
      },
      "source": [
        "agg = ds.Canvas().points(nyctaxi, 'dropoff_longitude', 'dropoff_latitude')\n",
        "tf.set_background(tf.shade(agg, cmap=fire),\"black\")"
      ],
      "execution_count": 44,
      "outputs": [
        {
          "output_type": "execute_result",
          "data": {
            "image/png": "[encoded data removed]",
            "text/html": [
              "<img style=\"margin: auto; border:1px solid\" src='data:image/png;base64,iVBORw0KGgoAAAANSUhEUgAAAlgAAAJYCAYAAAC+ZpjcAAALM0lEQVR4nO3bMUpcURSA4eOgIKZ1AQkuIGVWYBNIm91oYWXtArIAG7eRHdjG2lLSBJKxGBEmNoI/PBy+r3lwq1P+3HPf3sysBwCAzOr/g+9LTAEAsEO2Auv3ycztUpMAAOyIrcA6ulrNxcFSowAA7IbnwFr/+jDz9e98O92sCS9eLA8BAHiN/ZmZm4OZuf8zc/x5Vp9mrmfm+t+ygwEAvFd78/QX4c/DmS9nM3eXMx8fFp4KAOAdew6smc1a8NzNFQDAm2wFFgAAb+cpOwBATGABAMQEFgBATGABAMQEFgBATGABAMQEFgBATGABAMQEFgBATGABAMQEFgBATGABAMQEFgBATGABAMQEFgBATGABAMQEFgBATGABAMQEFgBATGABAMQEFgBATGABAMQEFgBATGABAMQEFgBATGABAMQEFgBATGABAMQEFgBATGABAMQEFgBATGABAMQEFgBATGABAMQEFgBATGABAMQEFgBATGABAMQEFgBATGABAMQEFgBATGABAMQEFgBATGABAMQEFgBATGABAMQEFgBATGABAMQEFgBATGABAMQEFgBATGABAMQEFgBATGABAMQEFgBATGABAMQEFgBATGABAMQEFgBATGABAMQEFgBATGABAMQEFgBATGABAMQEFgBATGABAMQEFgBATGABAMQEFgBATGABAMQEFgBATGABAMQEFgBATGABAMQEFgBATGABAMQEFgBATGABAMQEFgBATGABAMQEFgBATGABAMQEFgBATGABAMQEFgBATGABAMQEFgBATGABAMQEFgBATGABAMQEFgBATGABAMQEFgBATGABAMQEFgBATGABAMQEFgBATGABAMQEFgBATGABAMQEFgBATGABAMQEFgBATGABAMQEFgBATGABAMQEFgBATGABAMQEFgBATGABAMQEFgBATGABAMQEFgBATGABAMQEFgBATGABAMQEFgBATGABAMQEFgBATGABAMQEFgBATGABAMQEFgBATGABAMQEFgBATGABAMQEFgBATGABAMQEFgBATGABAMQEFgBATGABAMQEFgBATGABAMQEFgBATGABAMQEFgBATGABAMQEFgBATGABAMQEFgBATGABAMQEFgBATGABAMQEFgBATGABAMQEFgBATGABAMQEFgBATGABAMQEFgBATGABAMQEFgBATGABAMQEFgBATGABAMQEFgBATGABAMQEFgBATGABAMQEFgBATGABAMQEFgBATGABAMQEFgBATGABAMQEFgBATGABAMQEFgBATGABAMQEFgBATGABAMQEFgBATGABAMQEFgBATGABAMQEFgBATGABAMQEFgBATGABAMQEFgBATGABAMQEFgBATGABAMQEFgBATGABAMQEFgBATGABAMQEFgBATGABAMQEFgBATGABAMQEFgBATGABAMQEFgBATGABAMQEFgBATGABAMQEFgBATGABAMQEFgBATGABAMQEFgBATGABAMQEFgBATGABAMQEFgBATGABAMQEFgBATGABAMQEFgBATGABAMQEFgBATGABAMQEFgBATGABAMQEFgBATGABAMQEFgBATGABAMQEFgBATGABAMQEFgBATGABAMQEFgBATGABAMQEFgBATGABAMQEFgBATGABAMQEFgBATGABAMQEFgBATGABAMQEFgBATGABAMQEFgBATGABAMQEFgBATGABAMQEFgBATGABAMQEFgBATGABAMQEFgBATGABAMQEFgBATGABAMQEFgBATGABAMQEFgBATGABAMQEFgBATGABAMQEFgBATGABAMQEFgBATGABAMQEFgBATGABAMQEFgBATGABAMQEFgBATGABAMQEFgBATGABAMQEFgBATGABAMQEFgBATGABAMQEFgBATGABAMQEFgBATGABAMQEFgBATGABAMQEFgBATGABAMQEFgBATGABAMQEFgBATGABAMQEFgBATGABAMQEFgBATGABAMQEFgBATGABAMQEFgBATGABAMQEFgBATGABAMQEFgBATGABAMQEFgBATGABAMQEFgBATGABAMQEFgBATGABAMQEFgBATGABAMQEFgBATGABAMQEFgBATGABAMQEFgBATGABAMQEFgBATGABAMQEFgBATGABAMQEFgBATGABAMQEFgBATGABAMQEFgBATGABAMQEFgBATGABAMQEFgBATGABAMQEFgBATGABAMQEFgBATGABAMQEFgBATGABAMQEFgBATGABAMQEFgBATGABAMQEFgBATGABAMQEFgBATGABAMQEFgBATGABAMQEFgBATGABAMQEFgBATGABAMQEFgBATGABAMQEFgBATGABAMQEFgBATGABAMQEFgBATGABAMQEFgBATGABAMQEFgBATGABAMQEFgBATGABAMQEFgBATGABAMQEFgBATGABAMQEFgBATGABAMQEFgBATGABAMQEFgBATGABAMQEFgBATGABAMQEFgBATGABAMQEFgBATGABAMQEFgBATGABAMQEFgBATGABAMQEFgBATGABAMQEFgBATGABAMQEFgBATGABAMQEFgBATGABAMQEFgBATGABAMQEFgBATGABAMQEFgBATGABAMQEFgBATGABAMQEFgBATGABAMQEFgBATGABAMQEFgBATGABAMQEFgBATGABAMQEFgBATGABAMQEFgBATGABAMQEFgBATGABAMQEFgBATGABAMQEFgBATGABAMQEFgBATGABAMQEFgBATGABAMQEFgBATGABAMQEFgBATGABAMQEFgBATGABAMQEFgBATGABAMQEFgBATGABAMQEFgBATGABAMQEFgBATGABAMQEFgBATGABAMQEFgBATGABAMQEFgBATGABAMQEFgBATGABAMQEFgBATGABAMQEFgBATGABAMQEFgBATGABAMQEFgBATGABAMQEFgBATGABAMQEFgBATGABAMQEFgBATGABAMQEFgBATGABAMQEFgBATGABAMQEFgBATGABAMQEFgBATGABAMQEFgBATGABAMQEFgBATGABAMQEFgBATGABAMQEFgBATGABAMQEFgBATGABAMQEFgBATGABAMQEFgBATGABAMQEFgBATGABAMQEFgBATGABAMQEFgBATGABAMQEFgBATGABAMQEFgBATGABAMQEFgBATGABAMQEFgBATGABAMQEFgBATGABAMQEFgBATGABAMQEFgBATGABAMQEFgBATGABAMQEFgBATGABAMQEFgBATGABAMQEFgBATGABAMQEFgBATGABAMQEFgBATGABAMQEFgBATGABAMQEFgBATGABAMQEFgBATGABAMQEFgBATGABAMQEFgBATGABAMQEFgBATGABAMQEFgBATGABAMQEFgBATGABAMQEFgBATGABAMQEFgBATGABAMQEFgBATGABAMQEFgBATGABAMQEFgBATGABAMQEFgBATGABAMQEFgBATGABAMQEFgBATGABAMQEFgBATGABAMQEFgBATGABAMQEFgBATGABAMQEFgBATGABAMQEFgBATGABAMQEFgBATGABAMQEFgBATGABAMQEFgBATGABAMQEFgBATGABAMQEFgBATGABAMQEFgBATGABAMQEFgBATGABAMQEFgBATGABAMQEFgBATGABAMQEFgBATGABAMQEFgBATGABAMQEFgBATGABAMQEFgBATGABAMQEFgBATGABAMQEFgBATGABAMQEFgBATGABAMQEFgBATGABAMQEFgBATGABAMQEFgBATGABAMQEFgBATGABAMQEFgBATGABAMQEFgBATGABAMQEFgBAZP1j830E6bUdoD87zoUAAAAASUVORK5CYII='/>"
            ],
            "text/plain": [
              "<xarray.Image (dropoff_latitude: 600, dropoff_longitude: 600)>\n",
              "array([[4278190080, 4278190080, 4278190080, ..., 4278190080, 4278230783,\n",
              "        4278190080],\n",
              "       [4278190080, 4278190080, 4278190080, ..., 4278190080, 4278190080,\n",
              "        4278190080],\n",
              "       [4278190080, 4278190080, 4278190080, ..., 4278190080, 4278190080,\n",
              "        4278190080],\n",
              "       ...,\n",
              "       [4278190080, 4278190080, 4278190080, ..., 4278190080, 4278190080,\n",
              "        4278190080],\n",
              "       [4278190080, 4278190080, 4278190080, ..., 4278190080, 4278190080,\n",
              "        4278190080],\n",
              "       [4278190080, 4278190080, 4278190080, ..., 4278190080, 4278190080,\n",
              "        4278190080]], dtype=uint32)\n",
              "Coordinates:\n",
              "  * dropoff_latitude   (dropoff_latitude) float64 0.03423 0.1027 ... 40.97 41.04\n",
              "  * dropoff_longitude  (dropoff_longitude) float64 -74.31 -74.18 ... -0.06197"
            ]
          },
          "metadata": {
            "tags": []
          },
          "execution_count": 44
        }
      ]
    },
    {
      "cell_type": "markdown",
      "metadata": {
        "id": "f5gMQxVIDmpG",
        "colab_type": "text"
      },
      "source": [
        "Why can't we see anything? Wait, do you see the small dots on the left top? Can that be New York City? Maybe we don't see anything because some people travel very far? or because the dataset has some missing data?"
      ]
    },
    {
      "cell_type": "code",
      "metadata": {
        "id": "iFBPjgxbDmpH",
        "colab_type": "code",
        "colab": {
          "base_uri": "https://localhost:8080/",
          "height": 68
        },
        "outputId": "d62f4342-3cf1-475f-c184-141c3affb6ae"
      },
      "source": [
        "nyctaxi.isna().sum()"
      ],
      "execution_count": 45,
      "outputs": [
        {
          "output_type": "execute_result",
          "data": {
            "text/plain": [
              "dropoff_longitude    0\n",
              "dropoff_latitude     0\n",
              "dtype: int64"
            ]
          },
          "metadata": {
            "tags": []
          },
          "execution_count": 45
        }
      ]
    },
    {
      "cell_type": "code",
      "metadata": {
        "id": "AIY2VNsiDmpI",
        "colab_type": "code",
        "colab": {}
      },
      "source": [
        "nyctaxi.dropna(inplace=True)"
      ],
      "execution_count": 0,
      "outputs": []
    },
    {
      "cell_type": "markdown",
      "metadata": {
        "id": "2MNR9upWDmpK",
        "colab_type": "text"
      },
      "source": [
        "Now there's no NaN in the data. let's try histogram. "
      ]
    },
    {
      "cell_type": "code",
      "metadata": {
        "id": "1-CpT8F4DmpK",
        "colab_type": "code",
        "colab": {
          "base_uri": "https://localhost:8080/",
          "height": 332
        },
        "outputId": "923752dc-c942-458b-bc9e-bdd5a366d5d7"
      },
      "source": [
        "%matplotlib inline\n",
        "nyctaxi.hist()"
      ],
      "execution_count": 47,
      "outputs": [
        {
          "output_type": "execute_result",
          "data": {
            "text/plain": [
              "array([[<matplotlib.axes._subplots.AxesSubplot object at 0x7f5d2fb66d68>,\n",
              "        <matplotlib.axes._subplots.AxesSubplot object at 0x7f5d2fb03cc0>]],\n",
              "      dtype=object)"
            ]
          },
          "metadata": {
            "tags": []
          },
          "execution_count": 47
        },
        {
          "output_type": "display_data",
          "data": {
            "image/png": "[encoded data removed]",
            "text/plain": [
              "<Figure size 432x288 with 2 Axes>"
            ]
          },
          "metadata": {
            "tags": []
          }
        }
      ]
    },
    {
      "cell_type": "markdown",
      "metadata": {
        "id": "kILFuVY4DmpP",
        "colab_type": "text"
      },
      "source": [
        "Ah, there seems to be some outliers, which look like zero. Because lat lng should vary within a very small range, let's filter the data.  "
      ]
    },
    {
      "cell_type": "code",
      "metadata": {
        "id": "oelxpJPwDmpR",
        "colab_type": "code",
        "colab": {}
      },
      "source": [
        "df = nyctaxi[nyctaxi['dropoff_latitude'].between(40.5, 41) & nyctaxi['dropoff_longitude'].between(-74.1, -73.7)]"
      ],
      "execution_count": 0,
      "outputs": []
    },
    {
      "cell_type": "code",
      "metadata": {
        "id": "OfZKwYRbDmpT",
        "colab_type": "code",
        "colab": {
          "base_uri": "https://localhost:8080/",
          "height": 332
        },
        "outputId": "33cf4bf3-e73f-43df-ff15-defe886bf06a"
      },
      "source": [
        "df.hist()"
      ],
      "execution_count": 38,
      "outputs": [
        {
          "output_type": "execute_result",
          "data": {
            "text/plain": [
              "array([[<matplotlib.axes._subplots.AxesSubplot object at 0x7f5d327b0748>,\n",
              "        <matplotlib.axes._subplots.AxesSubplot object at 0x7f5d2fbac4e0>]],\n",
              "      dtype=object)"
            ]
          },
          "metadata": {
            "tags": []
          },
          "execution_count": 38
        },
        {
          "output_type": "display_data",
          "data": {
            "image/png": "[encoded data removed]",
            "text/plain": [
              "<Figure size 432x288 with 2 Axes>"
            ]
          },
          "metadata": {
            "tags": []
          }
        }
      ]
    },
    {
      "cell_type": "markdown",
      "metadata": {
        "id": "vIFw0YbhDmpY",
        "colab_type": "text"
      },
      "source": [
        "Now the histograms look pretty reasonable. "
      ]
    },
    {
      "cell_type": "code",
      "metadata": {
        "id": "aFGoSNTEDmpb",
        "colab_type": "code",
        "colab": {
          "base_uri": "https://localhost:8080/",
          "height": 623
        },
        "outputId": "9c1cd4b6-bbdc-4b0c-a313-df0a3b1f4af1"
      },
      "source": [
        "agg = ds.Canvas().points(df, 'dropoff_longitude', 'dropoff_latitude')\n",
        "tf.set_background(tf.shade(agg, cmap=fire), \"black\")"
      ],
      "execution_count": 49,
      "outputs": [
        {
          "output_type": "execute_result",
          "data": {
            "image/png": "[encoded data removed]",
            "text/html": [
              "<img style=\"margin: auto; border:1px solid\" src='data:image/png;base64,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'/>"
            ],
            "text/plain": [
              "<xarray.Image (dropoff_latitude: 600, dropoff_longitude: 600)>\n",
              "array([[4278190080, 4278190080, 4278190080, ..., 4278190080, 4278190080,\n",
              "        4278190080],\n",
              "       [4278190080, 4278190080, 4278190080, ..., 4278190080, 4278190080,\n",
              "        4278190080],\n",
              "       [4278190080, 4278190080, 4278190080, ..., 4278190080, 4278190080,\n",
              "        4278190080],\n",
              "       ...,\n",
              "       [4278190080, 4278190080, 4278190080, ..., 4278190080, 4278190080,\n",
              "        4278190080],\n",
              "       [4278190080, 4278190080, 4278190080, ..., 4278190080, 4278190080,\n",
              "        4278190080],\n",
              "       [4278190080, 4278190080, 4278190080, ..., 4278190080, 4278190080,\n",
              "        4278190080]], dtype=uint32)\n",
              "Coordinates:\n",
              "  * dropoff_latitude   (dropoff_latitude) float64 40.58 40.58 ... 40.98 40.98\n",
              "  * dropoff_longitude  (dropoff_longitude) float64 -74.09 -74.09 ... -73.71"
            ]
          },
          "metadata": {
            "tags": []
          },
          "execution_count": 49
        }
      ]
    },
    {
      "cell_type": "markdown",
      "metadata": {
        "id": "IRKV-WF9Dmpd",
        "colab_type": "text"
      },
      "source": [
        "Do you see the black empty space at the center? That looks like the Central Park. This is cool, but it'll be awesome if we can explore the data interactively. "
      ]
    },
    {
      "cell_type": "markdown",
      "metadata": {
        "id": "AtRDv8vLDmpf",
        "colab_type": "text"
      },
      "source": [
        "Ok, now let's get serious by loading the whole dataset. It may take some time. Drop NaN rows, and filter using the latitude and longitude range that we used, and then feed the data into the datashader. "
      ]
    },
    {
      "cell_type": "code",
      "metadata": {
        "id": "8yh0HrtMDmpf",
        "colab_type": "code",
        "colab": {}
      },
      "source": [
        "# Implement \n",
        "\n",
        "# Load full dataset\n",
        "nyctaxi_full_dataset = pd.read_csv('/content/drive/My Drive/nyc_taxi_data_2014.csv', usecols=['dropoff_longitude', 'dropoff_latitude'])\n",
        "# Drop NAs\n",
        "nyctaxi_full_dataset.dropna(inplace=True)\n",
        "# Filter lat/lng\n",
        "df_full_dataset = nyctaxi_full_dataset[nyctaxi_full_dataset['dropoff_latitude'].between(40.5, 41) & nyctaxi_full_dataset['dropoff_longitude'].between(-74.1, -73.7)]"
      ],
      "execution_count": 0,
      "outputs": []
    },
    {
      "cell_type": "markdown",
      "metadata": {
        "id": "g7lmGrHsDmph",
        "colab_type": "text"
      },
      "source": [
        "Can you feed the data directly to datashader to reproduce the static plot, this time with the full data?"
      ]
    },
    {
      "cell_type": "code",
      "metadata": {
        "id": "vSr1A3VqDmpl",
        "colab_type": "code",
        "colab": {
          "base_uri": "https://localhost:8080/",
          "height": 623
        },
        "outputId": "daf04ce5-f4bd-4679-e429-7afd2cf52638"
      },
      "source": [
        "# Implement\n",
        "agg = ds.Canvas().points(df_full_dataset, 'dropoff_longitude', 'dropoff_latitude')\n",
        "tf.set_background(tf.shade(agg, cmap=fire), \"black\")"
      ],
      "execution_count": 55,
      "outputs": [
        {
          "output_type": "execute_result",
          "data": {
            "image/png": "[encoded data removed]",
            "text/html": [
              "<img style=\"margin: auto; border:1px solid\" src='data:image/png;base64,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'/>"
            ],
            "text/plain": [
              "<xarray.Image (dropoff_latitude: 600, dropoff_longitude: 600)>\n",
              "array([[4278190080, 4278190080, 4278190080, ..., 4278190080, 4278190080,\n",
              "        4278190080],\n",
              "       [4278190080, 4278190080, 4278190080, ..., 4278190080, 4278190080,\n",
              "        4278190080],\n",
              "       [4278190080, 4278190080, 4278190080, ..., 4278190080, 4278190080,\n",
              "        4278190080],\n",
              "       ...,\n",
              "       [4278190080, 4278190080, 4278190080, ..., 4278190080, 4278190080,\n",
              "        4278190080],\n",
              "       [4278190080, 4278190080, 4278190080, ..., 4278190080, 4278190080,\n",
              "        4278190080],\n",
              "       [4278190080, 4278190080, 4278190080, ..., 4278190080, 4278190080,\n",
              "        4278190080]], dtype=uint32)\n",
              "Coordinates:\n",
              "  * dropoff_latitude   (dropoff_latitude) float64 40.5 40.5 40.5 ... 41.0 41.0\n",
              "  * dropoff_longitude  (dropoff_longitude) float64 -74.1 -74.1 ... -73.7 -73.7"
            ]
          },
          "metadata": {
            "tags": []
          },
          "execution_count": 55
        }
      ]
    },
    {
      "cell_type": "markdown",
      "metadata": {
        "id": "-vtNyOGJDmpp",
        "colab_type": "text"
      },
      "source": [
        "Wow, that's fast. Also it looks cool! "
      ]
    },
    {
      "cell_type": "markdown",
      "metadata": {
        "id": "OcWSgDaXDmpq",
        "colab_type": "text"
      },
      "source": [
        "**Q: how many rows (data points) are we visualizing right now?**"
      ]
    },
    {
      "cell_type": "code",
      "metadata": {
        "id": "34DezIRDDmpq",
        "colab_type": "code",
        "colab": {
          "base_uri": "https://localhost:8080/",
          "height": 51
        },
        "outputId": "4634b539-e07f-4d5e-db67-59e91ffeb887"
      },
      "source": [
        "# figure it out\n",
        "rows,cols=df_full_dataset.shape\n",
        "print('Nuber of rows in dataset: {0}'.format(rows))\n",
        "print('Nuber of columns in dataset: {0}'.format(cols))\n",
        "\n",
        "# Number of rows in full dataset: 14,751,421"
      ],
      "execution_count": 59,
      "outputs": [
        {
          "output_type": "stream",
          "text": [
            "Nuber of rows in dataset: 14751421\n",
            "Nuber of columns in dataset: 2\n"
          ],
          "name": "stdout"
        }
      ]
    },
    {
      "cell_type": "markdown",
      "metadata": {
        "id": "7cHW7xsfDmps",
        "colab_type": "text"
      },
      "source": [
        "We're working with ?? rows (points) right now. Yet, datashader + holoviews + bokeh renders everything almost in real time! "
      ]
    },
    {
      "cell_type": "markdown",
      "metadata": {
        "id": "L_FWcx9RDmps",
        "colab_type": "text"
      },
      "source": [
        "## map overlays\n",
        "\n",
        "Another useful types of visualization is overlaying data on an explorable map (Google maps, Open streetmap, ...). [Leaflet.js](https://leafletjs.com) is one of the easiest options to do that on the web, and there is a Python bridge of it: https://github.com/jupyter-widgets/ipyleaflet  Although we will not go into details, it's certainly something that's worth checking out if you're using geographical data. "
      ]
    }
  ]
}