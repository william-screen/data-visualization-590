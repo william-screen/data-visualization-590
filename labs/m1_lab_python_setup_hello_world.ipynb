{
  "nbformat": 4,
  "nbformat_minor": 0,
  "metadata": {
    "colab": {
      "name": "m1-lab-python-setup-hello-world.ipynb",
      "version": "0.3.2",
      "provenance": [],
      "include_colab_link": true
    },
    "kernelspec": {
      "name": "python3",
      "display_name": "Python 3"
    }
  },
  "cells": [
    {
      "cell_type": "markdown",
      "metadata": {
        "id": "view-in-github",
        "colab_type": "text"
      },
      "source": [
        "<a href=\"https://colab.research.google.com/github/william-screen/data-visualization-590/blob/master/labs/m1_lab_python_setup_hello_world.ipynb\" target=\"_parent\"><img src=\"https://colab.research.google.com/assets/colab-badge.svg\" alt=\"Open In Colab\"/></a>"
      ]
    },
    {
      "cell_type": "markdown",
      "metadata": {
        "id": "X74hp_iyoR9v",
        "colab_type": "text"
      },
      "source": [
        "# Python Setup\n",
        "\n",
        "Hello World with Python\n",
        "\n",
        "By: [Bill Screen](wscreen@iu.edu) | Indiana University | Data Visualization | Summer 2019"
      ]
    },
    {
      "cell_type": "code",
      "metadata": {
        "id": "ThUlhQ8QoN0_",
        "colab_type": "code",
        "outputId": "3aa261e3-8334-4332-cebc-95234d4d556a",
        "colab": {
          "base_uri": "https://localhost:8080/",
          "height": 34
        }
      },
      "source": [
        "print('Hello world!')"
      ],
      "execution_count": 2,
      "outputs": [
        {
          "output_type": "stream",
          "text": [
            "Hello world!\n"
          ],
          "name": "stdout"
        }
      ]
    }
  ]
}