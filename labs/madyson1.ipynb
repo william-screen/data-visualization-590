{
  "nbformat": 4,
  "nbformat_minor": 0,
  "metadata": {
    "colab": {
      "name": "madyson1.ipynb",
      "version": "0.3.2",
      "provenance": [],
      "include_colab_link": true
    },
    "kernelspec": {
      "name": "python3",
      "display_name": "Python 3"
    }
  },
  "cells": [
    {
      "cell_type": "markdown",
      "metadata": {
        "id": "view-in-github",
        "colab_type": "text"
      },
      "source": [
        "<a href=\"https://colab.research.google.com/github/william-screen/data-visualization-590/blob/master/labs/madyson1.ipynb\" target=\"_parent\"><img src=\"https://colab.research.google.com/assets/colab-badge.svg\" alt=\"Open In Colab\"/></a>"
      ]
    },
    {
      "cell_type": "markdown",
      "metadata": {
        "id": "NjxA9iEGXugG",
        "colab_type": "text"
      },
      "source": [
        "#Hello Madyson\n",
        "\n",
        "This is the title of my Juypter notebook\n"
      ]
    },
    {
      "cell_type": "code",
      "metadata": {
        "id": "g_0VXlirXEkD",
        "colab_type": "code",
        "colab": {
          "base_uri": "https://localhost:8080/",
          "height": 34
        },
        "outputId": "d9d637f4-119f-43e2-cdd1-7670a30263eb"
      },
      "source": [
        "age = 22\n",
        "print('hello madyson. my age is {0}'.format(age))"
      ],
      "execution_count": 1,
      "outputs": [
        {
          "output_type": "stream",
          "text": [
            "hello madyson. my age is 22\n"
          ],
          "name": "stdout"
        }
      ]
    }
  ]
}